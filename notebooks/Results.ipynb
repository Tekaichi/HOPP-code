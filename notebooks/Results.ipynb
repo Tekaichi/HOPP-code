{
 "cells": [
  {
   "cell_type": "code",
   "execution_count": 12,
   "id": "julian-seeking",
   "metadata": {},
   "outputs": [],
   "source": [
    "import pandas as pd\n",
    "import os"
   ]
  },
  {
   "cell_type": "code",
   "execution_count": 13,
   "id": "through-favorite",
   "metadata": {},
   "outputs": [],
   "source": [
    "import glob"
   ]
  },
  {
   "cell_type": "code",
   "execution_count": 14,
   "id": "mineral-ontario",
   "metadata": {},
   "outputs": [],
   "source": [
    "files = glob.glob(\"results/**/SW-*\",recursive=True)"
   ]
  },
  {
   "cell_type": "code",
   "execution_count": 15,
   "id": "productive-corporation",
   "metadata": {},
   "outputs": [],
   "source": [
    "folder = {}"
   ]
  },
  {
   "cell_type": "code",
   "execution_count": 16,
   "id": "outer-hydrogen",
   "metadata": {},
   "outputs": [],
   "source": [
    "for file in files:\n",
    "    directory = '.'.join(file.split('/')[:-1])\n",
    "    try:\n",
    "        folder[directory].append(pd.read_pickle(file).T)\n",
    "    except KeyError:\n",
    "        folder[directory] = [pd.read_pickle(file).T]\n",
    "    #os.remove(file)\n",
    "from ast import literal_eval\n",
    "\n",
    "append  ={}\n",
    "#metrics = glob.glob(\"metrics/*\",recursive=True)\n",
    "#for metric in metrics:\n",
    "#    append[f'results.{metric.split(\"/\")[1][:-4]}']=pd.read_csv(metric,index_col=0,dtype=object)\n"
   ]
  },
  {
   "cell_type": "code",
   "execution_count": 17,
   "id": "cubic-encounter",
   "metadata": {},
   "outputs": [],
   "source": [
    "to_series= lambda x: pd.Series(x) if type(x) is dict else pd.Series(literal_eval(x.replace('array(','').replace(', dtype=float32)','')))"
   ]
  },
  {
   "cell_type": "raw",
   "id": "variable-algebra",
   "metadata": {},
   "source": [
    "#'hack'\n",
    "metrics = glob.glob(\"metrics/*.ancestry:no.csv\",recursive=True)\n",
    "for metric in metrics:\n",
    "    name = metric[:-4].replace(':no',':partial')\n",
    "    pd.read_csv(metric,index_col=0,dtype=object).to_csv(f'{name}.csv')\n",
    "    os.remove(metric)\n",
    "    \n",
    "#add ancestry to paths.."
   ]
  },
  {
   "cell_type": "code",
   "execution_count": 18,
   "id": "democratic-habitat",
   "metadata": {},
   "outputs": [],
   "source": [
    "#TODO\n",
    "#Delete pickles\n",
    "# phenotype.py check in this file if model already exists..\n",
    "for key in folder:\n",
    "    #print('New',key)\n",
    "    append[key] = pd.concat(folder[key]).sort_index()\n",
    "    #try:\n",
    "    #    old = pd.read_csv(f'./metrics/{key[8:]}.csv',index_col=0)\n",
    "    #    append[key] = pd.concat((append[key],old))\n",
    "    #    append[key] = append[key].groupby(append[key].index).first()\n",
    "    #except FileNotFoundError:\n",
    "    #    print(key[8:],'does not exist')\n",
    "    #append[key].to_csv(f'./metrics/{key[8:]}.csv')"
   ]
  },
  {
   "cell_type": "code",
   "execution_count": 19,
   "id": "powered-expansion",
   "metadata": {},
   "outputs": [],
   "source": [
    "def get_keys(target:str,keys:list):\n",
    "    lst = keys\n",
    "    res = []\n",
    "    for item in lst:\n",
    "        if target in item:\n",
    "            res.append(item)\n",
    "    return res"
   ]
  },
  {
   "cell_type": "code",
   "execution_count": 20,
   "id": "representative-joyce",
   "metadata": {},
   "outputs": [],
   "source": [
    "lst = list(append.keys())"
   ]
  },
  {
   "cell_type": "code",
   "execution_count": 21,
   "id": "multiple-honey",
   "metadata": {},
   "outputs": [],
   "source": [
    "def get_default(dataset):\n",
    "    dataset = get_keys(dataset,lst)\n",
    "    phenotype = get_keys('phenotype',dataset)\n",
    "    ccs = get_keys('ccs',phenotype)\n",
    "    dropout = get_keys('dropout',ccs)\n",
    "    e_25 = get_keys('25.256',dropout)\n",
    "    return e_25"
   ]
  },
  {
   "cell_type": "code",
   "execution_count": 24,
   "id": "plain-wireless",
   "metadata": {},
   "outputs": [],
   "source": [
    "import pickle"
   ]
  },
  {
   "cell_type": "code",
   "execution_count": 25,
   "id": "parallel-seven",
   "metadata": {},
   "outputs": [],
   "source": [
    "pickle.dump(append, open(\"results.pk\", \"wb\"))"
   ]
  },
  {
   "cell_type": "code",
   "execution_count": 22,
   "id": "congressional-arlington",
   "metadata": {},
   "outputs": [
    {
     "data": {
      "text/plain": [
       "{\"results.eICU.['diagnoses'].['phenotype'].replicate.its:1.dropout.ccs.[283].25.256.ancestry:full\":                    epochs                                               loss  \\\n",
       " SW-Phenotype-0-256     24  [0.07494156872448714, 0.06112751048868117, 0.0...   \n",
       " SW-Phenotype-0-512     24  [0.07076586612864681, 0.059768562893504684, 0....   \n",
       " SW-Phenotype-1-512     24  [0.06492768471007762, 0.05874862546182197, 0.0...   \n",
       " SW-Phenotype-2-512     24  [0.06382194760700931, 0.0589814774044182, 0.05...   \n",
       " \n",
       "                                                             phenotype  \\\n",
       " SW-Phenotype-0-256  {'R@5': 0.4761911, 'P@5': 0.29590523, 'R@10': ...   \n",
       " SW-Phenotype-0-512  {'R@5': 0.4781183, 'P@5': 0.2947206, 'R@10': 0...   \n",
       " SW-Phenotype-1-512  {'R@5': 0.48199847, 'P@5': 0.29482362, 'R@10':...   \n",
       " SW-Phenotype-2-512  {'R@5': 0.47053394, 'P@5': 0.28740665, 'R@10':...   \n",
       " \n",
       "                            time  \n",
       " SW-Phenotype-0-256  1800.030812  \n",
       " SW-Phenotype-0-512  2711.575902  \n",
       " SW-Phenotype-1-512  3022.900575  \n",
       " SW-Phenotype-2-512  3531.319691  ,\n",
       " \"results.eICU.['diagnoses'].['phenotype'].normal.its:1.masking.ccs.[283].25.256.ancestry:full\":                    epochs                                               loss  \\\n",
       " SW-Phenotype-1-512     24  [0.0654211365820273, 0.05943560171062532, 0.05...   \n",
       " \n",
       "                                                             phenotype  \\\n",
       " SW-Phenotype-1-512  {'R@5': 0.4684823, 'P@5': 0.28261656, 'R@10': ...   \n",
       " \n",
       "                            time  \n",
       " SW-Phenotype-1-512  3019.525817  ,\n",
       " \"results.eICU.['diagnoses'].['phenotype'].normal.its:1.dropout.cat_level.[184].25.256.ancestry:full\":                    epochs                                               loss  \\\n",
       " SW-Phenotype-0-128     24  [0.09882696426433066, 0.07591881262867348, 0.0...   \n",
       " SW-Phenotype-0-50      24  [0.10379854249565498, 0.08636076473023581, 0.0...   \n",
       " SW-Phenotype-1-128     24  [0.08499550625034001, 0.07225994846743086, 0.0...   \n",
       " SW-Phenotype-1-256     24  [0.08080980570419975, 0.07098236615243166, 0.0...   \n",
       " SW-Phenotype-1-50      24  [0.09313581916301147, 0.07346037467536719, 0.0...   \n",
       " SW-Phenotype-2-128     24  [0.08162398854999439, 0.07254471046769101, 0.0...   \n",
       " SW-Phenotype-2-256     24  [0.07858273548924405, 0.07113066032204939, 0.0...   \n",
       " SW-Phenotype-2-50      24  [0.08741339668631554, 0.07344436467341754, 0.0...   \n",
       " SW-Phenotype-3-128     24  [0.08016088021838147, 0.07282166263979414, 0.0...   \n",
       " SW-Phenotype-3-256     24  [0.07762614232690437, 0.07172113592210023, 0.0...   \n",
       " SW-Phenotype-3-50      24  [0.085804614521887, 0.07359113560422607, 0.073...   \n",
       " \n",
       "                                                             phenotype  \\\n",
       " SW-Phenotype-0-128  {'R@5': 0.5844837, 'P@5': 0.33674997, 'R@10': ...   \n",
       " SW-Phenotype-0-50   {'R@5': 0.5744743, 'P@5': 0.3315993, 'R@10': 0...   \n",
       " SW-Phenotype-1-128  {'R@5': 0.59581083, 'P@5': 0.34190062, 'R@10':...   \n",
       " SW-Phenotype-1-256  {'R@5': 0.59502536, 'P@5': 0.34190062, 'R@10':...   \n",
       " SW-Phenotype-1-50   {'R@5': 0.5885055, 'P@5': 0.33844966, 'R@10': ...   \n",
       " SW-Phenotype-2-128  {'R@5': 0.5941626, 'P@5': 0.34117952, 'R@10': ...   \n",
       " SW-Phenotype-2-256  {'R@5': 0.59324414, 'P@5': 0.34097347, 'R@10':...   \n",
       " SW-Phenotype-2-50   {'R@5': 0.58884454, 'P@5': 0.33896473, 'R@10':...   \n",
       " SW-Phenotype-3-128  {'R@5': 0.5964117, 'P@5': 0.3426732, 'R@10': 0...   \n",
       " SW-Phenotype-3-256  {'R@5': 0.58643234, 'P@5': 0.3376771, 'R@10': ...   \n",
       " SW-Phenotype-3-50   {'R@5': 0.5859258, 'P@5': 0.33793458, 'R@10': ...   \n",
       " \n",
       "                            time  \n",
       " SW-Phenotype-0-128  1308.673375  \n",
       " SW-Phenotype-0-50    984.415689  \n",
       " SW-Phenotype-1-128  1467.997473  \n",
       " SW-Phenotype-1-256  2023.786846  \n",
       " SW-Phenotype-1-50   1066.393254  \n",
       " SW-Phenotype-2-128   1443.97173  \n",
       " SW-Phenotype-2-256  2176.885384  \n",
       " SW-Phenotype-2-50    1109.05834  \n",
       " SW-Phenotype-3-128  1661.071696  \n",
       " SW-Phenotype-3-256  2326.547694  \n",
       " SW-Phenotype-3-50   1090.407512  ,\n",
       " \"results.eICU.['diagnoses'].['phenotype'].normal.its:1.dropout.ccs.[283].25.256.ancestry:partial\":                    epochs                                               loss  \\\n",
       " SW-Phenotype-1-512     24  [0.06482653425115606, 0.059089590025984726, 0....   \n",
       " \n",
       "                                                             phenotype  \\\n",
       " SW-Phenotype-1-512  {'R@5': 0.462602, 'P@5': 0.2822045, 'R@10': 0....   \n",
       " \n",
       "                            time  \n",
       " SW-Phenotype-1-512  2963.399267  ,\n",
       " \"results.eICU.['diagnoses'].['phenotype'].normal.its:1.dropout.ccs.[283].25.256.ancestry:full\":                    epochs                                               loss  \\\n",
       " SW-Phenotype-0-128     24  [0.07939154444181401, 0.0636696843025477, 0.06...   \n",
       " SW-Phenotype-0-512     24  [0.07125809076039688, 0.0602608852736328, 0.05...   \n",
       " SW-Phenotype-1-128     24  [0.06998300609057365, 0.06126352253815402, 0.0...   \n",
       " SW-Phenotype-1-50      24  [0.07579491659998894, 0.06232604497800703, 0.0...   \n",
       " SW-Phenotype-1-512     24  [0.06519405932530113, 0.059394088371292404, 0....   \n",
       " SW-Phenotype-2-128     24  [0.06771942503426386, 0.06151957226836163, 0.0...   \n",
       " SW-Phenotype-2-50      24  [0.07185100561574749, 0.062111930921673775, 0....   \n",
       " SW-Phenotype-2-512     24  [0.0644052583400322, 0.05968916270395984, 0.05...   \n",
       " SW-Phenotype-3-128     24  [0.06704426791680895, 0.06177877804831318, 0.0...   \n",
       " \n",
       "                                                             phenotype  \\\n",
       " SW-Phenotype-0-128  {'R@5': 0.4658297, 'P@5': 0.28647953, 'R@10': ...   \n",
       " SW-Phenotype-0-512  {'R@5': 0.46784273, 'P@5': 0.286222, 'R@10': 0...   \n",
       " SW-Phenotype-1-128  {'R@5': 0.47818267, 'P@5': 0.29121816, 'R@10':...   \n",
       " SW-Phenotype-1-50   {'R@5': 0.46397117, 'P@5': 0.28287408, 'R@10':...   \n",
       " SW-Phenotype-1-512  {'R@5': 0.456434, 'P@5': 0.2807623, 'R@10': 0....   \n",
       " SW-Phenotype-2-128  {'R@5': 0.4799339, 'P@5': 0.29229978, 'R@10': ...   \n",
       " SW-Phenotype-2-50   {'R@5': 0.46854666, 'P@5': 0.28771567, 'R@10':...   \n",
       " SW-Phenotype-2-512  {'R@5': 0.4478067, 'P@5': 0.27550864, 'R@10': ...   \n",
       " SW-Phenotype-3-128  {'R@5': 0.4734827, 'P@5': 0.28941542, 'R@10': ...   \n",
       " \n",
       "                            time  \n",
       " SW-Phenotype-0-128  1150.312887  \n",
       " SW-Phenotype-0-512  2772.613118  \n",
       " SW-Phenotype-1-128  1203.425236  \n",
       " SW-Phenotype-1-50   1170.633155  \n",
       " SW-Phenotype-1-512  3431.784346  \n",
       " SW-Phenotype-2-128  1312.195989  \n",
       " SW-Phenotype-2-50   1089.043481  \n",
       " SW-Phenotype-2-512   3661.40556  \n",
       " SW-Phenotype-3-128  1303.628683  ,\n",
       " \"results.eICU.['diagnoses'].['phenotype'].normal.its:1.dropout.ccs.[283].25.256.ancestry:no\":                    epochs                                               loss  \\\n",
       " SW-Phenotype-1-512     24  [0.06435048701646535, 0.05901240444053774, 0.0...   \n",
       " \n",
       "                                                             phenotype  \\\n",
       " SW-Phenotype-1-512  {'R@5': 0.43675426, 'P@5': 0.2704095, 'R@10': ...   \n",
       " \n",
       "                            time  \n",
       " SW-Phenotype-1-512  3076.245395  ,\n",
       " \"results.eICU.['diagnoses'].['phenotype'].normal.its:1.dropout.icd9_level3.[1778].25.256.ancestry:full\":                    epochs                                               loss  \\\n",
       " SW-Phenotype-1-512     24  [0.012043951848602814, 0.010122649999254423, 0...   \n",
       " \n",
       "                                                             phenotype  \\\n",
       " SW-Phenotype-1-512  {'R@5': 0.47489917, 'P@5': 0.28627354, 'R@10':...   \n",
       " \n",
       "                            time  \n",
       " SW-Phenotype-1-512  2982.174246  ,\n",
       " \"results.eICU.['diagnoses'].['phenotype'].normal.its:1.dropout.all.[14567].25.256.ancestry:full\":                    epochs                                               loss  \\\n",
       " SW-Phenotype-0-256     24  [0.0033088488676382794, 0.002322470270724886, ...   \n",
       " SW-Phenotype-0-512     24  [0.0031918136645918307, 0.0020345896381236935,...   \n",
       " SW-Phenotype-1-512     24  [0.0024906808368699708, 0.001853790549237443, ...   \n",
       " SW-Phenotype-2-256     24  [0.002385273671951955, 0.001864056887469538, 0...   \n",
       " SW-Phenotype-3-256     24  [0.0022945318816472654, 0.0018706042344843888,...   \n",
       " \n",
       "                                                             phenotype  \\\n",
       " SW-Phenotype-0-256  {'R@5': 0.36582538, 'P@5': 0.25052795, 'R@10':...   \n",
       " SW-Phenotype-0-512  {'R@5': 0.3658683, 'P@5': 0.250734, 'R@10': 0....   \n",
       " SW-Phenotype-1-512  {'R@5': 0.36861104, 'P@5': 0.2517641, 'R@10': ...   \n",
       " SW-Phenotype-2-256  {'R@5': 0.3611898, 'P@5': 0.24599537, 'R@10': ...   \n",
       " SW-Phenotype-3-256  {'R@5': 0.35641688, 'P@5': 0.24635592, 'R@10':...   \n",
       " \n",
       "                            time  \n",
       " SW-Phenotype-0-256  1803.907977  \n",
       " SW-Phenotype-0-512  3038.799383  \n",
       " SW-Phenotype-1-512  3303.961029  \n",
       " SW-Phenotype-2-256  2064.802593  \n",
       " SW-Phenotype-3-256  2242.751935  ,\n",
       " \"results.catastrophic.eicu.['diagnoses'].['phenotype'].normal.its:1.dropout.ccs.[174].25.256.ancestry:full\":                   epochs                                               loss  \\\n",
       " SW-Phenotype-0-50     24  [0.12349226707365454, 0.1104677454000566, 0.10...   \n",
       " \n",
       "                                                            phenotype  \\\n",
       " SW-Phenotype-0-50  {'R@5': 0.4561336, 'P@5': 0.2848828, 'R@10': 0...   \n",
       " \n",
       "                          time  \n",
       " SW-Phenotype-0-50  888.141625  ,\n",
       " \"results.catastrophic.eicu.['diagnoses'].['phenotype'].normal.its:1.dropout.ccs.[283].25.256.ancestry:full\":                    epochs                                               loss  \\\n",
       " SW-Phenotype-0-256     24  [0.08716573140450887, 0.08562329411506653, 0.0...   \n",
       " SW-Phenotype-0-512     24  [0.08715076850993293, 0.08402760433299201, 0.0...   \n",
       " SW-Phenotype-1-256     24  [0.08607206280742373, 0.07504943438938685, 0.0...   \n",
       " SW-Phenotype-1-512     24  [0.08382872811385564, 0.0676941882286753, 0.06...   \n",
       " SW-Phenotype-2-256     24  [0.08424817132098335, 0.06767962021487099, 0.0...   \n",
       " SW-Phenotype-2-512     24  [0.06433725595856324, 0.05985023052646564, 0.0...   \n",
       " SW-Phenotype-3-256     24  [0.08144670299121312, 0.06678849245820727, 0.0...   \n",
       " \n",
       "                                                             phenotype  \\\n",
       " SW-Phenotype-0-256  {'R@5': 0.44252297, 'P@5': 0.2764358, 'R@10': ...   \n",
       " SW-Phenotype-0-512  {'R@5': 0.45483306, 'P@5': 0.28210148, 'R@10':...   \n",
       " SW-Phenotype-1-256  {'R@5': 0.45181993, 'P@5': 0.27947462, 'R@10':...   \n",
       " SW-Phenotype-1-512  {'R@5': 0.45038635, 'P@5': 0.27849606, 'R@10':...   \n",
       " SW-Phenotype-2-256  {'R@5': 0.4437377, 'P@5': 0.27344838, 'R@10': ...   \n",
       " SW-Phenotype-2-512  {'R@5': 0.45696628, 'P@5': 0.28101984, 'R@10':...   \n",
       " SW-Phenotype-3-256  {'R@5': 0.4405829, 'P@5': 0.27174863, 'R@10': ...   \n",
       " \n",
       "                            time  \n",
       " SW-Phenotype-0-256   297.967617  \n",
       " SW-Phenotype-0-512   448.552373  \n",
       " SW-Phenotype-1-256   307.749765  \n",
       " SW-Phenotype-1-512   507.613895  \n",
       " SW-Phenotype-2-256   337.525416  \n",
       " SW-Phenotype-2-512  3168.584992  \n",
       " SW-Phenotype-3-256   352.474047  ,\n",
       " \"results.all.['diagnoses'].['phenotype'].normal.its:1.dropout.ccs.[283].25.256.ancestry:full\":                    epochs                                               loss  \\\n",
       " SW-Phenotype-0-128     24  [0.11743297340238795, 0.10367316380143166, 0.1...   \n",
       " SW-Phenotype-0-50      24  [0.12351031020721968, 0.1059642586418811, 0.10...   \n",
       " SW-Phenotype-0-512     24  [0.11038848768700571, 0.10053492677124108, 0.0...   \n",
       " SW-Phenotype-1-128     24  [0.11023175311000909, 0.10262075537706122, 0.1...   \n",
       " SW-Phenotype-1-50      24  [0.11428112218923428, 0.10379770288572591, 0.1...   \n",
       " SW-Phenotype-1-512     24  [0.10610941852278569, 0.09939451055491672, 0.0...   \n",
       " SW-Phenotype-2-50      24  [0.11195509836954229, 0.10399890975917087, 0.1...   \n",
       " SW-Phenotype-3-128     24  [0.1080781712251551, 0.10302846571978401, 0.10...   \n",
       " SW-Phenotype-3-50      24  [0.1110381318584961, 0.10418793986387112, 0.10...   \n",
       " \n",
       "                                                             phenotype  \\\n",
       " SW-Phenotype-0-128  {'R@5': 0.503045, 'P@5': 0.3719347, 'R@10': 0....   \n",
       " SW-Phenotype-0-50   {'R@5': 0.4882454, 'P@5': 0.36106288, 'R@10': ...   \n",
       " SW-Phenotype-0-512  {'R@5': 0.5058093, 'P@5': 0.3740188, 'R@10': 0...   \n",
       " SW-Phenotype-1-128  {'R@5': 0.5147389, 'P@5': 0.38075724, 'R@10': ...   \n",
       " SW-Phenotype-1-50   {'R@5': 0.501618, 'P@5': 0.37162206, 'R@10': 0...   \n",
       " SW-Phenotype-1-512  {'R@5': 0.50382656, 'P@5': 0.37082323, 'R@10':...   \n",
       " SW-Phenotype-2-50   {'R@5': 0.4987033, 'P@5': 0.36825287, 'R@10': ...   \n",
       " SW-Phenotype-3-128  {'R@5': 0.50977486, 'P@5': 0.3751997, 'R@10': ...   \n",
       " SW-Phenotype-3-50   {'R@5': 0.49505326, 'P@5': 0.365231, 'R@10': 0...   \n",
       " \n",
       "                            time  \n",
       " SW-Phenotype-0-128  1531.839338  \n",
       " SW-Phenotype-0-50   1216.550616  \n",
       " SW-Phenotype-0-512  4121.081548  \n",
       " SW-Phenotype-1-128  1594.878396  \n",
       " SW-Phenotype-1-50   1243.425896  \n",
       " SW-Phenotype-1-512  4760.810154  \n",
       " SW-Phenotype-2-50   1268.086694  \n",
       " SW-Phenotype-3-128  1762.802866  \n",
       " SW-Phenotype-3-50   1310.912398  ,\n",
       " \"results.mimic.['procedures'].['treatment'].normal.its:1.dropout.ccs.[231].25.256.ancestry:full\":                    epochs                                               loss  \\\n",
       " SW-Phenotype-0-512     24  [0.08628883722581361, 0.07156843535209957, 0.0...   \n",
       " SW-Phenotype-1-512     24  [0.07681852186981, 0.06847986108378361, 0.0672...   \n",
       " SW-Phenotype-2-512     24  [0.07430546377834521, 0.0682988072696485, 0.06...   \n",
       " \n",
       "                           time  \\\n",
       " SW-Phenotype-0-512  362.839902   \n",
       " SW-Phenotype-1-512  405.969893   \n",
       " SW-Phenotype-2-512  433.555946   \n",
       " \n",
       "                                                             treatment  \n",
       " SW-Phenotype-0-512  {'R@5': 0.49355894, 'P@5': 0.28842503, 'R@10':...  \n",
       " SW-Phenotype-1-512  {'R@5': 0.4872971, 'P@5': 0.28285894, 'R@10': ...  \n",
       " SW-Phenotype-2-512  {'R@5': 0.47916928, 'P@5': 0.27931687, 'R@10':...  ,\n",
       " \"results.mimic.['diagnoses'].['mortality'].normal.its:1.dropout.ccs.[1].25.256.ancestry:full\":                    epochs                                               loss  \\\n",
       " SW-Phenotype-0-512     24  [0.35790622843443043, 0.2710794491054368, 0.25...   \n",
       " SW-Phenotype-1-512     24  [0.3080752854147097, 0.2583765838920635, 0.237...   \n",
       " \n",
       "                                                             mortality  \\\n",
       " SW-Phenotype-0-512  {'sensivity': 0.44452247191011235, 'tp': 633, ...   \n",
       " SW-Phenotype-1-512  {'sensivity': 0.4091829844699527, 'tp': 606, '...   \n",
       " \n",
       "                            time  \n",
       " SW-Phenotype-0-512     6285.685  \n",
       " SW-Phenotype-1-512  8110.278678  ,\n",
       " \"results.mimic.['diagnoses'].['phenotype', 'mortality'].normal.its:1.dropout.ccs.[283, 1].25.256.ancestry:full\":                                 epochs  \\\n",
       " SW-Phenotype-0-512-causal:False     24   \n",
       " SW-Phenotype-1-512-causal:False     24   \n",
       " SW-Phenotype-2-512-causal:False     24   \n",
       " \n",
       "                                                                               loss  \\\n",
       " SW-Phenotype-0-512-causal:False  [0.8050465908917513, 0.6813282397660342, 0.651...   \n",
       " SW-Phenotype-1-512-causal:False  [0.7163730561733246, 0.6388853680003773, 0.627...   \n",
       " SW-Phenotype-2-512-causal:False  [0.6865938712250103, 0.6367555802518671, 0.627...   \n",
       " \n",
       "                                                                          mortality  \\\n",
       " SW-Phenotype-0-512-causal:False  {'sensivity': 0.1881720430107527, 'tp': 70, 'f...   \n",
       " SW-Phenotype-1-512-causal:False  {'sensivity': 0.31989247311827956, 'tp': 119, ...   \n",
       " SW-Phenotype-2-512-causal:False  {'sensivity': 0.3548387096774194, 'tp': 132, '...   \n",
       " \n",
       "                                                                          phenotype  \\\n",
       " SW-Phenotype-0-512-causal:False  {'R@5': 0.53900445, 'P@5': 0.51957333, 'R@10':...   \n",
       " SW-Phenotype-1-512-causal:False  {'R@5': 0.49, 'P@5': 0.47306666, 'R@10': 0.461...   \n",
       " SW-Phenotype-2-512-causal:False  {'R@5': 0.46187556, 'P@5': 0.4452267, 'R@10': ...   \n",
       " \n",
       "                                         time  \n",
       " SW-Phenotype-0-512-causal:False  1399.862136  \n",
       " SW-Phenotype-1-512-causal:False  1631.515028  \n",
       " SW-Phenotype-2-512-causal:False  1840.245445  ,\n",
       " \"results.mimic.['diagnoses'].['phenotype', 'mortality'].normal.its:1.dropout.all.[14567, 1].25.256.ancestry:full\":                                 epochs  \\\n",
       " SW-Phenotype-0-128-causal:False     24   \n",
       " SW-Phenotype-0-256-causal:False     24   \n",
       " SW-Phenotype-0-50-causal:False      24   \n",
       " SW-Phenotype-0-512-causal:False     24   \n",
       " SW-Phenotype-1-128-causal:False     24   \n",
       " SW-Phenotype-1-256-causal:False     24   \n",
       " SW-Phenotype-1-50-causal:False      24   \n",
       " SW-Phenotype-1-512-causal:False     24   \n",
       " SW-Phenotype-2-128-causal:False     24   \n",
       " SW-Phenotype-2-256-causal:False     24   \n",
       " SW-Phenotype-2-50-causal:False      24   \n",
       " SW-Phenotype-3-128-causal:False     24   \n",
       " SW-Phenotype-3-256-causal:False     24   \n",
       " SW-Phenotype-3-50-causal:False      24   \n",
       " \n",
       "                                                                               loss  \\\n",
       " SW-Phenotype-0-128-causal:False  [0.6627089787613262, 0.5663478645411405, 0.501...   \n",
       " SW-Phenotype-0-256-causal:False  [0.6472171707586809, 0.5202528658238325, 0.491...   \n",
       " SW-Phenotype-0-50-causal:False   [0.6789923337372866, 0.6330803443085063, 0.572...   \n",
       " SW-Phenotype-0-512-causal:False  [0.5987853123383089, 0.5008693039417267, 0.472...   \n",
       " SW-Phenotype-1-128-causal:False  [0.5696787197481502, 0.4874674799767407, 0.472...   \n",
       " SW-Phenotype-1-256-causal:False  [0.5369990874420513, 0.4777784591371363, 0.460...   \n",
       " SW-Phenotype-1-50-causal:False   [0.6230694895440881, 0.503006400032477, 0.4929...   \n",
       " SW-Phenotype-1-512-causal:False  [0.516727324236523, 0.46023863554000854, 0.448...   \n",
       " SW-Phenotype-2-128-causal:False  [0.5458180972120978, 0.48823602903972974, 0.47...   \n",
       " SW-Phenotype-2-256-causal:False  [0.5324641913175583, 0.48106459054079925, 0.46...   \n",
       " SW-Phenotype-2-50-causal:False   [0.5905910540710796, 0.5003077374263243, 0.492...   \n",
       " SW-Phenotype-3-128-causal:False  [0.5450215014544401, 0.48955395817756653, 0.48...   \n",
       " SW-Phenotype-3-256-causal:False  [0.5204984030940316, 0.4822430935772983, 0.468...   \n",
       " SW-Phenotype-3-50-causal:False   [0.5634427924047817, 0.49981279400261963, 0.49...   \n",
       " \n",
       "                                                                          mortality  \\\n",
       " SW-Phenotype-0-128-causal:False  {'sensivity': 0.15819209039548024, 'tp': 56, '...   \n",
       " SW-Phenotype-0-256-causal:False  {'sensivity': 0.16, 'tp': 56, 'fn': 294, 'fp':...   \n",
       " SW-Phenotype-0-50-causal:False   {'sensivity': 0.04, 'tp': 14, 'fn': 336, 'fp':...   \n",
       " SW-Phenotype-0-512-causal:False  {'sensivity': 0.19428571428571428, 'tp': 68, '...   \n",
       " SW-Phenotype-1-128-causal:False  {'sensivity': 0.2175141242937853, 'tp': 77, 'f...   \n",
       " SW-Phenotype-1-256-causal:False  {'sensivity': 0.4463276836158192, 'tp': 158, '...   \n",
       " SW-Phenotype-1-50-causal:False   {'sensivity': 0.05142857142857143, 'tp': 18, '...   \n",
       " SW-Phenotype-1-512-causal:False  {'sensivity': 0.32285714285714284, 'tp': 113, ...   \n",
       " SW-Phenotype-2-128-causal:False  {'sensivity': 0.3135593220338983, 'tp': 111, '...   \n",
       " SW-Phenotype-2-256-causal:False  {'sensivity': 0.2033898305084746, 'tp': 72, 'f...   \n",
       " SW-Phenotype-2-50-causal:False   {'sensivity': 0.11142857142857143, 'tp': 39, '...   \n",
       " SW-Phenotype-3-128-causal:False  {'sensivity': 0.2033898305084746, 'tp': 72, 'f...   \n",
       " SW-Phenotype-3-256-causal:False  {'sensivity': 0.16101694915254236, 'tp': 57, '...   \n",
       " SW-Phenotype-3-50-causal:False   {'sensivity': 0.06, 'tp': 21, 'fn': 329, 'fp':...   \n",
       " \n",
       "                                                                          phenotype  \\\n",
       " SW-Phenotype-0-128-causal:False  {'R@5': 0.28164446, 'P@5': 0.27946666, 'R@10':...   \n",
       " SW-Phenotype-0-256-causal:False  {'R@5': 0.31494227, 'P@5': 0.3028267, 'R@10': ...   \n",
       " SW-Phenotype-0-50-causal:False   {'R@5': 0.28435558, 'P@5': 0.28149334, 'R@10':...   \n",
       " SW-Phenotype-0-512-causal:False  {'R@5': 0.33786666, 'P@5': 0.32469335, 'R@10':...   \n",
       " SW-Phenotype-1-128-causal:False  {'R@5': 0.2841778, 'P@5': 0.27733335, 'R@10': ...   \n",
       " SW-Phenotype-1-256-causal:False  {'R@5': 0.29472888, 'P@5': 0.28810668, 'R@10':...   \n",
       " SW-Phenotype-1-50-causal:False   {'R@5': 0.28136003, 'P@5': 0.27829337, 'R@10':...   \n",
       " SW-Phenotype-1-512-causal:False  {'R@5': 0.31078222, 'P@5': 0.3008, 'R@10': 0.2...   \n",
       " SW-Phenotype-2-128-causal:False  {'R@5': 0.28329778, 'P@5': 0.27701336, 'R@10':...   \n",
       " SW-Phenotype-2-256-causal:False  {'R@5': 0.2833689, 'P@5': 0.2752, 'R@10': 0.24...   \n",
       " SW-Phenotype-2-50-causal:False   {'R@5': 0.28152892, 'P@5': 0.27861336, 'R@10':...   \n",
       " SW-Phenotype-3-128-causal:False  {'R@5': 0.2783467, 'P@5': 0.27445334, 'R@10': ...   \n",
       " SW-Phenotype-3-256-causal:False  {'R@5': 0.28592002, 'P@5': 0.27872, 'R@10': 0....   \n",
       " SW-Phenotype-3-50-causal:False   {'R@5': 0.27794668, 'P@5': 0.27488, 'R@10': 0....   \n",
       " \n",
       "                                         time  \n",
       " SW-Phenotype-0-128-causal:False   795.599058  \n",
       " SW-Phenotype-0-256-causal:False  1133.294264  \n",
       " SW-Phenotype-0-50-causal:False    659.650864  \n",
       " SW-Phenotype-0-512-causal:False  1695.372324  \n",
       " SW-Phenotype-1-128-causal:False   782.378069  \n",
       " SW-Phenotype-1-256-causal:False  1354.147892  \n",
       " SW-Phenotype-1-50-causal:False    560.601994  \n",
       " SW-Phenotype-1-512-causal:False   1898.96298  \n",
       " SW-Phenotype-2-128-causal:False   792.017343  \n",
       " SW-Phenotype-2-256-causal:False  1267.057136  \n",
       " SW-Phenotype-2-50-causal:False    576.022102  \n",
       " SW-Phenotype-3-128-causal:False   817.634306  \n",
       " SW-Phenotype-3-256-causal:False  1529.644402  \n",
       " SW-Phenotype-3-50-causal:False    575.572535  ,\n",
       " \"results.mimic.['diagnoses'].['phenotype'].replicate.its:1.dropout.ccs.[283].25.256.ancestry:full\":                    epochs                                               loss  \\\n",
       " SW-Phenotype-0-128     24  [0.2287378805604848, 0.21258025751872497, 0.19...   \n",
       " SW-Phenotype-0-256     24  [0.22606286135586826, 0.19947580789977853, 0.1...   \n",
       " SW-Phenotype-0-50      24  [0.23025111176750876, 0.22435906597159125, 0.2...   \n",
       " SW-Phenotype-0-512     24  [0.21983630616556515, 0.19266756082122977, 0.1...   \n",
       " SW-Phenotype-1-128     24  [0.21767171743241223, 0.19270133498040112, 0.1...   \n",
       " SW-Phenotype-1-256     24  [0.20952620966867966, 0.191351209174503, 0.190...   \n",
       " SW-Phenotype-1-50      24  [0.22748138891025024, 0.20158568972891028, 0.1...   \n",
       " SW-Phenotype-1-512     24  [0.2041667476296425, 0.19071130657737906, 0.18...   \n",
       " SW-Phenotype-2-128     24  [0.20962530171329324, 0.19176407564770093, 0.1...   \n",
       " SW-Phenotype-2-256     24  [0.20426251061938025, 0.19122016023505817, 0.1...   \n",
       " SW-Phenotype-2-50      24  [0.2229039641943845, 0.1947107044133273, 0.191...   \n",
       " SW-Phenotype-2-512     24  [0.20056541534987363, 0.19042345000938934, 0.1...   \n",
       " SW-Phenotype-3-128     24  [0.20721332254734906, 0.1918855600736358, 0.19...   \n",
       " SW-Phenotype-3-256     24  [0.20257306437600742, 0.1913725191896612, 0.19...   \n",
       " SW-Phenotype-3-50      24  [0.21840062872930008, 0.19381821765141052, 0.1...   \n",
       " \n",
       "                                                             phenotype  \\\n",
       " SW-Phenotype-0-128  {'R@5': 0.54879117, 'P@5': 0.52885336, 'R@10':...   \n",
       " SW-Phenotype-0-256  {'R@5': 0.58558226, 'P@5': 0.56629336, 'R@10':...   \n",
       " SW-Phenotype-0-50   {'R@5': 0.49374223, 'P@5': 0.4775467, 'R@10': ...   \n",
       " SW-Phenotype-0-512  {'R@5': 0.59938675, 'P@5': 0.57887995, 'R@10':...   \n",
       " SW-Phenotype-1-128  {'R@5': 0.5669422, 'P@5': 0.54421335, 'R@10': ...   \n",
       " SW-Phenotype-1-256  {'R@5': 0.6004711, 'P@5': 0.5793067, 'R@10': 0...   \n",
       " SW-Phenotype-1-50   {'R@5': 0.50733334, 'P@5': 0.48917335, 'R@10':...   \n",
       " SW-Phenotype-1-512  {'R@5': 0.60576004, 'P@5': 0.58474666, 'R@10':...   \n",
       " SW-Phenotype-2-128  {'R@5': 0.5574489, 'P@5': 0.5349334, 'R@10': 0...   \n",
       " SW-Phenotype-2-256  {'R@5': 0.58396447, 'P@5': 0.5633066, 'R@10': ...   \n",
       " SW-Phenotype-2-50   {'R@5': 0.5099467, 'P@5': 0.49077335, 'R@10': ...   \n",
       " SW-Phenotype-2-512  {'R@5': 0.5866578, 'P@5': 0.5640534, 'R@10': 0...   \n",
       " SW-Phenotype-3-128  {'R@5': 0.54532444, 'P@5': 0.52341336, 'R@10':...   \n",
       " SW-Phenotype-3-256  {'R@5': 0.5596978, 'P@5': 0.53962666, 'R@10': ...   \n",
       " SW-Phenotype-3-50   {'R@5': 0.4879467, 'P@5': 0.4692267, 'R@10': 0...   \n",
       " \n",
       "                            time  \n",
       " SW-Phenotype-0-128    560.70434  \n",
       " SW-Phenotype-0-256   893.722744  \n",
       " SW-Phenotype-0-50    442.580952  \n",
       " SW-Phenotype-0-512  1352.103877  \n",
       " SW-Phenotype-1-128   699.916157  \n",
       " SW-Phenotype-1-256   951.213163  \n",
       " SW-Phenotype-1-50    429.107945  \n",
       " SW-Phenotype-1-512  1620.332654  \n",
       " SW-Phenotype-2-128   599.227334  \n",
       " SW-Phenotype-2-256  1024.161358  \n",
       " SW-Phenotype-2-50    442.992974  \n",
       " SW-Phenotype-2-512  1804.476084  \n",
       " SW-Phenotype-3-128   682.241152  \n",
       " SW-Phenotype-3-256   1098.75926  \n",
       " SW-Phenotype-3-50    450.006963  ,\n",
       " \"results.mimic.['diagnoses'].['phenotype'].replicate.its:1.dropout.all.[14567].25.256.ancestry:full\":                    epochs                                               loss  \\\n",
       " SW-Phenotype-0-256     24  [0.00858567248691212, 0.00820307156325064, 0.0...   \n",
       " SW-Phenotype-1-256     24  [0.008147966793992302, 0.005940238585356961, 0...   \n",
       " SW-Phenotype-3-256     24  [0.007139672863889824, 0.005861264484172518, 0...   \n",
       " \n",
       "                                                             phenotype  \\\n",
       " SW-Phenotype-0-256  {'R@5': 0.367254, 'P@5': 0.35579288, 'R@10': 0...   \n",
       " SW-Phenotype-1-256  {'R@5': 0.38376045, 'P@5': 0.3710625, 'R@10': ...   \n",
       " SW-Phenotype-3-256  {'R@5': 0.35301656, 'P@5': 0.34383342, 'R@10':...   \n",
       " \n",
       "                            time  \n",
       " SW-Phenotype-0-256  1148.912591  \n",
       " SW-Phenotype-1-256  1195.685465  \n",
       " SW-Phenotype-3-256  1336.108152  ,\n",
       " \"results.mimic.['diagnoses'].['phenotype'].normal.its:1.masking.ccs.[283].25.256.ancestry:full\":                    epochs                                               loss  \\\n",
       " SW-Phenotype-1-512     24  [0.1947856376116926, 0.18238307467915796, 0.18...   \n",
       " \n",
       "                                                             phenotype  \\\n",
       " SW-Phenotype-1-512  {'R@5': 0.58816886, 'P@5': 0.56288004, 'R@10':...   \n",
       " \n",
       "                            time  \n",
       " SW-Phenotype-1-512  1675.742419  ,\n",
       " \"results.mimic.['diagnoses'].['phenotype'].normal.its:1.dropout.cat_level.[184].25.256.ancestry:full\":                    epochs                                               loss  \\\n",
       " SW-Phenotype-1-512     24  [0.23699890212579208, 0.2158768414096399, 0.21...   \n",
       " \n",
       "                                                             phenotype  \\\n",
       " SW-Phenotype-1-512  {'R@5': 0.6716978, 'P@5': 0.64394665, 'R@10': ...   \n",
       " \n",
       "                            time  \n",
       " SW-Phenotype-1-512  1787.900205  ,\n",
       " \"results.mimic.['diagnoses'].['phenotype'].normal.its:1.dropout.ccs.[263].25.256.ancestry:partial\":                    epochs                                               loss  \\\n",
       " SW-Phenotype-1-512     24  [0.20876627754081378, 0.1966131945902651, 0.19...   \n",
       " \n",
       "                                                             phenotype  \\\n",
       " SW-Phenotype-1-512  {'R@5': 0.59517336, 'P@5': 0.5678934, 'R@10': ...   \n",
       " \n",
       "                            time  \n",
       " SW-Phenotype-1-512  1446.421904  ,\n",
       " \"results.mimic.['diagnoses'].['phenotype'].normal.its:1.dropout.ccs.[283].150.256.ancestry:full\":                   epochs                                               loss  \\\n",
       " SW-Phenotype-2-50    149  [0.21206421608274634, 0.18621507625688205, 0.1...   \n",
       " \n",
       "                                                            phenotype  \\\n",
       " SW-Phenotype-2-50  {'R@5': 0.59084445, 'P@5': 0.5640533, 'R@10': ...   \n",
       " \n",
       "                           time  \n",
       " SW-Phenotype-2-50  2575.875496  ,\n",
       " \"results.mimic.['diagnoses'].['phenotype'].normal.its:1.dropout.ccs.[283].25.256.ancestry:partial\":                    epochs                                               loss  \\\n",
       " SW-Phenotype-0-50      24  [0.22108562900261444, 0.21534438769925723, 0.2...   \n",
       " SW-Phenotype-1-50      24  [0.2174324244260788, 0.19272455437616867, 0.18...   \n",
       " SW-Phenotype-1-512     24  [0.19452644342725928, 0.18245273286646063, 0.1...   \n",
       " \n",
       "                                                             phenotype  \\\n",
       " SW-Phenotype-0-50   {'R@5': 0.49103114, 'P@5': 0.46965337, 'R@10':...   \n",
       " SW-Phenotype-1-50   {'R@5': 0.5220089, 'P@5': 0.49866667, 'R@10': ...   \n",
       " SW-Phenotype-1-512  {'R@5': 0.57080895, 'P@5': 0.55317336, 'R@10':...   \n",
       " \n",
       "                            time  \n",
       " SW-Phenotype-0-50       838.676  \n",
       " SW-Phenotype-1-50    857.831075  \n",
       " SW-Phenotype-1-512  1683.253982  ,\n",
       " \"results.mimic.['diagnoses'].['phenotype'].normal.its:1.dropout.ccs.[283].25.256.ancestry:full\":                    epochs                                               loss  \\\n",
       " SW-Phenotype-0-128     24  [0.21884272450750525, 0.20372137495062567, 0.1...   \n",
       " SW-Phenotype-0-256     24  [0.21587683260440826, 0.19100079888647253, 0.1...   \n",
       " SW-Phenotype-0-50      24  [0.21922127563845029, 0.21355852010575208, 0.2...   \n",
       " SW-Phenotype-0-512     24  [0.21087331934408707, 0.18484263054349206, 0.1...   \n",
       " SW-Phenotype-1-128     24  [0.2072589946064082, 0.18447061695835806, 0.18...   \n",
       " SW-Phenotype-1-256     24  [0.20055819031867114, 0.1830974444746971, 0.18...   \n",
       " SW-Phenotype-1-50      24  [0.21847603876482358, 0.19905274429104544, 0.1...   \n",
       " SW-Phenotype-1-512     24  [0.19562507285313172, 0.18313083255832846, 0.1...   \n",
       " SW-Phenotype-2-128     24  [0.20075011524287137, 0.1837811436165463, 0.18...   \n",
       " SW-Phenotype-2-256     24  [0.1952116469090635, 0.1829775653102181, 0.182...   \n",
       " SW-Phenotype-2-50      24  [0.21250208805907855, 0.18643938140435654, 0.1...   \n",
       " SW-Phenotype-2-512     24  [0.19198023189197888, 0.1831298992037773, 0.18...   \n",
       " SW-Phenotype-3-128     24  [0.1986720020120794, 0.18385610052130438, 0.18...   \n",
       " SW-Phenotype-3-256     24  [0.19464654543183066, 0.1834425926208496, 0.18...   \n",
       " SW-Phenotype-3-50      24  [0.20879306170073422, 0.18578895723277872, 0.1...   \n",
       " \n",
       "                                                             phenotype  \\\n",
       " SW-Phenotype-0-128  {'R@5': 0.5617156, 'P@5': 0.53952, 'R@10': 0.4...   \n",
       " SW-Phenotype-0-256  {'R@5': 0.5958578, 'P@5': 0.57173336, 'R@10': ...   \n",
       " SW-Phenotype-0-50   {'R@5': 0.50344, 'P@5': 0.48394668, 'R@10': 0....   \n",
       " SW-Phenotype-0-512  {'R@5': 0.5918489, 'P@5': 0.56960005, 'R@10': ...   \n",
       " SW-Phenotype-1-128  {'R@5': 0.58863115, 'P@5': 0.5643734, 'R@10': ...   \n",
       " SW-Phenotype-1-256  {'R@5': 0.60353786, 'P@5': 0.57824, 'R@10': 0....   \n",
       " SW-Phenotype-1-50   {'R@5': 0.49352, 'P@5': 0.47957334, 'R@10': 0....   \n",
       " SW-Phenotype-1-512  {'R@5': 0.5981778, 'P@5': 0.5747201, 'R@10': 0...   \n",
       " SW-Phenotype-2-128  {'R@5': 0.5703111, 'P@5': 0.5460267, 'R@10': 0...   \n",
       " SW-Phenotype-2-256  {'R@5': 0.59197336, 'P@5': 0.5666134, 'R@10': ...   \n",
       " SW-Phenotype-2-50   {'R@5': 0.5177156, 'P@5': 0.4993067, 'R@10': 0...   \n",
       " SW-Phenotype-2-512  {'R@5': 0.5705244, 'P@5': 0.5485867, 'R@10': 0...   \n",
       " SW-Phenotype-3-128  {'R@5': 0.55321777, 'P@5': 0.5307734, 'R@10': ...   \n",
       " SW-Phenotype-3-256  {'R@5': 0.5651289, 'P@5': 0.54144, 'R@10': 0.5...   \n",
       " SW-Phenotype-3-50   {'R@5': 0.49181336, 'P@5': 0.47253335, 'R@10':...   \n",
       " \n",
       "                            time  \n",
       " SW-Phenotype-0-128   516.725697  \n",
       " SW-Phenotype-0-256   854.609569  \n",
       " SW-Phenotype-0-50    972.268978  \n",
       " SW-Phenotype-0-512  1502.492541  \n",
       " SW-Phenotype-1-128    536.80248  \n",
       " SW-Phenotype-1-256  1023.782139  \n",
       " SW-Phenotype-1-50    454.043158  \n",
       " SW-Phenotype-1-512  1712.901644  \n",
       " SW-Phenotype-2-128    573.86159  \n",
       " SW-Phenotype-2-256   980.638319  \n",
       " SW-Phenotype-2-50    459.881024  \n",
       " SW-Phenotype-2-512  1925.932966  \n",
       " SW-Phenotype-3-128   893.153342  \n",
       " SW-Phenotype-3-256  1058.953702  \n",
       " SW-Phenotype-3-50    474.481058  ,\n",
       " \"results.mimic.['diagnoses'].['phenotype'].normal.its:1.dropout.ccs.[283].25.256.ancestry:full.unidirected\":                    epochs                                               loss  \\\n",
       " SW-Phenotype-0-128     24  [0.21739612113345752, 0.20225101032040335, 0.1...   \n",
       " SW-Phenotype-0-256     24  [0.21495777368545532, 0.19039645994251425, 0.1...   \n",
       " SW-Phenotype-0-50      24  [0.21874835409901358, 0.21297976577823813, 0.2...   \n",
       " SW-Phenotype-0-512     24  [0.209704728289084, 0.18406192484227094, 0.180...   \n",
       " SW-Phenotype-1-128     24  [0.20649240911006927, 0.1836555227637291, 0.18...   \n",
       " SW-Phenotype-1-256     24  [0.19880947199734775, 0.18224696950478989, 0.1...   \n",
       " SW-Phenotype-1-50      24  [0.2159453102133491, 0.19171801548112521, 0.18...   \n",
       " SW-Phenotype-1-512     24  [0.19480073790658603, 0.182389188896526, 0.180...   \n",
       " SW-Phenotype-2-128     24  [0.20087470452893863, 0.18290368332104248, 0.1...   \n",
       " SW-Phenotype-2-256     24  [0.19443794881755655, 0.18226134844801642, 0.1...   \n",
       " SW-Phenotype-2-50      24  [0.2120880443941463, 0.18574538081884384, 0.18...   \n",
       " SW-Phenotype-3-128     24  [0.19723225859078494, 0.18282291293144226, 0.1...   \n",
       " SW-Phenotype-3-256     24  [0.1935697082768787, 0.18231300670992245, 0.18...   \n",
       " SW-Phenotype-3-50      24  [0.20770784467458725, 0.18496733971617438, 0.1...   \n",
       " \n",
       "                                                             phenotype  \\\n",
       " SW-Phenotype-0-128  {'R@5': 0.5718934, 'P@5': 0.55168, 'R@10': 0.5...   \n",
       " SW-Phenotype-0-256  {'R@5': 0.59781337, 'P@5': 0.57621336, 'R@10':...   \n",
       " SW-Phenotype-0-50   {'R@5': 0.50654227, 'P@5': 0.49088, 'R@10': 0....   \n",
       " SW-Phenotype-0-512  {'R@5': 0.59473777, 'P@5': 0.57269335, 'R@10':...   \n",
       " SW-Phenotype-1-128  {'R@5': 0.5913422, 'P@5': 0.5698134, 'R@10': 0...   \n",
       " SW-Phenotype-1-256  {'R@5': 0.6037334, 'P@5': 0.58261335, 'R@10': ...   \n",
       " SW-Phenotype-1-50   {'R@5': 0.5315289, 'P@5': 0.51264, 'R@10': 0.4...   \n",
       " SW-Phenotype-1-512  {'R@5': 0.5916267, 'P@5': 0.5687466, 'R@10': 0...   \n",
       " SW-Phenotype-2-128  {'R@5': 0.57740444, 'P@5': 0.55658674, 'R@10':...   \n",
       " SW-Phenotype-2-256  {'R@5': 0.58928895, 'P@5': 0.5672534, 'R@10': ...   \n",
       " SW-Phenotype-2-50   {'R@5': 0.51742226, 'P@5': 0.49845332, 'R@10':...   \n",
       " SW-Phenotype-3-128  {'R@5': 0.5668089, 'P@5': 0.54687995, 'R@10': ...   \n",
       " SW-Phenotype-3-256  {'R@5': 0.57448, 'P@5': 0.55285335, 'R@10': 0....   \n",
       " SW-Phenotype-3-50   {'R@5': 0.5150667, 'P@5': 0.49525332, 'R@10': ...   \n",
       " \n",
       "                            time  \n",
       " SW-Phenotype-0-128   743.243356  \n",
       " SW-Phenotype-0-256  1197.993303  \n",
       " SW-Phenotype-0-50    603.612332  \n",
       " SW-Phenotype-0-512  1675.661981  \n",
       " SW-Phenotype-1-128   768.163048  \n",
       " SW-Phenotype-1-256  1165.784663  \n",
       " SW-Phenotype-1-50    543.869099  \n",
       " SW-Phenotype-1-512  1904.830027  \n",
       " SW-Phenotype-2-128   908.375432  \n",
       " SW-Phenotype-2-256  1227.840131  \n",
       " SW-Phenotype-2-50    710.361141  \n",
       " SW-Phenotype-3-128   839.075633  \n",
       " SW-Phenotype-3-256  1414.966181  \n",
       " SW-Phenotype-3-50    560.289079  ,\n",
       " \"results.mimic.['diagnoses'].['phenotype'].normal.its:1.dropout.ccs.[283].25.256.ancestry:full.cooccurrence\":                    epochs                                               loss  \\\n",
       " SW-Phenotype-0-50      24  [0.21852418170733887, 0.2126893170855262, 0.20...   \n",
       " SW-Phenotype-1-50      24  [0.21751891550692645, 0.19770197638056494, 0.1...   \n",
       " SW-Phenotype-1-512     24  [0.19749394397843967, 0.1820318414406343, 0.18...   \n",
       " SW-Phenotype-2-50      24  [0.21453245119615036, 0.18682254986329513, 0.1...   \n",
       " SW-Phenotype-3-50      24  [0.2105757180940021, 0.18578403239900415, 0.18...   \n",
       " \n",
       "                                                             phenotype  \\\n",
       " SW-Phenotype-0-50   {'R@5': 0.49936, 'P@5': 0.47733334, 'R@10': 0....   \n",
       " SW-Phenotype-1-50   {'R@5': 0.46696004, 'P@5': 0.44864002, 'R@10':...   \n",
       " SW-Phenotype-1-512  {'R@5': 0.59992, 'P@5': 0.5713067, 'R@10': 0.5...   \n",
       " SW-Phenotype-2-50   {'R@5': 0.4545689, 'P@5': 0.43296003, 'R@10': ...   \n",
       " SW-Phenotype-3-50   {'R@5': 0.4578578, 'P@5': 0.43456003, 'R@10': ...   \n",
       " \n",
       "                            time  \n",
       " SW-Phenotype-0-50      397.0539  \n",
       " SW-Phenotype-1-50    421.086792  \n",
       " SW-Phenotype-1-512  1708.639902  \n",
       " SW-Phenotype-2-50    415.130291  \n",
       " SW-Phenotype-3-50    422.886705  ,\n",
       " \"results.mimic.['diagnoses'].['phenotype'].normal.its:1.dropout.ccs.[283].25.256.ancestry:no\":                    epochs                                               loss  \\\n",
       " SW-Phenotype-0-512     24  [0.2095263437791304, 0.1844048337502913, 0.181...   \n",
       " SW-Phenotype-1-512     24  [0.19416539032350888, 0.18241064860062164, 0.1...   \n",
       " SW-Phenotype-2-512     24  [0.1909466473893686, 0.18161515349691565, 0.18...   \n",
       " \n",
       "                                                             phenotype  \\\n",
       " SW-Phenotype-0-512  {'R@5': 0.52882665, 'P@5': 0.50645334, 'R@10':...   \n",
       " SW-Phenotype-1-512  {'R@5': 0.5391289, 'P@5': 0.51765335, 'R@10': ...   \n",
       " SW-Phenotype-2-512  {'R@5': 0.51648, 'P@5': 0.49418673, 'R@10': 0....   \n",
       " \n",
       "                            time  \n",
       " SW-Phenotype-0-512  1784.011745  \n",
       " SW-Phenotype-1-512  1740.252568  \n",
       " SW-Phenotype-2-512  2035.926231  ,\n",
       " \"results.mimic.['diagnoses'].['phenotype'].normal.its:1.dropout.icd9_level3.[1778].25.256.ancestry:full\":                    epochs                                               loss  \\\n",
       " SW-Phenotype-0-128     24  [0.04927582107484341, 0.045761510052464226, 0....   \n",
       " SW-Phenotype-0-50      24  [0.049975268373435196, 0.048723712732846085, 0...   \n",
       " SW-Phenotype-1-128     24  [0.04665274274620143, 0.03591937182301825, 0.0...   \n",
       " SW-Phenotype-1-50      24  [0.0495415504344485, 0.0423916234550151, 0.035...   \n",
       " SW-Phenotype-1-512     24  [0.041234811090610245, 0.03536598401313478, 0....   \n",
       " SW-Phenotype-2-128     24  [0.043458049608902496, 0.03552536818791519, 0....   \n",
       " SW-Phenotype-2-50      24  [0.047827284783124924, 0.036828153851357376, 0...   \n",
       " SW-Phenotype-2-512     24  [0.039109319279139694, 0.03506143780594522, 0....   \n",
       " SW-Phenotype-3-128     24  [0.04209851033308289, 0.0355146454477852, 0.03...   \n",
       " SW-Phenotype-3-50      24  [0.04619314182888378, 0.03624230623245239, 0.0...   \n",
       " \n",
       "                                                             phenotype  \\\n",
       " SW-Phenotype-0-128  {'R@5': 0.51977783, 'P@5': 0.50581336, 'R@10':...   \n",
       " SW-Phenotype-0-50   {'R@5': 0.44426668, 'P@5': 0.4304, 'R@10': 0.4...   \n",
       " SW-Phenotype-1-128  {'R@5': 0.52503115, 'P@5': 0.5092267, 'R@10': ...   \n",
       " SW-Phenotype-1-50   {'R@5': 0.47104, 'P@5': 0.45536003, 'R@10': 0....   \n",
       " SW-Phenotype-1-512  {'R@5': 0.5372178, 'P@5': 0.51872, 'R@10': 0.4...   \n",
       " SW-Phenotype-2-128  {'R@5': 0.5169245, 'P@5': 0.5018667, 'R@10': 0...   \n",
       " SW-Phenotype-2-50   {'R@5': 0.4738489, 'P@5': 0.46111998, 'R@10': ...   \n",
       " SW-Phenotype-2-512  {'R@5': 0.5341956, 'P@5': 0.51765335, 'R@10': ...   \n",
       " SW-Phenotype-3-128  {'R@5': 0.5158489, 'P@5': 0.50037336, 'R@10': ...   \n",
       " SW-Phenotype-3-50   {'R@5': 0.45959115, 'P@5': 0.44661334, 'R@10':...   \n",
       " \n",
       "                            time  \n",
       " SW-Phenotype-0-128   732.940394  \n",
       " SW-Phenotype-0-50    781.500332  \n",
       " SW-Phenotype-1-128    669.36585  \n",
       " SW-Phenotype-1-50    821.247347  \n",
       " SW-Phenotype-1-512  1587.778334  \n",
       " SW-Phenotype-2-128   695.809999  \n",
       " SW-Phenotype-2-50     465.29249  \n",
       " SW-Phenotype-2-512  2064.778521  \n",
       " SW-Phenotype-3-128   684.352406  \n",
       " SW-Phenotype-3-50    533.580837  ,\n",
       " \"results.mimic.['diagnoses'].['phenotype'].normal.its:1.dropout.all.[14567].25.256.ancestry:full\":                    epochs                                               loss  \\\n",
       " SW-Phenotype-0-256     24  [0.008161727677692066, 0.007813913536004045, 0...   \n",
       " SW-Phenotype-0-50      24  [0.008185586447573522, 0.008116121700202877, 0...   \n",
       " SW-Phenotype-0-512     24  [0.008136964847587726, 0.007332422431897034, 0...   \n",
       " SW-Phenotype-1-256     24  [0.007766252193091946, 0.005683743966404687, 0...   \n",
       " SW-Phenotype-1-512     24  [0.007342280947010626, 0.005612803771245209, 0...   \n",
       " SW-Phenotype-2-256     24  [0.0070769097021018915, 0.005592123711143027, ...   \n",
       " SW-Phenotype-3-256     24  [0.006818172839385542, 0.00558667530475015, 0....   \n",
       " \n",
       "                                                             phenotype  \\\n",
       " SW-Phenotype-0-256  {'R@5': 0.37368372, 'P@5': 0.36254004, 'R@10':...   \n",
       " SW-Phenotype-0-50   {'R@5': 0.32790223, 'P@5': 0.3188267, 'R@10': ...   \n",
       " SW-Phenotype-0-512  {'R@5': 0.38571683, 'P@5': 0.3732124, 'R@10': ...   \n",
       " SW-Phenotype-1-256  {'R@5': 0.3922003, 'P@5': 0.37982923, 'R@10': ...   \n",
       " SW-Phenotype-1-512  {'R@5': 0.40387765, 'P@5': 0.39178228, 'R@10':...   \n",
       " SW-Phenotype-2-256  {'R@5': 0.3854589, 'P@5': 0.37427962, 'R@10': ...   \n",
       " SW-Phenotype-3-256  {'R@5': 0.3602188, 'P@5': 0.35037354, 'R@10': ...   \n",
       " \n",
       "                            time  \n",
       " SW-Phenotype-0-256  1135.877866  \n",
       " SW-Phenotype-0-50    440.785872  \n",
       " SW-Phenotype-0-512  1533.158525  \n",
       " SW-Phenotype-1-256  1107.667272  \n",
       " SW-Phenotype-1-512  1824.812078  \n",
       " SW-Phenotype-2-256  1180.340053  \n",
       " SW-Phenotype-3-256  1260.817099  ,\n",
       " \"results.mimic.['diagnoses'].['phenotype', 'mortality@30'].normal.its:1.dropout.ccs.[283, 1].25.256.ancestry:full\":                                 epochs  \\\n",
       " SW-Phenotype-0-512-causal:False     24   \n",
       " SW-Phenotype-1-512-causal:False     24   \n",
       " SW-Phenotype-2-512-causal:False     24   \n",
       " \n",
       "                                                                               loss  \\\n",
       " SW-Phenotype-0-512-causal:False  [0.9210869431495666, 0.864694619178772, 0.7950...   \n",
       " SW-Phenotype-1-512-causal:False  [0.8206607341766358, 0.6508541345596314, 0.648...   \n",
       " SW-Phenotype-2-512-causal:False  [0.781966483592987, 0.6496184706687927, 0.6096...   \n",
       " \n",
       "                                                                       mortality@30  \\\n",
       " SW-Phenotype-0-512-causal:False  {'sensivity': 1.0, 'tp': 310, 'fn': 0, 'fp': 4...   \n",
       " SW-Phenotype-1-512-causal:False  {'sensivity': 0.9903225806451613, 'tp': 307, '...   \n",
       " SW-Phenotype-2-512-causal:False  {'sensivity': 1.0, 'tp': 310, 'fn': 0, 'fp': 4...   \n",
       " \n",
       "                                                                          phenotype  \\\n",
       " SW-Phenotype-0-512-causal:False  {'R@5': 0.42518622, 'P@5': 0.42402235, 'R@10':...   \n",
       " SW-Phenotype-1-512-causal:False  {'R@5': 0.3946462, 'P@5': 0.39385474, 'R@10': ...   \n",
       " SW-Phenotype-2-512-causal:False  {'R@5': 0.39702046, 'P@5': 0.39608943, 'R@10':...   \n",
       " \n",
       "                                        time  \n",
       " SW-Phenotype-0-512-causal:False  297.604483  \n",
       " SW-Phenotype-1-512-causal:False   366.31066  \n",
       " SW-Phenotype-2-512-causal:False  401.966679  ,\n",
       " \"results.mimic.['diagnoses'].['phenotype', 'mortality@90'].normal.its:1.dropout.ccs.[283, 1].25.256.ancestry:full\":                                 epochs  \\\n",
       " SW-Phenotype-0-512-causal:False     24   \n",
       " SW-Phenotype-1-512-causal:False     24   \n",
       " SW-Phenotype-2-512-causal:False     24   \n",
       " \n",
       "                                                                               loss  \\\n",
       " SW-Phenotype-0-512-causal:False  [0.9338733077049255, 0.9317478060722351, 0.921...   \n",
       " SW-Phenotype-1-512-causal:False  [0.9373305678367615, 0.9186134457588195, 0.918...   \n",
       " SW-Phenotype-2-512-causal:False  [0.9353119730949402, 0.9244337320327759, 0.912...   \n",
       " \n",
       "                                                                       mortality@90  \\\n",
       " SW-Phenotype-0-512-causal:False  {'sensivity': 0.8195121951219512, 'tp': 168, '...   \n",
       " SW-Phenotype-1-512-causal:False  {'sensivity': 0.6146341463414634, 'tp': 126, '...   \n",
       " SW-Phenotype-2-512-causal:False  {'sensivity': 0.8536585365853658, 'tp': 175, '...   \n",
       " \n",
       "                                                                          phenotype  \\\n",
       " SW-Phenotype-0-512-causal:False  {'R@5': 0.4519087, 'P@5': 0.45027936, 'R@10': ...   \n",
       " SW-Phenotype-1-512-causal:False  {'R@5': 0.42332402, 'P@5': 0.4217877, 'R@10': ...   \n",
       " SW-Phenotype-2-512-causal:False  {'R@5': 0.42877093, 'P@5': 0.42849162, 'R@10':...   \n",
       " \n",
       "                                        time  \n",
       " SW-Phenotype-0-512-causal:False  298.716826  \n",
       " SW-Phenotype-1-512-causal:False  361.364024  \n",
       " SW-Phenotype-2-512-causal:False  400.139091  ,\n",
       " \"results.mimic.['diagnoses'].['mortality@90'].normal.its:1.dropout.ccs.[1].25.256.ancestry:full\":                    epochs                                               loss  \\\n",
       " SW-Phenotype-0-512     24  [0.691337502002716, 0.6846027612686157, 0.6814...   \n",
       " SW-Phenotype-1-512     24  [0.6879929900169373, 0.6870263695716858, 0.688...   \n",
       " SW-Phenotype-2-512     24  [0.7045055627822876, 0.6927686333656311, 0.692...   \n",
       " \n",
       "                                                          mortality@90  \\\n",
       " SW-Phenotype-0-512  {'sensivity': 0.6605504587155964, 'tp': 144, '...   \n",
       " SW-Phenotype-1-512  {'sensivity': 0.573394495412844, 'tp': 125, 'f...   \n",
       " SW-Phenotype-2-512  {'sensivity': 0.7339449541284404, 'tp': 160, '...   \n",
       " \n",
       "                           time  \n",
       " SW-Phenotype-0-512  420.028077  \n",
       " SW-Phenotype-1-512  493.005059  \n",
       " SW-Phenotype-2-512  561.958951  ,\n",
       " \"results.mimic.['diagnoses'].['mortality@30', 'mortality'].normal.its:1.dropout.ccs.[1, 1].25.256.ancestry:full\":                                 epochs  \\\n",
       " SW-Phenotype-0-512-causal:False     24   \n",
       " SW-Phenotype-1-512-causal:False     24   \n",
       " \n",
       "                                                                               loss  \\\n",
       " SW-Phenotype-0-512-causal:False  [1.3577988862991333, 1.2507101058959962, 1.096...   \n",
       " SW-Phenotype-1-512-causal:False  [1.150257647037506, 0.5567900776863098, 0.4840...   \n",
       " \n",
       "                                                                          mortality  \\\n",
       " SW-Phenotype-0-512-causal:False  {'sensivity': 1.0, 'tp': 366, 'fn': 0, 'fp': 0...   \n",
       " SW-Phenotype-1-512-causal:False  {'sensivity': 1.0, 'tp': 366, 'fn': 0, 'fp': 0...   \n",
       " \n",
       "                                                                       mortality@30  \\\n",
       " SW-Phenotype-0-512-causal:False  {'sensivity': 0.9802631578947368, 'tp': 298, '...   \n",
       " SW-Phenotype-1-512-causal:False  {'sensivity': 0.9835526315789473, 'tp': 299, '...   \n",
       " \n",
       "                                        time  \n",
       " SW-Phenotype-0-512-causal:False  436.652918  \n",
       " SW-Phenotype-1-512-causal:False  500.564365  ,\n",
       " \"results.mimic.['diagnoses'].['mortality@30'].normal.its:1.dropout.ccs.[1].25.256.ancestry:full\":                    epochs                                               loss  \\\n",
       " SW-Phenotype-0-512     24  [0.6700285077095032, 0.6239387631416321, 0.546...   \n",
       " SW-Phenotype-1-512     24  [0.5913496494293213, 0.45121934413909914, 0.43...   \n",
       " SW-Phenotype-2-512     24  [0.5294431865215301, 0.4520589768886566, 0.461...   \n",
       " \n",
       "                                                          mortality@30  \\\n",
       " SW-Phenotype-0-512  {'sensivity': 0.9901639344262295, 'tp': 302, '...   \n",
       " SW-Phenotype-1-512  {'sensivity': 0.980327868852459, 'tp': 299, 'f...   \n",
       " SW-Phenotype-2-512  {'sensivity': 0.980327868852459, 'tp': 299, 'f...   \n",
       " \n",
       "                           time  \n",
       " SW-Phenotype-0-512   447.85594  \n",
       " SW-Phenotype-1-512  538.582294  \n",
       " SW-Phenotype-2-512  566.644505  }"
      ]
     },
     "execution_count": 22,
     "metadata": {},
     "output_type": "execute_result"
    }
   ],
   "source": [
    "append"
   ]
  },
  {
   "cell_type": "code",
   "execution_count": 11,
   "id": "square-terrorism",
   "metadata": {},
   "outputs": [],
   "source": [
    "results = []"
   ]
  },
  {
   "cell_type": "code",
   "execution_count": 12,
   "id": "fleet-advice",
   "metadata": {},
   "outputs": [],
   "source": [
    "idxmx ='SW-Phenotype-1-512'"
   ]
  },
  {
   "cell_type": "code",
   "execution_count": 13,
   "id": "comfortable-cologne",
   "metadata": {},
   "outputs": [],
   "source": [
    "metrics = [\"R@5\",\"R@10\",\"R@30\"]\n",
    "datasets = ['mimic','eicu']\n",
    "tuples = [datasets,metrics]"
   ]
  },
  {
   "cell_type": "code",
   "execution_count": 14,
   "id": "greatest-pollution",
   "metadata": {},
   "outputs": [],
   "source": [
    "index = pd.MultiIndex.from_product(tuples)"
   ]
  },
  {
   "cell_type": "code",
   "execution_count": 15,
   "id": "entitled-entertainment",
   "metadata": {},
   "outputs": [
    {
     "name": "stdout",
     "output_type": "stream",
     "text": [
      "\\begin{tabular}{ll}\n",
      "\\toprule\n",
      "{} & SW-Phenotype-1-512 \\\\\n",
      "\\midrule\n",
      "P@5  &            0.51872 \\\\\n",
      "P@10 &          0.4064533 \\\\\n",
      "P@20 &          0.2869067 \\\\\n",
      "\\bottomrule\n",
      "\\end{tabular}\n",
      "\n"
     ]
    }
   ],
   "source": [
    "df = append[\"results.mimic.['diagnoses'].['phenotype'].normal.its:1.dropout.icd9_level3.[1778].25.256.ancestry:full\"]\n",
    "mimic = df.phenotype.apply(to_series)\n",
    "print(mimic[['P@5',\"P@10\",'P@20']].loc[idxmx].to_latex())"
   ]
  },
  {
   "cell_type": "code",
   "execution_count": 208,
   "id": "tracked-friendship",
   "metadata": {},
   "outputs": [
    {
     "data": {
      "text/plain": [
       "R@5      0.5981778\n",
       "P@5      0.5747201\n",
       "R@10      0.543553\n",
       "P@10    0.44426668\n",
       "R@15    0.57325625\n",
       "P@15    0.36775112\n",
       "R@20    0.62421274\n",
       "P@20     0.3168267\n",
       "R@25      0.672428\n",
       "P@25    0.27925333\n",
       "R@30      0.714664\n",
       "P@30    0.25018668\n",
       "Name: SW-Phenotype-1-512, dtype: object"
      ]
     },
     "execution_count": 208,
     "metadata": {},
     "output_type": "execute_result"
    }
   ],
   "source": [
    "df = append[\"results.mimic.['diagnoses'].['phenotype'].normal.its:1.dropout.ccs.[283].25.256.ancestry:full\"]\n",
    "df.phenotype.apply(to_series).loc[idxmx]\n"
   ]
  },
  {
   "cell_type": "code",
   "execution_count": 209,
   "id": "surface-builder",
   "metadata": {},
   "outputs": [],
   "source": [
    "df = append[\"results.mimic.['diagnoses'].['phenotype'].normal.its:1.dropout.ccs.[283].25.256.ancestry:full\"]\n",
    "mimic = df.phenotype.apply(to_series)\n",
    "df = append[\"results.eICU.['diagnoses'].['phenotype'].normal.its:1.dropout.ccs.[283].25.256.ancestry:full\"]\n",
    "eicu = df.phenotype.apply(to_series)\n",
    "eicu = eicu.loc[idxmx][metrics]\n",
    "eicu.name = \"Phenotype Prediction (CCS)\"\n",
    "eicu = eicu.to_frame().T\n",
    "mimic = mimic.loc[idxmx][metrics]\n",
    "mimic.name = \"Phenotype Prediction (CCS)\"\n",
    "mimic = mimic.to_frame().T\n",
    "df = pd.concat([mimic,eicu],axis=1)\n",
    "df.columns=index\n",
    "ccs = df.astype(float).round(3).copy()\n",
    "ccs\n",
    "results.append(ccs)"
   ]
  },
  {
   "cell_type": "code",
   "execution_count": 210,
   "id": "driven-latin",
   "metadata": {},
   "outputs": [
    {
     "ename": "KeyError",
     "evalue": "\"results.mimic.['diagnoses'].['phenotype'].normal.its:1.dropout.ccs.[263].25.256\"",
     "output_type": "error",
     "traceback": [
      "\u001b[0;31m---------------------------------------------------------------------------\u001b[0m",
      "\u001b[0;31mKeyError\u001b[0m                                  Traceback (most recent call last)",
      "\u001b[0;32m/tmp/ipykernel_1201/812911124.py\u001b[0m in \u001b[0;36m<module>\u001b[0;34m\u001b[0m\n\u001b[0;32m----> 1\u001b[0;31m \u001b[0mdf\u001b[0m \u001b[0;34m=\u001b[0m \u001b[0mappend\u001b[0m\u001b[0;34m[\u001b[0m\u001b[0;34m\"results.mimic.['diagnoses'].['phenotype'].normal.its:1.dropout.ccs.[263].25.256\"\u001b[0m\u001b[0;34m]\u001b[0m\u001b[0;34m\u001b[0m\u001b[0;34m\u001b[0m\u001b[0m\n\u001b[0m\u001b[1;32m      2\u001b[0m \u001b[0mmimic\u001b[0m \u001b[0;34m=\u001b[0m \u001b[0mdf\u001b[0m\u001b[0;34m.\u001b[0m\u001b[0mphenotype\u001b[0m\u001b[0;34m.\u001b[0m\u001b[0mapply\u001b[0m\u001b[0;34m(\u001b[0m\u001b[0mto_series\u001b[0m\u001b[0;34m)\u001b[0m\u001b[0;34m\u001b[0m\u001b[0;34m\u001b[0m\u001b[0m\n\u001b[1;32m      3\u001b[0m \u001b[0mdf\u001b[0m \u001b[0;34m=\u001b[0m \u001b[0mappend\u001b[0m\u001b[0;34m[\u001b[0m\u001b[0;34m\"results.eICU.['diagnoses'].['phenotype'].normal.its:1.dropout.ccs.[174].25.256\"\u001b[0m\u001b[0;34m]\u001b[0m\u001b[0;34m\u001b[0m\u001b[0;34m\u001b[0m\u001b[0m\n\u001b[1;32m      4\u001b[0m \u001b[0meicu\u001b[0m \u001b[0;34m=\u001b[0m \u001b[0mdf\u001b[0m\u001b[0;34m.\u001b[0m\u001b[0mphenotype\u001b[0m\u001b[0;34m.\u001b[0m\u001b[0mapply\u001b[0m\u001b[0;34m(\u001b[0m\u001b[0mto_series\u001b[0m\u001b[0;34m)\u001b[0m\u001b[0;34m\u001b[0m\u001b[0;34m\u001b[0m\u001b[0m\n\u001b[1;32m      5\u001b[0m \u001b[0meicu\u001b[0m \u001b[0;34m=\u001b[0m \u001b[0meicu\u001b[0m\u001b[0;34m.\u001b[0m\u001b[0mloc\u001b[0m\u001b[0;34m[\u001b[0m\u001b[0midxmx\u001b[0m\u001b[0;34m]\u001b[0m\u001b[0;34m[\u001b[0m\u001b[0mmetrics\u001b[0m\u001b[0;34m]\u001b[0m\u001b[0;34m\u001b[0m\u001b[0;34m\u001b[0m\u001b[0m\n",
      "\u001b[0;31mKeyError\u001b[0m: \"results.mimic.['diagnoses'].['phenotype'].normal.its:1.dropout.ccs.[263].25.256\""
     ]
    }
   ],
   "source": [
    "df = append[\"results.mimic.['diagnoses'].['phenotype'].normal.its:1.dropout.ccs.[263].25.256\"]\n",
    "mimic = df.phenotype.apply(to_series)\n",
    "df = append[\"results.eICU.['diagnoses'].['phenotype'].normal.its:1.dropout.ccs.[174].25.256\"]\n",
    "eicu = df.phenotype.apply(to_series)\n",
    "eicu = eicu.loc[idxmx][metrics]\n",
    "eicu.name = \"Phenotype Prediction (CCS)*\"\n",
    "eicu = eicu.to_frame().T\n",
    "mimic = mimic.loc[idxmx][metrics]\n",
    "mimic.name = \"Phenotype Prediction (CCS)*\"\n",
    "mimic = mimic.to_frame().T\n",
    "df = pd.concat([mimic,eicu],axis=1)\n",
    "df.columns=index\n",
    "ccs_ = df.astype(float).round(3).copy()\n",
    "ccs_\n",
    "results.append(ccs_)"
   ]
  },
  {
   "cell_type": "code",
   "execution_count": null,
   "id": "above-blind",
   "metadata": {},
   "outputs": [],
   "source": [
    "#CHANGE DIMENSIONALITY\n",
    "df = append[\"results.mimic.['diagnoses'].['phenotype'].normal.its:1.dropout.icd9_level3.[1778].25.256\"]\n",
    "mimic = df.phenotype.apply(to_series)\n",
    "df = append[\"results.eICU.['diagnoses'].['phenotype'].normal.its:1.dropout.icd9_level3.[1778].25.256\"]\n",
    "eicu = df.phenotype.apply(to_series)\n",
    "\n",
    "eicu = eicu.loc[idxmx][metrics]\n",
    "eicu.name = \"Phenotype Prediction (3-digit)\"\n",
    "eicu = eicu.to_frame().T\n",
    "mimic = mimic.loc[idxmx][metrics]\n",
    "mimic.name = \"Phenotype Prediction (3-digit)\"\n",
    "mimic = mimic.to_frame().T\n",
    "df = pd.concat([mimic,eicu],axis=1)\n",
    "df.columns=index\n",
    "icd9_3 = df.astype(float).round(3).copy()\n",
    "icd9_3\n",
    "results.append(icd9_3)"
   ]
  },
  {
   "cell_type": "code",
   "execution_count": null,
   "id": "banner-scene",
   "metadata": {},
   "outputs": [],
   "source": [
    "#Change n classes to match the 3-digit format..\n",
    "df = append[\"results.mimic.['diagnoses'].['phenotype'].normal.its:1.dropout.icd9_level3.[957].25.256\"]\n",
    "mimic = df.phenotype.apply(to_series)\n",
    "df = append[\"results.eICU.['diagnoses'].['phenotype'].normal.its:1.dropout.icd9_level3.[341].25.256\"]\n",
    "eicu = df.phenotype.apply(to_series)\n",
    "\n",
    "eicu = eicu.loc[idxmx][metrics]\n",
    "eicu.name = \"Phenotype Prediction (3-digit)*\"\n",
    "eicu = eicu.to_frame().T\n",
    "mimic = mimic.loc[idxmx][metrics]\n",
    "mimic.name = \"Phenotype Prediction (3-digit)*\"\n",
    "mimic = mimic.to_frame().T\n",
    "df = pd.concat([mimic,eicu],axis=1)\n",
    "df.columns=index\n",
    "icd9_3_ = df.astype(float).round(3).copy()\n",
    "icd9_3_\n",
    "results.append(icd9_3_)"
   ]
  },
  {
   "cell_type": "code",
   "execution_count": null,
   "id": "bottom-westminster",
   "metadata": {},
   "outputs": [],
   "source": [
    "df = append[\"results.mimic.['diagnoses'].['phenotype'].normal.its:1.dropout.cat_level.[184].25.256\"]\n",
    "mimic = df.phenotype.apply(to_series)\n",
    "df = append[\"results.eICU.['diagnoses'].['phenotype'].normal.its:1.dropout.cat_level.[184].25.256\"]\n",
    "eicu = df.phenotype.apply(to_series)\n",
    "\n",
    "eicu = eicu.loc[idxmx][metrics]\n",
    "eicu.name = \"Phenotype Prediction (Category)\"\n",
    "eicu = eicu.to_frame().T\n",
    "mimic = mimic.loc[idxmx][metrics]\n",
    "mimic.name = \"Phenotype Prediction (Category)\"\n",
    "mimic = mimic.to_frame().T\n",
    "df = pd.concat([mimic,eicu],axis=1)\n",
    "df.columns=index\n",
    "cat_level = df.astype(float).round(3).copy()\n",
    "results.append(cat_level)\n"
   ]
  },
  {
   "cell_type": "code",
   "execution_count": null,
   "id": "balanced-dispatch",
   "metadata": {},
   "outputs": [],
   "source": [
    "df = append[\"results.mimic.['diagnoses'].['phenotype'].normal.its:1.dropout.cat_level.[151].25.256\"]\n",
    "mimic = df.phenotype.apply(to_series)\n",
    "df = append[\"results.eICU.['diagnoses'].['phenotype'].normal.its:1.dropout.cat_level.[104].25.256\"]\n",
    "eicu = df.phenotype.apply(to_series)\n",
    "\n",
    "eicu = eicu.loc[idxmx][metrics]\n",
    "eicu.name = \"Phenotype Prediction (Category)*\"\n",
    "eicu = eicu.to_frame().T\n",
    "mimic = mimic.loc[idxmx][metrics]\n",
    "mimic.name = \"Phenotype Prediction (Category)*\"\n",
    "mimic = mimic.to_frame().T\n",
    "df = pd.concat([mimic,eicu],axis=1)\n",
    "df.columns=index\n",
    "cat_level_ = df.astype(float).round(3).copy()\n",
    "results.append(cat_level_)"
   ]
  },
  {
   "cell_type": "code",
   "execution_count": null,
   "id": "electronic-mexican",
   "metadata": {},
   "outputs": [],
   "source": [
    "df = append[\"results.mimic.['diagnoses'].['phenotype'].normal.its:1.dropout.all.[14567].25.256\"]\n",
    "mimic = df.phenotype.apply(to_series)\n",
    "df = append[\"results.eICU.['diagnoses'].['phenotype'].normal.its:1.dropout.all.[14567].25.256\"]\n",
    "eicu = df.phenotype.apply(to_series)\n",
    "eicu = eicu.loc[idxmx][metrics]\n",
    "eicu.name = \"Phenotype Prediction (ICD-9)\"\n",
    "eicu = eicu.to_frame().T\n",
    "mimic = mimic.loc[idxmx][metrics]\n",
    "mimic.name = \"Phenotype Prediction (ICD-9)\"\n",
    "mimic = mimic.to_frame().T\n",
    "df = pd.concat([mimic,eicu],axis=1)\n",
    "df.columns=index \n",
    "icd = df.astype(float).round(3).copy()\n",
    "results.append(icd)"
   ]
  },
  {
   "cell_type": "code",
   "execution_count": null,
   "id": "union-tuition",
   "metadata": {},
   "outputs": [],
   "source": [
    "df = append[\"results.mimic.['diagnoses'].['phenotype'].normal.its:1.dropout.all.[3786].25.256\"]\n",
    "mimic = df.phenotype.apply(to_series)\n",
    "df = append[\"results.eICU.['diagnoses'].['phenotype'].normal.its:1.dropout.all.[858].25.256\"]\n",
    "eicu = df.phenotype.apply(to_series)\n",
    "\n",
    "eicu = eicu.loc[idxmx][metrics]\n",
    "eicu.name = \"Phenotype Prediction (ICD-9)*\"\n",
    "eicu = eicu.to_frame().T\n",
    "mimic = mimic.loc[idxmx][metrics]\n",
    "mimic.name = \"Phenotype Prediction (ICD-9)*\"\n",
    "mimic = mimic.to_frame().T\n",
    "df = pd.concat([mimic,eicu],axis=1)\n",
    "df.columns=index \n",
    "icd = df.astype(float).round(3).copy()\n",
    "results.append(icd)\n"
   ]
  },
  {
   "cell_type": "raw",
   "id": "european-watts",
   "metadata": {},
   "source": [
    "df = append[\"results.mimic.['diagnoses'].['phenotype'].normal.its:1.dropout.icd9_level3.[1042].25.256\"]\n",
    "mimic = df.phenotype.apply(to_series)\n",
    "df = append[\"results.eICU.['diagnoses'].['phenotype'].normal.its:1.dropout.icd9_level3.[1042].25.256\"]\n",
    "eicu = df.phenotype.apply(to_series)\n",
    "\n",
    "eicu = eicu.loc[idxmx][metrics]\n",
    "eicu.name = \"Phenotype Prediction (ICD-9 3-digit)\"\n",
    "eicu = eicu.to_frame().T\n",
    "mimic = mimic.loc[idxmx][metrics]\n",
    "mimic.name = \"Phenotype Prediction (ICD-9 3-digit)\"\n",
    "mimic = mimic.to_frame().T\n",
    "df = pd.concat([mimic,eicu],axis=1)\n",
    "df.columns=index\n",
    "icd9_3 = df.copy()\n",
    "icd9_3"
   ]
  },
  {
   "cell_type": "code",
   "execution_count": null,
   "id": "bound-bahamas",
   "metadata": {},
   "outputs": [],
   "source": [
    "pd.concat(results)"
   ]
  },
  {
   "cell_type": "code",
   "execution_count": null,
   "id": "maritime-kruger",
   "metadata": {},
   "outputs": [],
   "source": [
    "print(pd.concat(results).to_latex())"
   ]
  },
  {
   "cell_type": "code",
   "execution_count": 211,
   "id": "effective-vienna",
   "metadata": {},
   "outputs": [
    {
     "ename": "Exception",
     "evalue": "STOP",
     "output_type": "error",
     "traceback": [
      "\u001b[0;31m---------------------------------------------------------------------------\u001b[0m",
      "\u001b[0;31mException\u001b[0m                                 Traceback (most recent call last)",
      "\u001b[0;32m/tmp/ipykernel_1201/3139487816.py\u001b[0m in \u001b[0;36m<module>\u001b[0;34m\u001b[0m\n\u001b[0;32m----> 1\u001b[0;31m \u001b[0;32mraise\u001b[0m \u001b[0mException\u001b[0m\u001b[0;34m(\u001b[0m\u001b[0;34m\"STOP\"\u001b[0m\u001b[0;34m)\u001b[0m\u001b[0;34m\u001b[0m\u001b[0;34m\u001b[0m\u001b[0m\n\u001b[0m",
      "\u001b[0;31mException\u001b[0m: STOP"
     ]
    }
   ],
   "source": [
    "raise Exception(\"STOP\")"
   ]
  },
  {
   "cell_type": "code",
   "execution_count": 212,
   "id": "clean-example",
   "metadata": {},
   "outputs": [
    {
     "ename": "KeyError",
     "evalue": "\"results.mimic.['diagnoses', 'procedures'].['phenotype', 'treatment'].normal.its:1.dropout.ccs.[283, 231].25.256\"",
     "output_type": "error",
     "traceback": [
      "\u001b[0;31m---------------------------------------------------------------------------\u001b[0m",
      "\u001b[0;31mKeyError\u001b[0m                                  Traceback (most recent call last)",
      "\u001b[0;32m/tmp/ipykernel_1201/1878182841.py\u001b[0m in \u001b[0;36m<module>\u001b[0;34m\u001b[0m\n\u001b[0;32m----> 1\u001b[0;31m \u001b[0mdf\u001b[0m \u001b[0;34m=\u001b[0m \u001b[0mappend\u001b[0m\u001b[0;34m[\u001b[0m\u001b[0;34m\"results.mimic.['diagnoses', 'procedures'].['phenotype', 'treatment'].normal.its:1.dropout.ccs.[283, 231].25.256\"\u001b[0m\u001b[0;34m]\u001b[0m\u001b[0;34m\u001b[0m\u001b[0;34m\u001b[0m\u001b[0m\n\u001b[0m\u001b[1;32m      2\u001b[0m \u001b[0mphenotype\u001b[0m \u001b[0;34m=\u001b[0m \u001b[0mdf\u001b[0m\u001b[0;34m.\u001b[0m\u001b[0mphenotype\u001b[0m\u001b[0;34m.\u001b[0m\u001b[0mapply\u001b[0m\u001b[0;34m(\u001b[0m\u001b[0mto_series\u001b[0m\u001b[0;34m)\u001b[0m\u001b[0;34m\u001b[0m\u001b[0;34m\u001b[0m\u001b[0m\n\u001b[1;32m      3\u001b[0m \u001b[0mtreatment\u001b[0m \u001b[0;34m=\u001b[0m \u001b[0mdf\u001b[0m\u001b[0;34m.\u001b[0m\u001b[0mtreatment\u001b[0m\u001b[0;34m.\u001b[0m\u001b[0mapply\u001b[0m\u001b[0;34m(\u001b[0m\u001b[0mto_series\u001b[0m\u001b[0;34m)\u001b[0m\u001b[0;34m\u001b[0m\u001b[0;34m\u001b[0m\u001b[0m\n",
      "\u001b[0;31mKeyError\u001b[0m: \"results.mimic.['diagnoses', 'procedures'].['phenotype', 'treatment'].normal.its:1.dropout.ccs.[283, 231].25.256\""
     ]
    }
   ],
   "source": [
    "df = append[\"results.mimic.['diagnoses', 'procedures'].['phenotype', 'treatment'].normal.its:1.dropout.ccs.[283, 231].25.256\"]\n",
    "phenotype = df.phenotype.apply(to_series)\n",
    "treatment = df.treatment.apply(to_series)"
   ]
  },
  {
   "cell_type": "code",
   "execution_count": 13,
   "id": "organized-happening",
   "metadata": {},
   "outputs": [
    {
     "data": {
      "text/html": [
       "<div>\n",
       "<style scoped>\n",
       "    .dataframe tbody tr th:only-of-type {\n",
       "        vertical-align: middle;\n",
       "    }\n",
       "\n",
       "    .dataframe tbody tr th {\n",
       "        vertical-align: top;\n",
       "    }\n",
       "\n",
       "    .dataframe thead th {\n",
       "        text-align: right;\n",
       "    }\n",
       "</style>\n",
       "<table border=\"1\" class=\"dataframe\">\n",
       "  <thead>\n",
       "    <tr style=\"text-align: right;\">\n",
       "      <th></th>\n",
       "      <th>sensivity</th>\n",
       "      <th>tp</th>\n",
       "      <th>fn</th>\n",
       "      <th>fp</th>\n",
       "      <th>tn</th>\n",
       "      <th>specificity</th>\n",
       "      <th>died</th>\n",
       "      <th>accuracy</th>\n",
       "    </tr>\n",
       "  </thead>\n",
       "  <tbody>\n",
       "    <tr>\n",
       "      <th>SW-Phenotype-1-512</th>\n",
       "      <td>0.409183</td>\n",
       "      <td>606.0</td>\n",
       "      <td>875.0</td>\n",
       "      <td>473.0</td>\n",
       "      <td>9676.0</td>\n",
       "      <td>0.953394</td>\n",
       "      <td>1481.0</td>\n",
       "      <td>0.884093</td>\n",
       "    </tr>\n",
       "  </tbody>\n",
       "</table>\n",
       "</div>"
      ],
      "text/plain": [
       "                    sensivity     tp     fn     fp      tn  specificity  \\\n",
       "SW-Phenotype-1-512   0.409183  606.0  875.0  473.0  9676.0     0.953394   \n",
       "\n",
       "                      died  accuracy  \n",
       "SW-Phenotype-1-512  1481.0  0.884093  "
      ]
     },
     "execution_count": 13,
     "metadata": {},
     "output_type": "execute_result"
    }
   ],
   "source": [
    "df = append[\"results.mimic.['diagnoses'].['mortality'].normal.its:1.dropout.ccs.[1].25.256.ancestry:full\"]\n",
    "mortality = df.mortality.apply(to_series)\n",
    "mortality"
   ]
  },
  {
   "cell_type": "code",
   "execution_count": 15,
   "id": "developing-clothing",
   "metadata": {},
   "outputs": [
    {
     "ename": "KeyError",
     "evalue": "\"results.mimic.['diagnoses'].['mortality@30'].normal.its:1.dropout.ccs.[1].25.256.ancestry:full\"",
     "output_type": "error",
     "traceback": [
      "\u001b[0;31m---------------------------------------------------------------------------\u001b[0m",
      "\u001b[0;31mKeyError\u001b[0m                                  Traceback (most recent call last)",
      "\u001b[0;32m/tmp/ipykernel_1307/2821104250.py\u001b[0m in \u001b[0;36m<module>\u001b[0;34m\u001b[0m\n\u001b[0;32m----> 1\u001b[0;31m \u001b[0mdf\u001b[0m \u001b[0;34m=\u001b[0m \u001b[0mappend\u001b[0m\u001b[0;34m[\u001b[0m\u001b[0;34m\"results.mimic.['diagnoses'].['mortality@30'].normal.its:1.dropout.ccs.[1].25.256.ancestry:full\"\u001b[0m\u001b[0;34m]\u001b[0m\u001b[0;34m\u001b[0m\u001b[0;34m\u001b[0m\u001b[0m\n\u001b[0m\u001b[1;32m      2\u001b[0m \u001b[0mmortality\u001b[0m \u001b[0;34m=\u001b[0m \u001b[0mdf\u001b[0m\u001b[0;34m[\u001b[0m\u001b[0;34m\"mortality@30\"\u001b[0m\u001b[0;34m]\u001b[0m\u001b[0;34m.\u001b[0m\u001b[0mapply\u001b[0m\u001b[0;34m(\u001b[0m\u001b[0mto_series\u001b[0m\u001b[0;34m)\u001b[0m\u001b[0;34m\u001b[0m\u001b[0;34m\u001b[0m\u001b[0m\n\u001b[1;32m      3\u001b[0m \u001b[0mmortality\u001b[0m\u001b[0;34m\u001b[0m\u001b[0;34m\u001b[0m\u001b[0m\n",
      "\u001b[0;31mKeyError\u001b[0m: \"results.mimic.['diagnoses'].['mortality@30'].normal.its:1.dropout.ccs.[1].25.256.ancestry:full\""
     ]
    }
   ],
   "source": [
    "df = append[\"results.mimic.['diagnoses'].['mortality@30'].normal.its:1.dropout.ccs.[1].25.256.ancestry:full\"]\n",
    "mortality = df[\"mortality@30\"].apply(to_series)\n",
    "mortality"
   ]
  },
  {
   "cell_type": "code",
   "execution_count": 16,
   "id": "complete-nowhere",
   "metadata": {},
   "outputs": [
    {
     "data": {
      "text/plain": [
       "[\"results.mimic.['diagnoses'].['mortality'].normal.its:1.dropout.ccs.[1].25.256.ancestry:full\",\n",
       " \"results.mimic.['diagnoses'].['phenotype', 'mortality'].normal.its:1.dropout.ccs.[283, 1].25.256.ancestry:full\",\n",
       " \"results.mimic.['diagnoses'].['phenotype', 'mortality'].normal.its:1.dropout.all.[14567, 1].25.256.ancestry:full\",\n",
       " \"results.mimic.['diagnoses'].['phenotype', 'mortality@90'].normal.its:1.dropout.ccs.[283, 1].25.256.ancestry:full\"]"
      ]
     },
     "execution_count": 16,
     "metadata": {},
     "output_type": "execute_result"
    }
   ],
   "source": [
    "get_keys('mortality',lst)"
   ]
  },
  {
   "cell_type": "code",
   "execution_count": 14,
   "id": "selected-regard",
   "metadata": {},
   "outputs": [
    {
     "ename": "KeyError",
     "evalue": "\"results.mimic.['diagnoses'].['phenotype', 'mortality'].normal.its:1.dropout.ccs.[283,1].25.256.ancestry:full\"",
     "output_type": "error",
     "traceback": [
      "\u001b[0;31m---------------------------------------------------------------------------\u001b[0m",
      "\u001b[0;31mKeyError\u001b[0m                                  Traceback (most recent call last)",
      "\u001b[0;32m/tmp/ipykernel_1307/2188106899.py\u001b[0m in \u001b[0;36m<module>\u001b[0;34m\u001b[0m\n\u001b[0;32m----> 1\u001b[0;31m \u001b[0mdf\u001b[0m \u001b[0;34m=\u001b[0m \u001b[0mappend\u001b[0m\u001b[0;34m[\u001b[0m\u001b[0;34m\"results.mimic.['diagnoses'].['phenotype', 'mortality'].normal.its:1.dropout.ccs.[283,1].25.256.ancestry:full\"\u001b[0m\u001b[0;34m]\u001b[0m\u001b[0;34m\u001b[0m\u001b[0;34m\u001b[0m\u001b[0m\n\u001b[0m\u001b[1;32m      2\u001b[0m \u001b[0mmortality\u001b[0m \u001b[0;34m=\u001b[0m \u001b[0mdf\u001b[0m\u001b[0;34m.\u001b[0m\u001b[0mmortality\u001b[0m\u001b[0;34m.\u001b[0m\u001b[0mapply\u001b[0m\u001b[0;34m(\u001b[0m\u001b[0mto_series\u001b[0m\u001b[0;34m)\u001b[0m\u001b[0;34m\u001b[0m\u001b[0;34m\u001b[0m\u001b[0m\n\u001b[1;32m      3\u001b[0m \u001b[0mmortality\u001b[0m\u001b[0;34m\u001b[0m\u001b[0;34m\u001b[0m\u001b[0m\n",
      "\u001b[0;31mKeyError\u001b[0m: \"results.mimic.['diagnoses'].['phenotype', 'mortality'].normal.its:1.dropout.ccs.[283,1].25.256.ancestry:full\""
     ]
    }
   ],
   "source": [
    "df = append[\"results.mimic.['diagnoses'].['phenotype', 'mortality'].normal.its:1.dropout.ccs.[283,1].25.256.ancestry:full\"]\n",
    "mortality = df.mortality.apply(to_series)\n",
    "mortality"
   ]
  },
  {
   "cell_type": "code",
   "execution_count": 14,
   "id": "healthy-academy",
   "metadata": {},
   "outputs": [
    {
     "data": {
      "text/plain": [
       "[\"results.mimic.['diagnoses'].['mortality'].normal.its:1.dropout.ccs.[1].25.256.ancestry:full\",\n",
       " \"results.mimic.['diagnoses'].['phenotype', 'mortality'].normal.its:1.dropout.ccs.[283, 1].25.256.ancestry:full\",\n",
       " \"results.mimic.['diagnoses'].['phenotype', 'mortality'].normal.its:1.dropout.all.[14567, 1].25.256.ancestry:full\",\n",
       " \"results.mimic.['diagnoses'].['phenotype', 'mortality@30'].normal.its:1.dropout.ccs.[283, 1].25.256.ancestry:full\",\n",
       " \"results.mimic.['diagnoses'].['phenotype', 'mortality@90'].normal.its:1.dropout.ccs.[283, 1].25.256.ancestry:full\",\n",
       " \"results.mimic.['diagnoses'].['mortality@30'].normal.its:1.dropout.ccs.[1].25.256.ancestry:full\"]"
      ]
     },
     "execution_count": 14,
     "metadata": {},
     "output_type": "execute_result"
    }
   ],
   "source": [
    "get_keys('mortality',lst)"
   ]
  },
  {
   "cell_type": "code",
   "execution_count": 19,
   "id": "married-skirt",
   "metadata": {},
   "outputs": [
    {
     "data": {
      "text/html": [
       "<div>\n",
       "<style scoped>\n",
       "    .dataframe tbody tr th:only-of-type {\n",
       "        vertical-align: middle;\n",
       "    }\n",
       "\n",
       "    .dataframe tbody tr th {\n",
       "        vertical-align: top;\n",
       "    }\n",
       "\n",
       "    .dataframe thead th {\n",
       "        text-align: right;\n",
       "    }\n",
       "</style>\n",
       "<table border=\"1\" class=\"dataframe\">\n",
       "  <thead>\n",
       "    <tr style=\"text-align: right;\">\n",
       "      <th></th>\n",
       "      <th>sensivity</th>\n",
       "      <th>tp</th>\n",
       "      <th>fn</th>\n",
       "      <th>fp</th>\n",
       "      <th>tn</th>\n",
       "      <th>specificity</th>\n",
       "      <th>died</th>\n",
       "      <th>accuracy</th>\n",
       "    </tr>\n",
       "  </thead>\n",
       "  <tbody>\n",
       "    <tr>\n",
       "      <th>SW-Phenotype-0-512</th>\n",
       "      <td>0.444522</td>\n",
       "      <td>633.0</td>\n",
       "      <td>791.0</td>\n",
       "      <td>454.0</td>\n",
       "      <td>9752.0</td>\n",
       "      <td>0.955516</td>\n",
       "      <td>1424.0</td>\n",
       "      <td>0.892949</td>\n",
       "    </tr>\n",
       "    <tr>\n",
       "      <th>SW-Phenotype-1-512</th>\n",
       "      <td>0.409183</td>\n",
       "      <td>606.0</td>\n",
       "      <td>875.0</td>\n",
       "      <td>473.0</td>\n",
       "      <td>9676.0</td>\n",
       "      <td>0.953394</td>\n",
       "      <td>1481.0</td>\n",
       "      <td>0.884093</td>\n",
       "    </tr>\n",
       "  </tbody>\n",
       "</table>\n",
       "</div>"
      ],
      "text/plain": [
       "                    sensivity     tp     fn     fp      tn  specificity  \\\n",
       "SW-Phenotype-0-512   0.444522  633.0  791.0  454.0  9752.0     0.955516   \n",
       "SW-Phenotype-1-512   0.409183  606.0  875.0  473.0  9676.0     0.953394   \n",
       "\n",
       "                      died  accuracy  \n",
       "SW-Phenotype-0-512  1424.0  0.892949  \n",
       "SW-Phenotype-1-512  1481.0  0.884093  "
      ]
     },
     "execution_count": 19,
     "metadata": {},
     "output_type": "execute_result"
    }
   ],
   "source": [
    "df = append[\"results.mimic.['diagnoses'].['mortality'].normal.its:1.dropout.ccs.[1].25.256.ancestry:full\"]\n",
    "mortality = df.mortality.apply(to_series)\n",
    "mortality"
   ]
  },
  {
   "cell_type": "code",
   "execution_count": 39,
   "id": "false-armor",
   "metadata": {},
   "outputs": [
    {
     "data": {
      "text/html": [
       "<div>\n",
       "<style scoped>\n",
       "    .dataframe tbody tr th:only-of-type {\n",
       "        vertical-align: middle;\n",
       "    }\n",
       "\n",
       "    .dataframe tbody tr th {\n",
       "        vertical-align: top;\n",
       "    }\n",
       "\n",
       "    .dataframe thead th {\n",
       "        text-align: right;\n",
       "    }\n",
       "</style>\n",
       "<table border=\"1\" class=\"dataframe\">\n",
       "  <thead>\n",
       "    <tr style=\"text-align: right;\">\n",
       "      <th></th>\n",
       "      <th>sensivity</th>\n",
       "      <th>tp</th>\n",
       "      <th>fn</th>\n",
       "      <th>fp</th>\n",
       "      <th>tn</th>\n",
       "      <th>specificity</th>\n",
       "      <th>died</th>\n",
       "      <th>accuracy</th>\n",
       "    </tr>\n",
       "  </thead>\n",
       "  <tbody>\n",
       "    <tr>\n",
       "      <th>SW-Phenotype-0-512</th>\n",
       "      <td>0.990164</td>\n",
       "      <td>302.0</td>\n",
       "      <td>3.0</td>\n",
       "      <td>55.0</td>\n",
       "      <td>6.0</td>\n",
       "      <td>0.098361</td>\n",
       "      <td>305.0</td>\n",
       "      <td>0.841530</td>\n",
       "    </tr>\n",
       "    <tr>\n",
       "      <th>SW-Phenotype-1-512</th>\n",
       "      <td>0.980328</td>\n",
       "      <td>299.0</td>\n",
       "      <td>6.0</td>\n",
       "      <td>51.0</td>\n",
       "      <td>10.0</td>\n",
       "      <td>0.163934</td>\n",
       "      <td>305.0</td>\n",
       "      <td>0.844262</td>\n",
       "    </tr>\n",
       "    <tr>\n",
       "      <th>SW-Phenotype-2-512</th>\n",
       "      <td>0.980328</td>\n",
       "      <td>299.0</td>\n",
       "      <td>6.0</td>\n",
       "      <td>51.0</td>\n",
       "      <td>10.0</td>\n",
       "      <td>0.163934</td>\n",
       "      <td>305.0</td>\n",
       "      <td>0.844262</td>\n",
       "    </tr>\n",
       "  </tbody>\n",
       "</table>\n",
       "</div>"
      ],
      "text/plain": [
       "                    sensivity     tp   fn    fp    tn  specificity   died  \\\n",
       "SW-Phenotype-0-512   0.990164  302.0  3.0  55.0   6.0     0.098361  305.0   \n",
       "SW-Phenotype-1-512   0.980328  299.0  6.0  51.0  10.0     0.163934  305.0   \n",
       "SW-Phenotype-2-512   0.980328  299.0  6.0  51.0  10.0     0.163934  305.0   \n",
       "\n",
       "                    accuracy  \n",
       "SW-Phenotype-0-512  0.841530  \n",
       "SW-Phenotype-1-512  0.844262  \n",
       "SW-Phenotype-2-512  0.844262  "
      ]
     },
     "execution_count": 39,
     "metadata": {},
     "output_type": "execute_result"
    }
   ],
   "source": [
    "df = append[\"results.mimic.['diagnoses'].['mortality@30'].normal.its:1.dropout.ccs.[1].25.256.ancestry:full\"]\n",
    "mortality_30 = df[\"mortality@30\"].apply(to_series)\n",
    "mortality_30"
   ]
  },
  {
   "cell_type": "code",
   "execution_count": 45,
   "id": "strategic-capitol",
   "metadata": {},
   "outputs": [],
   "source": [
    "df = append[\"results.mimic.['diagnoses'].['phenotype', 'mortality@30'].normal.its:1.dropout.ccs.[283, 1].25.256.ancestry:full\"]\n",
    "mortality_30 = df[\"mortality@30\"].apply(to_series)\n",
    "phenotype = df.phenotype.apply(to_series)"
   ]
  },
  {
   "cell_type": "code",
   "execution_count": 48,
   "id": "upset-fellow",
   "metadata": {},
   "outputs": [
    {
     "data": {
      "text/html": [
       "<div>\n",
       "<style scoped>\n",
       "    .dataframe tbody tr th:only-of-type {\n",
       "        vertical-align: middle;\n",
       "    }\n",
       "\n",
       "    .dataframe tbody tr th {\n",
       "        vertical-align: top;\n",
       "    }\n",
       "\n",
       "    .dataframe thead th {\n",
       "        text-align: right;\n",
       "    }\n",
       "</style>\n",
       "<table border=\"1\" class=\"dataframe\">\n",
       "  <thead>\n",
       "    <tr style=\"text-align: right;\">\n",
       "      <th></th>\n",
       "      <th>R@5</th>\n",
       "      <th>R@10</th>\n",
       "      <th>R@30</th>\n",
       "    </tr>\n",
       "  </thead>\n",
       "  <tbody>\n",
       "    <tr>\n",
       "      <th>SW-Phenotype-0-512-causal:False</th>\n",
       "      <td>0.42518622</td>\n",
       "      <td>0.38018644</td>\n",
       "      <td>0.5807714</td>\n",
       "    </tr>\n",
       "    <tr>\n",
       "      <th>SW-Phenotype-1-512-causal:False</th>\n",
       "      <td>0.3946462</td>\n",
       "      <td>0.3675989</td>\n",
       "      <td>0.5671719</td>\n",
       "    </tr>\n",
       "    <tr>\n",
       "      <th>SW-Phenotype-2-512-causal:False</th>\n",
       "      <td>0.39702046</td>\n",
       "      <td>0.36566016</td>\n",
       "      <td>0.56474644</td>\n",
       "    </tr>\n",
       "  </tbody>\n",
       "</table>\n",
       "</div>"
      ],
      "text/plain": [
       "                                        R@5        R@10        R@30\n",
       "SW-Phenotype-0-512-causal:False  0.42518622  0.38018644   0.5807714\n",
       "SW-Phenotype-1-512-causal:False   0.3946462   0.3675989   0.5671719\n",
       "SW-Phenotype-2-512-causal:False  0.39702046  0.36566016  0.56474644"
      ]
     },
     "execution_count": 48,
     "metadata": {},
     "output_type": "execute_result"
    }
   ],
   "source": [
    "phenotype[[\"R@5\",\"R@10\",\"R@30\"]]"
   ]
  },
  {
   "cell_type": "code",
   "execution_count": 51,
   "id": "reasonable-average",
   "metadata": {},
   "outputs": [
    {
     "name": "stdout",
     "output_type": "stream",
     "text": [
      "\\begin{table}\n",
      "\\centering\n",
      "\\caption{TBD}\n",
      "\\begin{tabular}{lrrrrrrrr}\n",
      "\\toprule\n",
      "{} &  sensivity &     tp &   fn &    fp &   tn &  specificity &   died &  accuracy \\\\\n",
      "\\midrule\n",
      "SW-Phenotype-1-512-causal:False &   0.990323 &  307.0 &  3.0 &  48.0 &  0.0 &          0.0 &  310.0 &  0.857542 \\\\\n",
      "\\bottomrule\n",
      "\\end{tabular}\n",
      "\\end{table}\n",
      "\n"
     ]
    }
   ],
   "source": [
    "print(mortality_30.loc[[\"SW-Phenotype-1-512-causal:False\"]].to_latex(caption='TBD'))"
   ]
  },
  {
   "cell_type": "code",
   "execution_count": 52,
   "id": "geographic-antarctica",
   "metadata": {},
   "outputs": [],
   "source": [
    "df = append[\"results.mimic.['diagnoses'].['phenotype', 'mortality'].normal.its:1.dropout.ccs.[283, 1].25.256.ancestry:full\"]\n",
    "mortality = df.mortality.apply(to_series)\n",
    "phenotype = df.phenotype.apply(to_series)"
   ]
  },
  {
   "cell_type": "code",
   "execution_count": 55,
   "id": "spoken-monitoring",
   "metadata": {},
   "outputs": [
    {
     "name": "stdout",
     "output_type": "stream",
     "text": [
      "\\begin{table}\n",
      "\\centering\n",
      "\\caption{TBD}\n",
      "\\begin{tabular}{lrrr}\n",
      "\\toprule\n",
      "{} &  sensivity &  specificity &  accuracy \\\\\n",
      "\\midrule\n",
      "SW-Phenotype-1-512-causal:False &   0.319892 &     0.872255 &  0.762667 \\\\\n",
      "\\bottomrule\n",
      "\\end{tabular}\n",
      "\\end{table}\n",
      "\n"
     ]
    }
   ],
   "source": [
    "print(mortality.loc[[\"SW-Phenotype-1-512-causal:False\"]][['sensivity','specificity','accuracy']].to_latex(caption='TBD'))"
   ]
  },
  {
   "cell_type": "code",
   "execution_count": 58,
   "id": "antique-factory",
   "metadata": {},
   "outputs": [
    {
     "data": {
      "text/html": [
       "<div>\n",
       "<style scoped>\n",
       "    .dataframe tbody tr th:only-of-type {\n",
       "        vertical-align: middle;\n",
       "    }\n",
       "\n",
       "    .dataframe tbody tr th {\n",
       "        vertical-align: top;\n",
       "    }\n",
       "\n",
       "    .dataframe thead th {\n",
       "        text-align: right;\n",
       "    }\n",
       "</style>\n",
       "<table border=\"1\" class=\"dataframe\">\n",
       "  <thead>\n",
       "    <tr style=\"text-align: right;\">\n",
       "      <th></th>\n",
       "      <th>sensivity</th>\n",
       "      <th>tp</th>\n",
       "      <th>fn</th>\n",
       "      <th>fp</th>\n",
       "      <th>tn</th>\n",
       "      <th>specificity</th>\n",
       "      <th>died</th>\n",
       "      <th>accuracy</th>\n",
       "    </tr>\n",
       "  </thead>\n",
       "  <tbody>\n",
       "    <tr>\n",
       "      <th>SW-Phenotype-0-512</th>\n",
       "      <td>0.444522</td>\n",
       "      <td>633.0</td>\n",
       "      <td>791.0</td>\n",
       "      <td>454.0</td>\n",
       "      <td>9752.0</td>\n",
       "      <td>0.955516</td>\n",
       "      <td>1424.0</td>\n",
       "      <td>0.892949</td>\n",
       "    </tr>\n",
       "    <tr>\n",
       "      <th>SW-Phenotype-1-512</th>\n",
       "      <td>0.409183</td>\n",
       "      <td>606.0</td>\n",
       "      <td>875.0</td>\n",
       "      <td>473.0</td>\n",
       "      <td>9676.0</td>\n",
       "      <td>0.953394</td>\n",
       "      <td>1481.0</td>\n",
       "      <td>0.884093</td>\n",
       "    </tr>\n",
       "  </tbody>\n",
       "</table>\n",
       "</div>"
      ],
      "text/plain": [
       "                    sensivity     tp     fn     fp      tn  specificity  \\\n",
       "SW-Phenotype-0-512   0.444522  633.0  791.0  454.0  9752.0     0.955516   \n",
       "SW-Phenotype-1-512   0.409183  606.0  875.0  473.0  9676.0     0.953394   \n",
       "\n",
       "                      died  accuracy  \n",
       "SW-Phenotype-0-512  1424.0  0.892949  \n",
       "SW-Phenotype-1-512  1481.0  0.884093  "
      ]
     },
     "execution_count": 58,
     "metadata": {},
     "output_type": "execute_result"
    }
   ],
   "source": [
    "df = append[\"results.mimic.['diagnoses'].['mortality'].normal.its:1.dropout.ccs.[1].25.256.ancestry:full\"]\n",
    "mortality = df.mortality.apply(to_series)\n",
    "mortality"
   ]
  },
  {
   "cell_type": "code",
   "execution_count": 38,
   "id": "registered-jumping",
   "metadata": {},
   "outputs": [
    {
     "name": "stdout",
     "output_type": "stream",
     "text": [
      "\\begin{table}\n",
      "\\centering\n",
      "\\caption{TBD}\n",
      "\\begin{tabular}{llll}\n",
      "\\toprule\n",
      "{} &   R@5 &        R@10 &        R@30 \\\\\n",
      "\\midrule\n",
      "SW-Phenotype-1-512-causal:False &  0.49 &  0.46168444 &  0.65229785 \\\\\n",
      "\\bottomrule\n",
      "\\end{tabular}\n",
      "\\end{table}\n",
      "\n"
     ]
    }
   ],
   "source": [
    "print(phenotype.loc[['SW-Phenotype-1-512-causal:False']][[\"R@5\",\"R@10\",\"R@30\"]].to_latex(caption=\"TBD\"))"
   ]
  },
  {
   "cell_type": "code",
   "execution_count": 33,
   "id": "precise-warrant",
   "metadata": {},
   "outputs": [
    {
     "data": {
      "text/html": [
       "<div>\n",
       "<style scoped>\n",
       "    .dataframe tbody tr th:only-of-type {\n",
       "        vertical-align: middle;\n",
       "    }\n",
       "\n",
       "    .dataframe tbody tr th {\n",
       "        vertical-align: top;\n",
       "    }\n",
       "\n",
       "    .dataframe thead th {\n",
       "        text-align: right;\n",
       "    }\n",
       "</style>\n",
       "<table border=\"1\" class=\"dataframe\">\n",
       "  <thead>\n",
       "    <tr style=\"text-align: right;\">\n",
       "      <th></th>\n",
       "      <th>sensivity</th>\n",
       "      <th>tp</th>\n",
       "      <th>fn</th>\n",
       "      <th>fp</th>\n",
       "      <th>tn</th>\n",
       "      <th>specificity</th>\n",
       "      <th>died</th>\n",
       "      <th>accuracy</th>\n",
       "    </tr>\n",
       "  </thead>\n",
       "  <tbody>\n",
       "    <tr>\n",
       "      <th>SW-Phenotype-1-512-causal:False</th>\n",
       "      <td>0.319892</td>\n",
       "      <td>119.0</td>\n",
       "      <td>253.0</td>\n",
       "      <td>192.0</td>\n",
       "      <td>1311.0</td>\n",
       "      <td>0.872255</td>\n",
       "      <td>372.0</td>\n",
       "      <td>0.762667</td>\n",
       "    </tr>\n",
       "  </tbody>\n",
       "</table>\n",
       "</div>"
      ],
      "text/plain": [
       "                                 sensivity     tp     fn     fp      tn  \\\n",
       "SW-Phenotype-1-512-causal:False   0.319892  119.0  253.0  192.0  1311.0   \n",
       "\n",
       "                                 specificity   died  accuracy  \n",
       "SW-Phenotype-1-512-causal:False     0.872255  372.0  0.762667  "
      ]
     },
     "execution_count": 33,
     "metadata": {},
     "output_type": "execute_result"
    }
   ],
   "source": [
    "mortality.loc[['SW-Phenotype-1-512-causal:False']]"
   ]
  },
  {
   "cell_type": "code",
   "execution_count": 13,
   "id": "boxed-toyota",
   "metadata": {},
   "outputs": [
    {
     "ename": "KeyError",
     "evalue": "\"results.mimic.['diagnoses'].['mortality@90'].normal.its:1.dropout.ccs.[1].25.256.ancestry:full\"",
     "output_type": "error",
     "traceback": [
      "\u001b[0;31m---------------------------------------------------------------------------\u001b[0m",
      "\u001b[0;31mKeyError\u001b[0m                                  Traceback (most recent call last)",
      "\u001b[0;32m/tmp/ipykernel_1710/1951645652.py\u001b[0m in \u001b[0;36m<module>\u001b[0;34m\u001b[0m\n\u001b[1;32m      5\u001b[0m \u001b[0mmortality_30\u001b[0m \u001b[0;34m=\u001b[0m \u001b[0mdf\u001b[0m\u001b[0;34m[\u001b[0m\u001b[0;34m'mortality@30'\u001b[0m\u001b[0;34m]\u001b[0m\u001b[0;34m.\u001b[0m\u001b[0mapply\u001b[0m\u001b[0;34m(\u001b[0m\u001b[0mto_series\u001b[0m\u001b[0;34m)\u001b[0m\u001b[0;34m.\u001b[0m\u001b[0mloc\u001b[0m\u001b[0;34m[\u001b[0m\u001b[0;34m[\u001b[0m\u001b[0midxmx\u001b[0m\u001b[0;34m]\u001b[0m\u001b[0;34m]\u001b[0m\u001b[0;34m\u001b[0m\u001b[0;34m\u001b[0m\u001b[0m\n\u001b[1;32m      6\u001b[0m \u001b[0;34m\u001b[0m\u001b[0m\n\u001b[0;32m----> 7\u001b[0;31m \u001b[0mdf\u001b[0m \u001b[0;34m=\u001b[0m \u001b[0mappend\u001b[0m\u001b[0;34m[\u001b[0m\u001b[0;34m\"results.mimic.['diagnoses'].['mortality@90'].normal.its:1.dropout.ccs.[1].25.256.ancestry:full\"\u001b[0m\u001b[0;34m]\u001b[0m\u001b[0;34m\u001b[0m\u001b[0;34m\u001b[0m\u001b[0m\n\u001b[0m\u001b[1;32m      8\u001b[0m \u001b[0mmortality_90\u001b[0m \u001b[0;34m=\u001b[0m \u001b[0mdf\u001b[0m\u001b[0;34m[\u001b[0m\u001b[0;34m'mortality@90'\u001b[0m\u001b[0;34m]\u001b[0m\u001b[0;34m.\u001b[0m\u001b[0mapply\u001b[0m\u001b[0;34m(\u001b[0m\u001b[0mto_series\u001b[0m\u001b[0;34m)\u001b[0m\u001b[0;34m.\u001b[0m\u001b[0mloc\u001b[0m\u001b[0;34m[\u001b[0m\u001b[0;34m[\u001b[0m\u001b[0midxmx\u001b[0m\u001b[0;34m]\u001b[0m\u001b[0;34m]\u001b[0m\u001b[0;34m\u001b[0m\u001b[0;34m\u001b[0m\u001b[0m\n\u001b[1;32m      9\u001b[0m \u001b[0;34m\u001b[0m\u001b[0m\n",
      "\u001b[0;31mKeyError\u001b[0m: \"results.mimic.['diagnoses'].['mortality@90'].normal.its:1.dropout.ccs.[1].25.256.ancestry:full\""
     ]
    }
   ],
   "source": [
    "df = append[\"results.mimic.['diagnoses'].['mortality'].normal.its:1.dropout.ccs.[1].25.256.ancestry:full\"]\n",
    "mortality = df.mortality.apply(to_series).loc[[idxmx]]\n",
    "\n",
    "df = append[\"results.mimic.['diagnoses'].['mortality@30'].normal.its:1.dropout.ccs.[1].25.256.ancestry:full\"]\n",
    "mortality_30 = df['mortality@30'].apply(to_series).loc[[idxmx]]\n",
    "\n",
    "df = append[\"results.mimic.['diagnoses'].['mortality@90'].normal.its:1.dropout.ccs.[1].25.256.ancestry:full\"]\n",
    "mortality_90 = df['mortality@90'].apply(to_series).loc[[idxmx]]\n",
    "\n",
    "df = pd.concat([mortality,mortality_30,mortality_90])\n",
    "df['alive'] = df['fp'] + df['tn']\n",
    "df = df[['sensivity','specificity','accuracy','died','alive']]\n",
    "names = ['in-hospital','mortality@30','mortality@90']\n",
    "df.index = names\n",
    "df"
   ]
  },
  {
   "cell_type": "code",
   "execution_count": 215,
   "id": "exempt-intent",
   "metadata": {},
   "outputs": [
    {
     "name": "stdout",
     "output_type": "stream",
     "text": [
      "\\begin{table}\n",
      "\\centering\n",
      "\\caption{mortality}\n",
      "\\begin{tabular}{lllll}\n",
      "\\toprule\n",
      "{} & epochs &                                               loss &                                          mortality &         time \\\\\n",
      "\\midrule\n",
      "SW-Phenotype-1-512 &     24 &  [0.3080752854147097, 0.2583765838920635, 0.237... &  \\{'sensivity': 0.4091829844699527, 'tp': 606, '... &  8110.278678 \\\\\n",
      "\\bottomrule\n",
      "\\end{tabular}\n",
      "\\end{table}\n",
      "\n"
     ]
    }
   ],
   "source": [
    "print(df.to_latex(caption='mortality'))"
   ]
  },
  {
   "cell_type": "code",
   "execution_count": null,
   "id": "exotic-awareness",
   "metadata": {},
   "outputs": [],
   "source": []
  },
  {
   "cell_type": "code",
   "execution_count": 216,
   "id": "listed-password",
   "metadata": {},
   "outputs": [
    {
     "ename": "KeyError",
     "evalue": "\"results.mimic.['diagnoses'].['phenotype', 'mortality'].normal.its:1.dropout.ccs.[283, 1].25.256\"",
     "output_type": "error",
     "traceback": [
      "\u001b[0;31m---------------------------------------------------------------------------\u001b[0m",
      "\u001b[0;31mKeyError\u001b[0m                                  Traceback (most recent call last)",
      "\u001b[0;32m/tmp/ipykernel_1201/911389764.py\u001b[0m in \u001b[0;36m<module>\u001b[0;34m\u001b[0m\n\u001b[0;32m----> 1\u001b[0;31m \u001b[0mdf\u001b[0m \u001b[0;34m=\u001b[0m \u001b[0mappend\u001b[0m\u001b[0;34m[\u001b[0m\u001b[0;34m\"results.mimic.['diagnoses'].['phenotype', 'mortality'].normal.its:1.dropout.ccs.[283, 1].25.256\"\u001b[0m\u001b[0;34m]\u001b[0m\u001b[0;34m\u001b[0m\u001b[0;34m\u001b[0m\u001b[0m\n\u001b[0m\u001b[1;32m      2\u001b[0m \u001b[0mmortality\u001b[0m \u001b[0;34m=\u001b[0m \u001b[0mdf\u001b[0m\u001b[0;34m.\u001b[0m\u001b[0mmortality\u001b[0m\u001b[0;34m.\u001b[0m\u001b[0mapply\u001b[0m\u001b[0;34m(\u001b[0m\u001b[0mto_series\u001b[0m\u001b[0;34m)\u001b[0m\u001b[0;34m\u001b[0m\u001b[0;34m\u001b[0m\u001b[0m\n\u001b[1;32m      3\u001b[0m \u001b[0mphenotype\u001b[0m \u001b[0;34m=\u001b[0m \u001b[0mdf\u001b[0m\u001b[0;34m.\u001b[0m\u001b[0mphenotype\u001b[0m\u001b[0;34m.\u001b[0m\u001b[0mapply\u001b[0m\u001b[0;34m(\u001b[0m\u001b[0mto_series\u001b[0m\u001b[0;34m)\u001b[0m\u001b[0;34m\u001b[0m\u001b[0;34m\u001b[0m\u001b[0m\n",
      "\u001b[0;31mKeyError\u001b[0m: \"results.mimic.['diagnoses'].['phenotype', 'mortality'].normal.its:1.dropout.ccs.[283, 1].25.256\""
     ]
    }
   ],
   "source": [
    "df = append[\"results.mimic.['diagnoses'].['phenotype', 'mortality'].normal.its:1.dropout.ccs.[283, 1].25.256\"]\n",
    "mortality = df.mortality.apply(to_series)\n",
    "phenotype = df.phenotype.apply(to_series)"
   ]
  },
  {
   "cell_type": "code",
   "execution_count": 217,
   "id": "dominant-narrow",
   "metadata": {},
   "outputs": [
    {
     "ename": "KeyError",
     "evalue": "\"results.mimic.['diagnoses'].['phenotype', 'mortality@30'].normal.its:1.dropout.ccs.[283, 1].25.256\"",
     "output_type": "error",
     "traceback": [
      "\u001b[0;31m---------------------------------------------------------------------------\u001b[0m",
      "\u001b[0;31mKeyError\u001b[0m                                  Traceback (most recent call last)",
      "\u001b[0;32m/tmp/ipykernel_1201/209238257.py\u001b[0m in \u001b[0;36m<module>\u001b[0;34m\u001b[0m\n\u001b[0;32m----> 1\u001b[0;31m \u001b[0mdf\u001b[0m \u001b[0;34m=\u001b[0m \u001b[0mappend\u001b[0m\u001b[0;34m[\u001b[0m\u001b[0;34m\"results.mimic.['diagnoses'].['phenotype', 'mortality@30'].normal.its:1.dropout.ccs.[283, 1].25.256\"\u001b[0m\u001b[0;34m]\u001b[0m\u001b[0;34m\u001b[0m\u001b[0;34m\u001b[0m\u001b[0m\n\u001b[0m\u001b[1;32m      2\u001b[0m \u001b[0mmortality_30\u001b[0m \u001b[0;34m=\u001b[0m \u001b[0mdf\u001b[0m\u001b[0;34m[\u001b[0m\u001b[0;34m\"mortality@30\"\u001b[0m\u001b[0;34m]\u001b[0m\u001b[0;34m.\u001b[0m\u001b[0mapply\u001b[0m\u001b[0;34m(\u001b[0m\u001b[0mto_series\u001b[0m\u001b[0;34m)\u001b[0m\u001b[0;34m\u001b[0m\u001b[0;34m\u001b[0m\u001b[0m\n\u001b[1;32m      3\u001b[0m \u001b[0mphenotype\u001b[0m \u001b[0;34m=\u001b[0m \u001b[0mdf\u001b[0m\u001b[0;34m.\u001b[0m\u001b[0mphenotype\u001b[0m\u001b[0;34m.\u001b[0m\u001b[0mapply\u001b[0m\u001b[0;34m(\u001b[0m\u001b[0mto_series\u001b[0m\u001b[0;34m)\u001b[0m\u001b[0;34m\u001b[0m\u001b[0;34m\u001b[0m\u001b[0m\n",
      "\u001b[0;31mKeyError\u001b[0m: \"results.mimic.['diagnoses'].['phenotype', 'mortality@30'].normal.its:1.dropout.ccs.[283, 1].25.256\""
     ]
    }
   ],
   "source": [
    "df = append[\"results.mimic.['diagnoses'].['phenotype', 'mortality@30'].normal.its:1.dropout.ccs.[283, 1].25.256\"]\n",
    "mortality_30 = df[\"mortality@30\"].apply(to_series)\n",
    "phenotype = df.phenotype.apply(to_series)"
   ]
  },
  {
   "cell_type": "code",
   "execution_count": 218,
   "id": "central-grade",
   "metadata": {},
   "outputs": [
    {
     "ename": "NameError",
     "evalue": "name 'mortality_30' is not defined",
     "output_type": "error",
     "traceback": [
      "\u001b[0;31m---------------------------------------------------------------------------\u001b[0m",
      "\u001b[0;31mNameError\u001b[0m                                 Traceback (most recent call last)",
      "\u001b[0;32m/tmp/ipykernel_1201/2777894259.py\u001b[0m in \u001b[0;36m<module>\u001b[0;34m\u001b[0m\n\u001b[0;32m----> 1\u001b[0;31m \u001b[0mmortality_30\u001b[0m\u001b[0;34m\u001b[0m\u001b[0;34m\u001b[0m\u001b[0m\n\u001b[0m",
      "\u001b[0;31mNameError\u001b[0m: name 'mortality_30' is not defined"
     ]
    }
   ],
   "source": [
    "mortality_30"
   ]
  },
  {
   "cell_type": "code",
   "execution_count": 219,
   "id": "extraordinary-laundry",
   "metadata": {},
   "outputs": [
    {
     "ename": "AttributeError",
     "evalue": "'DataFrame' object has no attribute 'phenotype'",
     "output_type": "error",
     "traceback": [
      "\u001b[0;31m---------------------------------------------------------------------------\u001b[0m",
      "\u001b[0;31mAttributeError\u001b[0m                            Traceback (most recent call last)",
      "\u001b[0;32m/tmp/ipykernel_1201/1565498689.py\u001b[0m in \u001b[0;36m<module>\u001b[0;34m\u001b[0m\n\u001b[1;32m      1\u001b[0m \u001b[0;31m#df = append[\"results.eICU.['diagnoses'].['mortality'].normal.its:1.dropout.ccs.[1].25.256\"]\u001b[0m\u001b[0;34m\u001b[0m\u001b[0;34m\u001b[0m\u001b[0m\n\u001b[0;32m----> 2\u001b[0;31m \u001b[0meicu\u001b[0m \u001b[0;34m=\u001b[0m \u001b[0mdf\u001b[0m\u001b[0;34m.\u001b[0m\u001b[0mphenotype\u001b[0m\u001b[0;34m.\u001b[0m\u001b[0mapply\u001b[0m\u001b[0;34m(\u001b[0m\u001b[0mto_series\u001b[0m\u001b[0;34m)\u001b[0m\u001b[0;34m\u001b[0m\u001b[0;34m\u001b[0m\u001b[0m\n\u001b[0m\u001b[1;32m      3\u001b[0m \u001b[0;34m\u001b[0m\u001b[0m\n\u001b[1;32m      4\u001b[0m \u001b[0meicu\u001b[0m \u001b[0;34m=\u001b[0m \u001b[0meicu\u001b[0m\u001b[0;34m.\u001b[0m\u001b[0mloc\u001b[0m\u001b[0;34m[\u001b[0m\u001b[0midxmx\u001b[0m\u001b[0;34m]\u001b[0m\u001b[0;34m[\u001b[0m\u001b[0mmetrics\u001b[0m\u001b[0;34m]\u001b[0m\u001b[0;34m\u001b[0m\u001b[0;34m\u001b[0m\u001b[0m\n\u001b[1;32m      5\u001b[0m \u001b[0meicu\u001b[0m\u001b[0;34m.\u001b[0m\u001b[0mname\u001b[0m \u001b[0;34m=\u001b[0m \u001b[0;34m\"Phenotype Prediction (ICD-9 3-digit)\"\u001b[0m\u001b[0;34m\u001b[0m\u001b[0;34m\u001b[0m\u001b[0m\n",
      "\u001b[0;32m/opt/conda/envs/pyg/lib/python3.9/site-packages/pandas/core/generic.py\u001b[0m in \u001b[0;36m__getattr__\u001b[0;34m(self, name)\u001b[0m\n\u001b[1;32m   5476\u001b[0m         ):\n\u001b[1;32m   5477\u001b[0m             \u001b[0;32mreturn\u001b[0m \u001b[0mself\u001b[0m\u001b[0;34m[\u001b[0m\u001b[0mname\u001b[0m\u001b[0;34m]\u001b[0m\u001b[0;34m\u001b[0m\u001b[0;34m\u001b[0m\u001b[0m\n\u001b[0;32m-> 5478\u001b[0;31m         \u001b[0;32mreturn\u001b[0m \u001b[0mobject\u001b[0m\u001b[0;34m.\u001b[0m\u001b[0m__getattribute__\u001b[0m\u001b[0;34m(\u001b[0m\u001b[0mself\u001b[0m\u001b[0;34m,\u001b[0m \u001b[0mname\u001b[0m\u001b[0;34m)\u001b[0m\u001b[0;34m\u001b[0m\u001b[0;34m\u001b[0m\u001b[0m\n\u001b[0m\u001b[1;32m   5479\u001b[0m \u001b[0;34m\u001b[0m\u001b[0m\n\u001b[1;32m   5480\u001b[0m     \u001b[0;32mdef\u001b[0m \u001b[0m__setattr__\u001b[0m\u001b[0;34m(\u001b[0m\u001b[0mself\u001b[0m\u001b[0;34m,\u001b[0m \u001b[0mname\u001b[0m\u001b[0;34m:\u001b[0m \u001b[0mstr\u001b[0m\u001b[0;34m,\u001b[0m \u001b[0mvalue\u001b[0m\u001b[0;34m)\u001b[0m \u001b[0;34m->\u001b[0m \u001b[0;32mNone\u001b[0m\u001b[0;34m:\u001b[0m\u001b[0;34m\u001b[0m\u001b[0;34m\u001b[0m\u001b[0m\n",
      "\u001b[0;31mAttributeError\u001b[0m: 'DataFrame' object has no attribute 'phenotype'"
     ]
    }
   ],
   "source": [
    "#df = append[\"results.eICU.['diagnoses'].['mortality'].normal.its:1.dropout.ccs.[1].25.256\"]\n",
    "eicu = df.phenotype.apply(to_series)\n",
    "\n",
    "eicu = eicu.loc[idxmx][metrics]\n",
    "eicu.name = \"Phenotype Prediction (ICD-9 3-digit)\"\n",
    "eicu = eicu.to_frame().T\n",
    "mimic = mimic.loc[idxmx][metrics]\n",
    "mimic.name = \"Phenotype Prediction (ICD-9 3-digit)\"\n",
    "mimic = mimic.to_frame().T\n",
    "df = pd.concat([mimic,eicu],axis=1)\n",
    "df.columns=index\n",
    "icd9_3 = df.copy()\n",
    "icd9_3"
   ]
  },
  {
   "cell_type": "code",
   "execution_count": 220,
   "id": "preliminary-lunch",
   "metadata": {},
   "outputs": [
    {
     "ename": "KeyError",
     "evalue": "\"results.mimic.['diagnoses'].['phenotype'].normal.its:1.masking.ccs.[283].25.256\"",
     "output_type": "error",
     "traceback": [
      "\u001b[0;31m---------------------------------------------------------------------------\u001b[0m",
      "\u001b[0;31mKeyError\u001b[0m                                  Traceback (most recent call last)",
      "\u001b[0;32m/tmp/ipykernel_1201/1910529440.py\u001b[0m in \u001b[0;36m<module>\u001b[0;34m\u001b[0m\n\u001b[0;32m----> 1\u001b[0;31m \u001b[0mdf\u001b[0m \u001b[0;34m=\u001b[0m \u001b[0mappend\u001b[0m\u001b[0;34m[\u001b[0m\u001b[0;34m\"results.mimic.['diagnoses'].['phenotype'].normal.its:1.masking.ccs.[283].25.256\"\u001b[0m\u001b[0;34m]\u001b[0m\u001b[0;34m\u001b[0m\u001b[0;34m\u001b[0m\u001b[0m\n\u001b[0m\u001b[1;32m      2\u001b[0m \u001b[0mmimic_m\u001b[0m \u001b[0;34m=\u001b[0m \u001b[0mdf\u001b[0m\u001b[0;34m.\u001b[0m\u001b[0mphenotype\u001b[0m\u001b[0;34m.\u001b[0m\u001b[0mapply\u001b[0m\u001b[0;34m(\u001b[0m\u001b[0mto_series\u001b[0m\u001b[0;34m)\u001b[0m\u001b[0;34m\u001b[0m\u001b[0;34m\u001b[0m\u001b[0m\n\u001b[1;32m      3\u001b[0m \u001b[0mdf\u001b[0m \u001b[0;34m=\u001b[0m \u001b[0mappend\u001b[0m\u001b[0;34m[\u001b[0m\u001b[0;34m\"results.mimic.['diagnoses'].['phenotype'].normal.its:1.dropout.ccs.[283].25.256\"\u001b[0m\u001b[0;34m]\u001b[0m\u001b[0;34m\u001b[0m\u001b[0;34m\u001b[0m\u001b[0m\n\u001b[1;32m      4\u001b[0m \u001b[0mmimic_d\u001b[0m \u001b[0;34m=\u001b[0m \u001b[0mdf\u001b[0m\u001b[0;34m.\u001b[0m\u001b[0mphenotype\u001b[0m\u001b[0;34m.\u001b[0m\u001b[0mapply\u001b[0m\u001b[0;34m(\u001b[0m\u001b[0mto_series\u001b[0m\u001b[0;34m)\u001b[0m\u001b[0;34m\u001b[0m\u001b[0;34m\u001b[0m\u001b[0m\n\u001b[1;32m      5\u001b[0m \u001b[0mmimic_m\u001b[0m \u001b[0;34m=\u001b[0m \u001b[0mmimic_m\u001b[0m\u001b[0;34m.\u001b[0m\u001b[0mloc\u001b[0m\u001b[0;34m[\u001b[0m\u001b[0midxmx\u001b[0m\u001b[0;34m]\u001b[0m\u001b[0;34m[\u001b[0m\u001b[0mmetrics\u001b[0m\u001b[0;34m]\u001b[0m\u001b[0;34m\u001b[0m\u001b[0;34m\u001b[0m\u001b[0m\n",
      "\u001b[0;31mKeyError\u001b[0m: \"results.mimic.['diagnoses'].['phenotype'].normal.its:1.masking.ccs.[283].25.256\""
     ]
    }
   ],
   "source": [
    "df = append[\"results.mimic.['diagnoses'].['phenotype'].normal.its:1.masking.ccs.[283].25.256\"]\n",
    "mimic_m = df.phenotype.apply(to_series)\n",
    "df = append[\"results.mimic.['diagnoses'].['phenotype'].normal.its:1.dropout.ccs.[283].25.256\"]\n",
    "mimic_d = df.phenotype.apply(to_series)\n",
    "mimic_m = mimic_m.loc[idxmx][metrics]\n",
    "mimic_m.name = 'Phenotype Masking'\n",
    "mimic_m = mimic_m.to_frame().T\n",
    "mimic_d = mimic_d.loc[idxmx][metrics]\n",
    "mimic_d.name = 'Phenotype Dropout'\n",
    "mimic_d = mimic_d.to_frame().T\n",
    "df = pd.concat([mimic_m,mimic_d])\n",
    "df"
   ]
  },
  {
   "cell_type": "code",
   "execution_count": 221,
   "id": "distinct-methodology",
   "metadata": {},
   "outputs": [
    {
     "ename": "NameError",
     "evalue": "name 'mimic_' is not defined",
     "output_type": "error",
     "traceback": [
      "\u001b[0;31m---------------------------------------------------------------------------\u001b[0m",
      "\u001b[0;31mNameError\u001b[0m                                 Traceback (most recent call last)",
      "\u001b[0;32m/tmp/ipykernel_1201/261416851.py\u001b[0m in \u001b[0;36m<module>\u001b[0;34m\u001b[0m\n\u001b[0;32m----> 1\u001b[0;31m \u001b[0mmimic_\u001b[0m\u001b[0;34m\u001b[0m\u001b[0;34m\u001b[0m\u001b[0m\n\u001b[0m",
      "\u001b[0;31mNameError\u001b[0m: name 'mimic_' is not defined"
     ]
    }
   ],
   "source": [
    "mimic_"
   ]
  },
  {
   "cell_type": "code",
   "execution_count": 222,
   "id": "surgical-example",
   "metadata": {},
   "outputs": [
    {
     "ename": "KeyError",
     "evalue": "\"results.eICU.['diagnoses'].['phenotype'].normal.its:1.masking.ccs.[283].25.256\"",
     "output_type": "error",
     "traceback": [
      "\u001b[0;31m---------------------------------------------------------------------------\u001b[0m",
      "\u001b[0;31mKeyError\u001b[0m                                  Traceback (most recent call last)",
      "\u001b[0;32m/tmp/ipykernel_1201/2469735192.py\u001b[0m in \u001b[0;36m<module>\u001b[0;34m\u001b[0m\n\u001b[0;32m----> 1\u001b[0;31m \u001b[0mdf\u001b[0m \u001b[0;34m=\u001b[0m \u001b[0mappend\u001b[0m\u001b[0;34m[\u001b[0m\u001b[0;34m\"results.eICU.['diagnoses'].['phenotype'].normal.its:1.masking.ccs.[283].25.256\"\u001b[0m\u001b[0;34m]\u001b[0m\u001b[0;34m\u001b[0m\u001b[0;34m\u001b[0m\u001b[0m\n\u001b[0m\u001b[1;32m      2\u001b[0m \u001b[0meicu\u001b[0m \u001b[0;34m=\u001b[0m \u001b[0mdf\u001b[0m\u001b[0;34m.\u001b[0m\u001b[0mphenotype\u001b[0m\u001b[0;34m.\u001b[0m\u001b[0mapply\u001b[0m\u001b[0;34m(\u001b[0m\u001b[0mto_series\u001b[0m\u001b[0;34m)\u001b[0m\u001b[0;34m\u001b[0m\u001b[0;34m\u001b[0m\u001b[0m\n\u001b[1;32m      3\u001b[0m \u001b[0;34m\u001b[0m\u001b[0m\n\u001b[1;32m      4\u001b[0m \u001b[0meicu\u001b[0m \u001b[0;34m=\u001b[0m \u001b[0meicu\u001b[0m\u001b[0;34m.\u001b[0m\u001b[0mloc\u001b[0m\u001b[0;34m[\u001b[0m\u001b[0midxmx\u001b[0m\u001b[0;34m]\u001b[0m\u001b[0;34m[\u001b[0m\u001b[0mmetrics\u001b[0m\u001b[0;34m]\u001b[0m\u001b[0;34m\u001b[0m\u001b[0;34m\u001b[0m\u001b[0m\n\u001b[1;32m      5\u001b[0m \u001b[0meicu\u001b[0m\u001b[0;34m.\u001b[0m\u001b[0mname\u001b[0m \u001b[0;34m=\u001b[0m \u001b[0;34m\"Phenotype Prediction (ICD-9 3-digit)\"\u001b[0m\u001b[0;34m\u001b[0m\u001b[0;34m\u001b[0m\u001b[0m\n",
      "\u001b[0;31mKeyError\u001b[0m: \"results.eICU.['diagnoses'].['phenotype'].normal.its:1.masking.ccs.[283].25.256\""
     ]
    }
   ],
   "source": [
    "df = append[\"results.eICU.['diagnoses'].['phenotype'].normal.its:1.masking.ccs.[283].25.256\"]\n",
    "eicu = df.phenotype.apply(to_series)\n",
    "\n",
    "eicu = eicu.loc[idxmx][metrics]\n",
    "eicu.name = \"Phenotype Prediction (ICD-9 3-digit)\"\n",
    "eicu = eicu.to_frame().T\n",
    "mimic = mimic.loc[idxmx][metrics]\n",
    "mimic.name = \"Phenotype Prediction (ICD-9 3-digit)\"\n",
    "mimic = mimic.to_frame().T\n",
    "df = pd.concat([mimic,eicu],axis=1)\n",
    "df.columns=index\n",
    "icd9_3 = df.copy()\n",
    "icd9_3"
   ]
  },
  {
   "cell_type": "markdown",
   "id": "metropolitan-directive",
   "metadata": {},
   "source": [
    "### Mortality"
   ]
  },
  {
   "cell_type": "code",
   "execution_count": 14,
   "id": "exact-export",
   "metadata": {},
   "outputs": [
    {
     "ename": "KeyError",
     "evalue": "\"results.mimic.['diagnoses'].['phenotype', 'mortality'].normal.its:1.dropout.ccs.[283, 1].25.256\"",
     "output_type": "error",
     "traceback": [
      "\u001b[0;31m---------------------------------------------------------------------------\u001b[0m",
      "\u001b[0;31mKeyError\u001b[0m                                  Traceback (most recent call last)",
      "\u001b[0;32m/tmp/ipykernel_1294/4149669008.py\u001b[0m in \u001b[0;36m<module>\u001b[0;34m\u001b[0m\n\u001b[0;32m----> 1\u001b[0;31m \u001b[0mmimic\u001b[0m \u001b[0;34m=\u001b[0m \u001b[0mappend\u001b[0m\u001b[0;34m[\u001b[0m \u001b[0;34m\"results.mimic.['diagnoses'].['phenotype', 'mortality'].normal.its:1.dropout.ccs.[283, 1].25.256\"\u001b[0m\u001b[0;34m]\u001b[0m\u001b[0;34m\u001b[0m\u001b[0;34m\u001b[0m\u001b[0m\n\u001b[0m\u001b[1;32m      2\u001b[0m \u001b[0mmimic\u001b[0m\u001b[0;34m.\u001b[0m\u001b[0mindex\u001b[0m \u001b[0;34m=\u001b[0m \u001b[0;34m[\u001b[0m\u001b[0;34m'-'\u001b[0m\u001b[0;34m.\u001b[0m\u001b[0mjoin\u001b[0m\u001b[0;34m(\u001b[0m\u001b[0mi\u001b[0m\u001b[0;34m.\u001b[0m\u001b[0msplit\u001b[0m\u001b[0;34m(\u001b[0m\u001b[0;34m'-'\u001b[0m\u001b[0;34m)\u001b[0m\u001b[0;34m[\u001b[0m\u001b[0;36m2\u001b[0m\u001b[0;34m:\u001b[0m\u001b[0;34m]\u001b[0m\u001b[0;34m)\u001b[0m \u001b[0;32mfor\u001b[0m \u001b[0mi\u001b[0m \u001b[0;32min\u001b[0m \u001b[0mmimic\u001b[0m\u001b[0;34m.\u001b[0m\u001b[0mindex\u001b[0m\u001b[0;34m]\u001b[0m\u001b[0;34m\u001b[0m\u001b[0;34m\u001b[0m\u001b[0m\n\u001b[1;32m      3\u001b[0m \u001b[0mmimic\u001b[0m\u001b[0;34m.\u001b[0m\u001b[0mmortality\u001b[0m\u001b[0;34m.\u001b[0m\u001b[0mapply\u001b[0m\u001b[0;34m(\u001b[0m\u001b[0mto_series\u001b[0m\u001b[0;34m)\u001b[0m\u001b[0;34m\u001b[0m\u001b[0;34m\u001b[0m\u001b[0m\n",
      "\u001b[0;31mKeyError\u001b[0m: \"results.mimic.['diagnoses'].['phenotype', 'mortality'].normal.its:1.dropout.ccs.[283, 1].25.256\""
     ]
    }
   ],
   "source": [
    "mimic = append[ \"results.mimic.['diagnoses'].['phenotype', 'mortality'].normal.its:1.dropout.ccs.[283, 1].25.256\"]\n",
    "mimic.index = ['-'.join(i.split('-')[2:]) for i in mimic.index]\n",
    "mimic.mortality.apply(to_series)\n"
   ]
  },
  {
   "cell_type": "code",
   "execution_count": 224,
   "id": "beautiful-checklist",
   "metadata": {},
   "outputs": [
    {
     "data": {
      "text/plain": [
       "[\"results.mimic.['diagnoses'].['mortality'].normal.its:1.dropout.ccs.[1].25.256.ancestry:full\"]"
      ]
     },
     "execution_count": 224,
     "metadata": {},
     "output_type": "execute_result"
    }
   ],
   "source": [
    "path = [\"['mortality']\"]\n",
    "res = lst\n",
    "for item in path:\n",
    "    res = get_keys(item,res)\n",
    "res"
   ]
  },
  {
   "cell_type": "code",
   "execution_count": 225,
   "id": "authentic-donor",
   "metadata": {},
   "outputs": [
    {
     "ename": "AttributeError",
     "evalue": "'DataFrame' object has no attribute 'mortality'",
     "output_type": "error",
     "traceback": [
      "\u001b[0;31m---------------------------------------------------------------------------\u001b[0m",
      "\u001b[0;31mAttributeError\u001b[0m                            Traceback (most recent call last)",
      "\u001b[0;32m/tmp/ipykernel_1201/2267613531.py\u001b[0m in \u001b[0;36m<module>\u001b[0;34m\u001b[0m\n\u001b[0;32m----> 1\u001b[0;31m \u001b[0mmimic\u001b[0m\u001b[0;34m.\u001b[0m\u001b[0mmortality\u001b[0m\u001b[0;34m.\u001b[0m\u001b[0mapply\u001b[0m\u001b[0;34m(\u001b[0m\u001b[0mto_series\u001b[0m\u001b[0;34m)\u001b[0m\u001b[0;34m\u001b[0m\u001b[0;34m\u001b[0m\u001b[0m\n\u001b[0m",
      "\u001b[0;32m/opt/conda/envs/pyg/lib/python3.9/site-packages/pandas/core/generic.py\u001b[0m in \u001b[0;36m__getattr__\u001b[0;34m(self, name)\u001b[0m\n\u001b[1;32m   5476\u001b[0m         ):\n\u001b[1;32m   5477\u001b[0m             \u001b[0;32mreturn\u001b[0m \u001b[0mself\u001b[0m\u001b[0;34m[\u001b[0m\u001b[0mname\u001b[0m\u001b[0;34m]\u001b[0m\u001b[0;34m\u001b[0m\u001b[0;34m\u001b[0m\u001b[0m\n\u001b[0;32m-> 5478\u001b[0;31m         \u001b[0;32mreturn\u001b[0m \u001b[0mobject\u001b[0m\u001b[0;34m.\u001b[0m\u001b[0m__getattribute__\u001b[0m\u001b[0;34m(\u001b[0m\u001b[0mself\u001b[0m\u001b[0;34m,\u001b[0m \u001b[0mname\u001b[0m\u001b[0;34m)\u001b[0m\u001b[0;34m\u001b[0m\u001b[0;34m\u001b[0m\u001b[0m\n\u001b[0m\u001b[1;32m   5479\u001b[0m \u001b[0;34m\u001b[0m\u001b[0m\n\u001b[1;32m   5480\u001b[0m     \u001b[0;32mdef\u001b[0m \u001b[0m__setattr__\u001b[0m\u001b[0;34m(\u001b[0m\u001b[0mself\u001b[0m\u001b[0;34m,\u001b[0m \u001b[0mname\u001b[0m\u001b[0;34m:\u001b[0m \u001b[0mstr\u001b[0m\u001b[0;34m,\u001b[0m \u001b[0mvalue\u001b[0m\u001b[0;34m)\u001b[0m \u001b[0;34m->\u001b[0m \u001b[0;32mNone\u001b[0m\u001b[0;34m:\u001b[0m\u001b[0;34m\u001b[0m\u001b[0;34m\u001b[0m\u001b[0m\n",
      "\u001b[0;31mAttributeError\u001b[0m: 'DataFrame' object has no attribute 'mortality'"
     ]
    }
   ],
   "source": [
    "mimic.mortality.apply(to_series)\n"
   ]
  },
  {
   "cell_type": "markdown",
   "id": "minute-phenomenon",
   "metadata": {},
   "source": [
    "#### Replicate"
   ]
  },
  {
   "cell_type": "code",
   "execution_count": 138,
   "id": "helpful-coordination",
   "metadata": {},
   "outputs": [],
   "source": [
    "metrics = [\"R@5\",\"R@10\",\"R@30\"]"
   ]
  },
  {
   "cell_type": "code",
   "execution_count": 140,
   "id": "complete-february",
   "metadata": {},
   "outputs": [],
   "source": [
    "import numpy as np"
   ]
  },
  {
   "cell_type": "code",
   "execution_count": 211,
   "id": "velvet-perception",
   "metadata": {},
   "outputs": [],
   "source": [
    "df = append[f\"results.mimic.['diagnoses'].['phenotype'].replicate.its:1.dropout.ccs.[283].25.256.ancestry:full\"]\n",
    "mimic_r = df.phenotype.apply(to_series)[metrics].merge(df['time'],right_index=True,left_index=True)\n",
    "df = append[\"results.mimic.['diagnoses'].['phenotype'].normal.its:1.dropout.ccs.[283].25.256.ancestry:full\"]\n",
    "mimic_n = df.phenotype.apply(to_series)[metrics].merge(df['time'],right_index=True,left_index=True)\n",
    "\n",
    "\n",
    "index = [idxmx,\"SW-Phenotype-1-256\",\"SW-Phenotype-3-256\",\"SW-Phenotype-3-128\"]\n",
    "df = mimic_r.merge(mimic_n,right_index=True,left_index=True).loc[index]\n",
    "tuples = [df.index,['replicate','normal']]"
   ]
  },
  {
   "cell_type": "code",
   "execution_count": 212,
   "id": "unlikely-alaska",
   "metadata": {},
   "outputs": [
    {
     "data": {
      "text/html": [
       "<div>\n",
       "<style scoped>\n",
       "    .dataframe tbody tr th:only-of-type {\n",
       "        vertical-align: middle;\n",
       "    }\n",
       "\n",
       "    .dataframe tbody tr th {\n",
       "        vertical-align: top;\n",
       "    }\n",
       "\n",
       "    .dataframe thead th {\n",
       "        text-align: right;\n",
       "    }\n",
       "</style>\n",
       "<table border=\"1\" class=\"dataframe\">\n",
       "  <thead>\n",
       "    <tr style=\"text-align: right;\">\n",
       "      <th></th>\n",
       "      <th>R@5_x</th>\n",
       "      <th>R@10_x</th>\n",
       "      <th>R@30_x</th>\n",
       "      <th>time_x</th>\n",
       "      <th>R@5_y</th>\n",
       "      <th>R@10_y</th>\n",
       "      <th>R@30_y</th>\n",
       "      <th>time_y</th>\n",
       "    </tr>\n",
       "  </thead>\n",
       "  <tbody>\n",
       "    <tr>\n",
       "      <th>SW-Phenotype-1-512</th>\n",
       "      <td>0.60576004</td>\n",
       "      <td>0.55203366</td>\n",
       "      <td>0.7169901</td>\n",
       "      <td>1620.332654</td>\n",
       "      <td>0.5981778</td>\n",
       "      <td>0.543553</td>\n",
       "      <td>0.714664</td>\n",
       "      <td>1712.901644</td>\n",
       "    </tr>\n",
       "    <tr>\n",
       "      <th>SW-Phenotype-1-256</th>\n",
       "      <td>0.6004711</td>\n",
       "      <td>0.53908575</td>\n",
       "      <td>0.7033755</td>\n",
       "      <td>951.213163</td>\n",
       "      <td>0.60353786</td>\n",
       "      <td>0.5393356</td>\n",
       "      <td>0.70604616</td>\n",
       "      <td>1023.782139</td>\n",
       "    </tr>\n",
       "    <tr>\n",
       "      <th>SW-Phenotype-3-256</th>\n",
       "      <td>0.5596978</td>\n",
       "      <td>0.51778394</td>\n",
       "      <td>0.6937559</td>\n",
       "      <td>1098.75926</td>\n",
       "      <td>0.5651289</td>\n",
       "      <td>0.5181202</td>\n",
       "      <td>0.69244105</td>\n",
       "      <td>1058.953702</td>\n",
       "    </tr>\n",
       "    <tr>\n",
       "      <th>SW-Phenotype-3-128</th>\n",
       "      <td>0.54532444</td>\n",
       "      <td>0.50282013</td>\n",
       "      <td>0.68291605</td>\n",
       "      <td>682.241152</td>\n",
       "      <td>0.55321777</td>\n",
       "      <td>0.5073501</td>\n",
       "      <td>0.6865489</td>\n",
       "      <td>893.153342</td>\n",
       "    </tr>\n",
       "  </tbody>\n",
       "</table>\n",
       "</div>"
      ],
      "text/plain": [
       "                         R@5_x      R@10_x      R@30_x       time_x  \\\n",
       "SW-Phenotype-1-512  0.60576004  0.55203366   0.7169901  1620.332654   \n",
       "SW-Phenotype-1-256   0.6004711  0.53908575   0.7033755   951.213163   \n",
       "SW-Phenotype-3-256   0.5596978  0.51778394   0.6937559   1098.75926   \n",
       "SW-Phenotype-3-128  0.54532444  0.50282013  0.68291605   682.241152   \n",
       "\n",
       "                         R@5_y     R@10_y      R@30_y       time_y  \n",
       "SW-Phenotype-1-512   0.5981778   0.543553    0.714664  1712.901644  \n",
       "SW-Phenotype-1-256  0.60353786  0.5393356  0.70604616  1023.782139  \n",
       "SW-Phenotype-3-256   0.5651289  0.5181202  0.69244105  1058.953702  \n",
       "SW-Phenotype-3-128  0.55321777  0.5073501   0.6865489   893.153342  "
      ]
     },
     "execution_count": 212,
     "metadata": {},
     "output_type": "execute_result"
    }
   ],
   "source": [
    "df"
   ]
  },
  {
   "cell_type": "code",
   "execution_count": 220,
   "id": "looking-image",
   "metadata": {},
   "outputs": [
    {
     "data": {
      "text/html": [
       "<div>\n",
       "<style scoped>\n",
       "    .dataframe tbody tr th:only-of-type {\n",
       "        vertical-align: middle;\n",
       "    }\n",
       "\n",
       "    .dataframe tbody tr th {\n",
       "        vertical-align: top;\n",
       "    }\n",
       "\n",
       "    .dataframe thead th {\n",
       "        text-align: right;\n",
       "    }\n",
       "</style>\n",
       "<table border=\"1\" class=\"dataframe\">\n",
       "  <thead>\n",
       "    <tr style=\"text-align: right;\">\n",
       "      <th></th>\n",
       "      <th></th>\n",
       "      <th>R@5</th>\n",
       "      <th>R@10</th>\n",
       "      <th>R@30</th>\n",
       "      <th>time</th>\n",
       "    </tr>\n",
       "  </thead>\n",
       "  <tbody>\n",
       "    <tr>\n",
       "      <th rowspan=\"2\" valign=\"top\">SW-Phenotype-1-512</th>\n",
       "      <th>replicate</th>\n",
       "      <td>0.598178</td>\n",
       "      <td>0.543553</td>\n",
       "      <td>0.714664</td>\n",
       "      <td>1712.901644</td>\n",
       "    </tr>\n",
       "    <tr>\n",
       "      <th>normal</th>\n",
       "      <td>0.605760</td>\n",
       "      <td>0.552034</td>\n",
       "      <td>0.716990</td>\n",
       "      <td>1620.332654</td>\n",
       "    </tr>\n",
       "    <tr>\n",
       "      <th rowspan=\"2\" valign=\"top\">SW-Phenotype-1-256</th>\n",
       "      <th>replicate</th>\n",
       "      <td>0.603538</td>\n",
       "      <td>0.539336</td>\n",
       "      <td>0.706046</td>\n",
       "      <td>1023.782139</td>\n",
       "    </tr>\n",
       "    <tr>\n",
       "      <th>normal</th>\n",
       "      <td>0.600471</td>\n",
       "      <td>0.539086</td>\n",
       "      <td>0.703376</td>\n",
       "      <td>951.213163</td>\n",
       "    </tr>\n",
       "    <tr>\n",
       "      <th rowspan=\"2\" valign=\"top\">SW-Phenotype-3-256</th>\n",
       "      <th>replicate</th>\n",
       "      <td>0.565129</td>\n",
       "      <td>0.518120</td>\n",
       "      <td>0.692441</td>\n",
       "      <td>1058.953702</td>\n",
       "    </tr>\n",
       "    <tr>\n",
       "      <th>normal</th>\n",
       "      <td>0.559698</td>\n",
       "      <td>0.517784</td>\n",
       "      <td>0.693756</td>\n",
       "      <td>1098.759260</td>\n",
       "    </tr>\n",
       "    <tr>\n",
       "      <th rowspan=\"2\" valign=\"top\">SW-Phenotype-3-128</th>\n",
       "      <th>replicate</th>\n",
       "      <td>0.553218</td>\n",
       "      <td>0.507350</td>\n",
       "      <td>0.686549</td>\n",
       "      <td>893.153342</td>\n",
       "    </tr>\n",
       "    <tr>\n",
       "      <th>normal</th>\n",
       "      <td>0.545324</td>\n",
       "      <td>0.502820</td>\n",
       "      <td>0.682916</td>\n",
       "      <td>682.241152</td>\n",
       "    </tr>\n",
       "  </tbody>\n",
       "</table>\n",
       "</div>"
      ],
      "text/plain": [
       "                                   R@5      R@10      R@30         time\n",
       "SW-Phenotype-1-512 replicate  0.598178  0.543553  0.714664  1712.901644\n",
       "                   normal     0.605760  0.552034  0.716990  1620.332654\n",
       "SW-Phenotype-1-256 replicate  0.603538  0.539336  0.706046  1023.782139\n",
       "                   normal     0.600471  0.539086  0.703376   951.213163\n",
       "SW-Phenotype-3-256 replicate  0.565129  0.518120  0.692441  1058.953702\n",
       "                   normal     0.559698  0.517784  0.693756  1098.759260\n",
       "SW-Phenotype-3-128 replicate  0.553218  0.507350  0.686549   893.153342\n",
       "                   normal     0.545324  0.502820  0.682916   682.241152"
      ]
     },
     "execution_count": 220,
     "metadata": {},
     "output_type": "execute_result"
    }
   ],
   "source": [
    "df = pd.concat([mimic_n,mimic_r]).loc[index].astype(float)\n",
    "df.index= pd.MultiIndex.from_product(tuples)\n",
    "df"
   ]
  },
  {
   "cell_type": "code",
   "execution_count": 221,
   "id": "previous-detective",
   "metadata": {},
   "outputs": [
    {
     "name": "stdout",
     "output_type": "stream",
     "text": [
      "\\begin{table}\n",
      "\\centering\n",
      "\\caption{replicate vs normal |\\mimic}\n",
      "\\label{fig:repab}\n",
      "\\begin{tabular}{llrrrr}\n",
      "\\toprule\n",
      "                   &        &    R@5 &   R@10 &   R@30 &      time \\\\\n",
      "\\midrule\n",
      "SW-Phenotype-1-512 & replicate &  0.598 &  0.544 &  0.715 &  1712.902 \\\\\n",
      "                   & normal &  0.606 &  0.552 &  0.717 &  1620.333 \\\\\n",
      "SW-Phenotype-1-256 & replicate &  0.604 &  0.539 &  0.706 &  1023.782 \\\\\n",
      "                   & normal &  0.600 &  0.539 &  0.703 &   951.213 \\\\\n",
      "SW-Phenotype-3-256 & replicate &  0.565 &  0.518 &  0.692 &  1058.954 \\\\\n",
      "                   & normal &  0.560 &  0.518 &  0.694 &  1098.759 \\\\\n",
      "SW-Phenotype-3-128 & replicate &  0.553 &  0.507 &  0.687 &   893.153 \\\\\n",
      "                   & normal &  0.545 &  0.503 &  0.683 &   682.241 \\\\\n",
      "\\bottomrule\n",
      "\\end{tabular}\n",
      "\\end{table}\n",
      "\n"
     ]
    }
   ],
   "source": [
    "print(df.applymap(lambda x:round(x,3)).to_latex(caption='replicate vs normal |\\mimic',label='fig:repab'))"
   ]
  },
  {
   "cell_type": "code",
   "execution_count": 197,
   "id": "transparent-trademark",
   "metadata": {},
   "outputs": [
    {
     "data": {
      "text/plain": [
       "<AxesSubplot:>"
      ]
     },
     "execution_count": 197,
     "metadata": {},
     "output_type": "execute_result"
    },
    {
     "data": {
      "image/png": "[encoded data removed]",
      "text/plain": [
       "<Figure size 1440x720 with 1 Axes>"
      ]
     },
     "metadata": {
      "needs_background": "light"
     },
     "output_type": "display_data"
    }
   ],
   "source": [
    "df.T.plot(kind='bar',figsize=(20,10))"
   ]
  },
  {
   "cell_type": "code",
   "execution_count": 230,
   "id": "extreme-killing",
   "metadata": {},
   "outputs": [
    {
     "data": {
      "text/plain": [
       "[\"results.mimic.['diagnoses'].['mortality'].normal.its:1.dropout.ccs.[1].25.256.ancestry:full\"]"
      ]
     },
     "execution_count": 230,
     "metadata": {},
     "output_type": "execute_result"
    }
   ],
   "source": [
    "get_keys('mortality',lst)"
   ]
  },
  {
   "cell_type": "code",
   "execution_count": 231,
   "id": "cleared-fashion",
   "metadata": {},
   "outputs": [
    {
     "ename": "KeyError",
     "evalue": "\"results.mimic.['diagnoses'].['phenotype'].normal.its:1.dropout.cat_level.[184].25.256\"",
     "output_type": "error",
     "traceback": [
      "\u001b[0;31m---------------------------------------------------------------------------\u001b[0m",
      "\u001b[0;31mKeyError\u001b[0m                                  Traceback (most recent call last)",
      "\u001b[0;32m/tmp/ipykernel_1201/1653305863.py\u001b[0m in \u001b[0;36m<module>\u001b[0;34m\u001b[0m\n\u001b[0;32m----> 1\u001b[0;31m \u001b[0mdf\u001b[0m \u001b[0;34m=\u001b[0m \u001b[0mappend\u001b[0m\u001b[0;34m[\u001b[0m\u001b[0;34m\"results.mimic.['diagnoses'].['phenotype'].normal.its:1.dropout.cat_level.[184].25.256\"\u001b[0m\u001b[0;34m]\u001b[0m\u001b[0;34m\u001b[0m\u001b[0;34m\u001b[0m\u001b[0m\n\u001b[0m\u001b[1;32m      2\u001b[0m \u001b[0mmimic_n\u001b[0m \u001b[0;34m=\u001b[0m \u001b[0mdf\u001b[0m\u001b[0;34m.\u001b[0m\u001b[0mphenotype\u001b[0m\u001b[0;34m.\u001b[0m\u001b[0mapply\u001b[0m\u001b[0;34m(\u001b[0m\u001b[0mto_series\u001b[0m\u001b[0;34m)\u001b[0m\u001b[0;34m[\u001b[0m\u001b[0mmetrics\u001b[0m\u001b[0;34m]\u001b[0m\u001b[0;34m\u001b[0m\u001b[0;34m\u001b[0m\u001b[0m\n\u001b[1;32m      3\u001b[0m \u001b[0mdf\u001b[0m \u001b[0;34m=\u001b[0m \u001b[0mappend\u001b[0m\u001b[0;34m[\u001b[0m\u001b[0;34m\"results.mimic.['diagnoses'].['phenotype'].replicate.its:1.dropout.cat_level.[184].25.256\"\u001b[0m\u001b[0;34m]\u001b[0m\u001b[0;34m\u001b[0m\u001b[0;34m\u001b[0m\u001b[0m\n\u001b[1;32m      4\u001b[0m \u001b[0mmimic_r\u001b[0m \u001b[0;34m=\u001b[0m \u001b[0mdf\u001b[0m\u001b[0;34m.\u001b[0m\u001b[0mphenotype\u001b[0m\u001b[0;34m.\u001b[0m\u001b[0mapply\u001b[0m\u001b[0;34m(\u001b[0m\u001b[0mto_series\u001b[0m\u001b[0;34m)\u001b[0m\u001b[0;34m[\u001b[0m\u001b[0mmetrics\u001b[0m\u001b[0;34m]\u001b[0m\u001b[0;34m\u001b[0m\u001b[0;34m\u001b[0m\u001b[0m\n\u001b[1;32m      5\u001b[0m \u001b[0;34m\u001b[0m\u001b[0m\n",
      "\u001b[0;31mKeyError\u001b[0m: \"results.mimic.['diagnoses'].['phenotype'].normal.its:1.dropout.cat_level.[184].25.256\""
     ]
    }
   ],
   "source": [
    "df = append[\"results.mimic.['diagnoses'].['phenotype'].normal.its:1.dropout.cat_level.[184].25.256\"]\n",
    "mimic_n = df.phenotype.apply(to_series)[metrics]\n",
    "df = append[\"results.mimic.['diagnoses'].['phenotype'].replicate.its:1.dropout.cat_level.[184].25.256\"]\n",
    "mimic_r = df.phenotype.apply(to_series)[metrics]\n",
    "\n",
    "tuples = [metrics,['replicate','normal']]\n",
    "index = pd.MultiIndex.from_product(tuples)\n",
    "df = mimic_r.merge(mimic_n,right_index=True,left_index=True).T\n",
    "df.index= index\n",
    "df= df.T\n",
    "df.index = ['-'.join(i.split('-')[2:]) for i in df.index]\n",
    "df.T.plot(kind='bar')"
   ]
  },
  {
   "cell_type": "code",
   "execution_count": 232,
   "id": "comparative-crawford",
   "metadata": {},
   "outputs": [
    {
     "ename": "KeyError",
     "evalue": "\"results.eICU.['diagnoses'].['phenotype'].replicate.its:1.dropout.ccs.[283].25.256\"",
     "output_type": "error",
     "traceback": [
      "\u001b[0;31m---------------------------------------------------------------------------\u001b[0m",
      "\u001b[0;31mKeyError\u001b[0m                                  Traceback (most recent call last)",
      "\u001b[0;32m/tmp/ipykernel_1201/1479277501.py\u001b[0m in \u001b[0;36m<module>\u001b[0;34m\u001b[0m\n\u001b[0;32m----> 1\u001b[0;31m \u001b[0mdf\u001b[0m \u001b[0;34m=\u001b[0m \u001b[0mappend\u001b[0m\u001b[0;34m[\u001b[0m\u001b[0;34mf\"results.eICU.['diagnoses'].['phenotype'].replicate.its:1.dropout.ccs.[283].25.256\"\u001b[0m\u001b[0;34m]\u001b[0m\u001b[0;34m\u001b[0m\u001b[0;34m\u001b[0m\u001b[0m\n\u001b[0m\u001b[1;32m      2\u001b[0m \u001b[0meicu_r\u001b[0m \u001b[0;34m=\u001b[0m \u001b[0mdf\u001b[0m\u001b[0;34m.\u001b[0m\u001b[0mphenotype\u001b[0m\u001b[0;34m.\u001b[0m\u001b[0mapply\u001b[0m\u001b[0;34m(\u001b[0m\u001b[0mto_series\u001b[0m\u001b[0;34m)\u001b[0m\u001b[0;34m[\u001b[0m\u001b[0mmetrics\u001b[0m\u001b[0;34m]\u001b[0m\u001b[0;34m.\u001b[0m\u001b[0mastype\u001b[0m\u001b[0;34m(\u001b[0m\u001b[0mfloat\u001b[0m\u001b[0;34m)\u001b[0m\u001b[0;34m\u001b[0m\u001b[0;34m\u001b[0m\u001b[0m\n\u001b[1;32m      3\u001b[0m \u001b[0mdf\u001b[0m \u001b[0;34m=\u001b[0m \u001b[0mappend\u001b[0m\u001b[0;34m[\u001b[0m\u001b[0;34m\"results.eICU.['diagnoses'].['phenotype'].normal.its:1.dropout.ccs.[283].25.256\"\u001b[0m\u001b[0;34m]\u001b[0m\u001b[0;34m\u001b[0m\u001b[0;34m\u001b[0m\u001b[0m\n\u001b[1;32m      4\u001b[0m \u001b[0meicu_n\u001b[0m \u001b[0;34m=\u001b[0m \u001b[0mdf\u001b[0m\u001b[0;34m.\u001b[0m\u001b[0mphenotype\u001b[0m\u001b[0;34m.\u001b[0m\u001b[0mapply\u001b[0m\u001b[0;34m(\u001b[0m\u001b[0mto_series\u001b[0m\u001b[0;34m)\u001b[0m\u001b[0;34m[\u001b[0m\u001b[0mmetrics\u001b[0m\u001b[0;34m]\u001b[0m\u001b[0;34m.\u001b[0m\u001b[0mastype\u001b[0m\u001b[0;34m(\u001b[0m\u001b[0mfloat\u001b[0m\u001b[0;34m)\u001b[0m\u001b[0;34m\u001b[0m\u001b[0;34m\u001b[0m\u001b[0m\n\u001b[1;32m      5\u001b[0m \u001b[0mtuples\u001b[0m \u001b[0;34m=\u001b[0m \u001b[0;34m[\u001b[0m\u001b[0mmetrics\u001b[0m\u001b[0;34m,\u001b[0m\u001b[0;34m[\u001b[0m\u001b[0;34m'replicate'\u001b[0m\u001b[0;34m,\u001b[0m\u001b[0;34m'normal'\u001b[0m\u001b[0;34m]\u001b[0m\u001b[0;34m]\u001b[0m\u001b[0;34m\u001b[0m\u001b[0;34m\u001b[0m\u001b[0m\n",
      "\u001b[0;31mKeyError\u001b[0m: \"results.eICU.['diagnoses'].['phenotype'].replicate.its:1.dropout.ccs.[283].25.256\""
     ]
    }
   ],
   "source": [
    "df = append[f\"results.eICU.['diagnoses'].['phenotype'].replicate.its:1.dropout.ccs.[283].25.256\"]\n",
    "eicu_r = df.phenotype.apply(to_series)[metrics].astype(float)\n",
    "df = append[\"results.eICU.['diagnoses'].['phenotype'].normal.its:1.dropout.ccs.[283].25.256\"]\n",
    "eicu_n = df.phenotype.apply(to_series)[metrics].astype(float)\n",
    "tuples = [metrics,['replicate','normal']]\n",
    "index = pd.MultiIndex.from_product(tuples)\n",
    "df = eicu_r.merge(eicu_n,right_index=True,left_index=True).T\n",
    "df.index= index\n",
    "df= df.T\n",
    "df.index = ['-'.join(i.split('-')[2:]) for i in df.index]\n",
    "df.T.plot(kind='bar',figsize=(15,10))"
   ]
  },
  {
   "cell_type": "markdown",
   "id": "falling-dependence",
   "metadata": {},
   "source": [
    "### Dropout"
   ]
  },
  {
   "cell_type": "code",
   "execution_count": 233,
   "id": "brief-prescription",
   "metadata": {},
   "outputs": [],
   "source": [
    "def analyse(dataset='mimic'):\n",
    "    \n",
    "    metrics = [\"R@5\",\"R@10\",\"R@30\"]\n",
    "    df = append[f\"results.{dataset}.['diagnoses'].['phenotype'].normal.its:1.dropout.ccs.[283].25.256.ancestry:full\"]\n",
    "    mimic_d = df.phenotype.apply(to_series)[metrics]\n",
    "    df = append[f\"results.{dataset}.['diagnoses'].['phenotype'].normal.its:1.masking.ccs.[283].25.256.ancestry:full\"]\n",
    "    \n",
    "    mimic_m = df.phenotype.apply(to_series)[metrics]\n",
    "    tuples = [metrics,['dropout','masking']]\n",
    "    index = pd.MultiIndex.from_product(tuples)\n",
    "    df = mimic_d.merge(mimic_m,right_index=True,left_index=True)\n",
    "    return df\n",
    "    df = df.astype(float)\n",
    "    df.index= index\n",
    "    df= df.T\n",
    "    df.index = ['-'.join(i.split('-')[2:]) for i in df.index]\n",
    "    df.T.plot(kind='bar',fontsize=10,figsize=(12,10))\n",
    "    return df"
   ]
  },
  {
   "cell_type": "code",
   "execution_count": 234,
   "id": "lined-importance",
   "metadata": {},
   "outputs": [],
   "source": [
    "def to_table(dataset='mimic',idxmx= 'SW-Phenotype-1-512'):\n",
    "    metrics = [\"R@5\",\"R@10\",\"R@30\"]\n",
    "    df = append[f\"results.{dataset}.['diagnoses'].['phenotype'].normal.its:1.dropout.ccs.[283].25.256.ancestry:full\"]\n",
    "    mimic_d = df.phenotype.apply(to_series)[metrics]\n",
    "    df = append[f\"results.{dataset}.['diagnoses'].['phenotype'].normal.its:1.masking.ccs.[283].25.256.ancestry:full\"]\n",
    "    mimic_m = df.phenotype.apply(to_series)[metrics]\n",
    "    df = pd.concat([mimic_d,mimic_m]).loc[idxmx]\n",
    "    df.index = ['dropout','masking']\n",
    "    return df.astype(float)"
   ]
  },
  {
   "cell_type": "code",
   "execution_count": 235,
   "id": "automatic-fifteen",
   "metadata": {},
   "outputs": [
    {
     "data": {
      "image/png": "[encoded data removed]",
      "text/plain": [
       "<Figure size 432x288 with 1 Axes>"
      ]
     },
     "metadata": {
      "needs_background": "light"
     },
     "output_type": "display_data"
    }
   ],
   "source": [
    "to_table('mimic').T.plot(kind='bar').get_figure().savefig('abdm.png')"
   ]
  },
  {
   "cell_type": "code",
   "execution_count": 236,
   "id": "owned-speaking",
   "metadata": {},
   "outputs": [
    {
     "data": {
      "text/html": [
       "<div>\n",
       "<style scoped>\n",
       "    .dataframe tbody tr th:only-of-type {\n",
       "        vertical-align: middle;\n",
       "    }\n",
       "\n",
       "    .dataframe tbody tr th {\n",
       "        vertical-align: top;\n",
       "    }\n",
       "\n",
       "    .dataframe thead th {\n",
       "        text-align: right;\n",
       "    }\n",
       "</style>\n",
       "<table border=\"1\" class=\"dataframe\">\n",
       "  <thead>\n",
       "    <tr style=\"text-align: right;\">\n",
       "      <th></th>\n",
       "      <th>R@5_x</th>\n",
       "      <th>R@10_x</th>\n",
       "      <th>R@30_x</th>\n",
       "      <th>R@5_y</th>\n",
       "      <th>R@10_y</th>\n",
       "      <th>R@30_y</th>\n",
       "    </tr>\n",
       "  </thead>\n",
       "  <tbody>\n",
       "    <tr>\n",
       "      <th>SW-Phenotype-1-512</th>\n",
       "      <td>0.456434</td>\n",
       "      <td>0.5703174</td>\n",
       "      <td>0.8157389</td>\n",
       "      <td>0.4684823</td>\n",
       "      <td>0.57326245</td>\n",
       "      <td>0.8178176</td>\n",
       "    </tr>\n",
       "  </tbody>\n",
       "</table>\n",
       "</div>"
      ],
      "text/plain": [
       "                       R@5_x     R@10_x     R@30_x      R@5_y      R@10_y  \\\n",
       "SW-Phenotype-1-512  0.456434  0.5703174  0.8157389  0.4684823  0.57326245   \n",
       "\n",
       "                       R@30_y  \n",
       "SW-Phenotype-1-512  0.8178176  "
      ]
     },
     "execution_count": 236,
     "metadata": {},
     "output_type": "execute_result"
    }
   ],
   "source": [
    "analyse('eICU')"
   ]
  },
  {
   "cell_type": "code",
   "execution_count": null,
   "id": "handed-range",
   "metadata": {},
   "outputs": [],
   "source": []
  },
  {
   "cell_type": "markdown",
   "id": "further-typing",
   "metadata": {},
   "source": [
    "### Ancestry"
   ]
  },
  {
   "cell_type": "code",
   "execution_count": 237,
   "id": "attached-donor",
   "metadata": {},
   "outputs": [
    {
     "data": {
      "text/plain": [
       "\"results.mimic.['diagnoses'].['phenotype'].normal.its:1.masking.ccs.[283].25.256.ancestry:full\""
      ]
     },
     "execution_count": 237,
     "metadata": {},
     "output_type": "execute_result"
    }
   ],
   "source": [
    "path = ['mimic','ancestry:full','phenotype','[283]']\n",
    "\n",
    "res = lst\n",
    "for item in path:\n",
    "    res = get_keys(item,res)\n",
    "res[0]"
   ]
  },
  {
   "cell_type": "code",
   "execution_count": 238,
   "id": "invalid-agenda",
   "metadata": {},
   "outputs": [],
   "source": [
    "metrics = [\"R@5\",\"R@10\",\"R@15\",\"R@30\"]\n",
    "df = append[\"results.mimic.['diagnoses'].['phenotype'].normal.its:1.dropout.ccs.[283].25.256.ancestry:partial\"]\n",
    "mimic_pa = df.phenotype.apply(to_series).astype(float)[metrics]\n",
    "df = append[\"results.mimic.['diagnoses'].['phenotype'].normal.its:1.dropout.ccs.[283].25.256.ancestry:full\"]\n",
    "mimic_a = df.phenotype.apply(to_series).astype(float)[metrics]\n",
    "df = append[\"results.mimic.['diagnoses'].['phenotype'].normal.its:1.dropout.ccs.[283].25.256.ancestry:no\"]\n",
    "mimic_na = df.phenotype.apply(to_series).astype(float)[metrics]\n",
    "\n",
    "df = mimic_pa.merge(mimic_a,right_index=True,left_index=True).merge(mimic_na,right_index=True,left_index=True).T\n",
    "df = df.sort_index()\n",
    "metrics = [\"R@10\",\"R@15\",\"R@30\",\"R@5\"]\n",
    "tuples = [metrics,['partial-ancestry','ancestry','no-ancestry']]\n",
    "index = pd.MultiIndex.from_product(tuples)\n",
    "df.index= index\n",
    "df= df.T\n",
    "df.index = ['-'.join(i.split('-')[2:]) for i in df.index]\n",
    "#df.T.plot(kind='bar',fontsize=10,figsize=(12,10))\n",
    "#df.index"
   ]
  },
  {
   "cell_type": "code",
   "execution_count": 239,
   "id": "revised-great",
   "metadata": {},
   "outputs": [],
   "source": [
    "df_t = pd.concat([mimic_a,mimic_pa,mimic_na]).loc[idxmx]\n",
    "df_t.index =['full','partial','no-ancestry']"
   ]
  },
  {
   "cell_type": "code",
   "execution_count": 240,
   "id": "immediate-deployment",
   "metadata": {},
   "outputs": [
    {
     "name": "stdout",
     "output_type": "stream",
     "text": [
      "\\begin{table}\n",
      "\\centering\n",
      "\\caption{Ancestry evaluation}\n",
      "\\label{abaeval}\n",
      "\\begin{tabular}{lrrrr}\n",
      "\\toprule\n",
      "{} &       R@5 &      R@10 &      R@15 &      R@30 \\\\\n",
      "\\midrule\n",
      "full        &  0.598178 &  0.543553 &  0.573256 &  0.714664 \\\\\n",
      "partial     &  0.570809 &  0.525347 &  0.557101 &  0.707510 \\\\\n",
      "no-ancestry &  0.539129 &  0.493019 &  0.526795 &  0.675303 \\\\\n",
      "\\bottomrule\n",
      "\\end{tabular}\n",
      "\\end{table}\n",
      "\n"
     ]
    }
   ],
   "source": [
    "print(df_t.to_latex(caption='Ancestry evaluation',label='abaeval'))"
   ]
  },
  {
   "cell_type": "code",
   "execution_count": 241,
   "id": "floating-chosen",
   "metadata": {},
   "outputs": [
    {
     "data": {
      "text/html": [
       "<div>\n",
       "<style scoped>\n",
       "    .dataframe tbody tr th:only-of-type {\n",
       "        vertical-align: middle;\n",
       "    }\n",
       "\n",
       "    .dataframe tbody tr th {\n",
       "        vertical-align: top;\n",
       "    }\n",
       "\n",
       "    .dataframe thead th {\n",
       "        text-align: right;\n",
       "    }\n",
       "</style>\n",
       "<table border=\"1\" class=\"dataframe\">\n",
       "  <thead>\n",
       "    <tr style=\"text-align: right;\">\n",
       "      <th></th>\n",
       "      <th>R@5</th>\n",
       "      <th>R@10</th>\n",
       "      <th>R@15</th>\n",
       "      <th>R@30</th>\n",
       "    </tr>\n",
       "  </thead>\n",
       "  <tbody>\n",
       "    <tr>\n",
       "      <th>SW-Phenotype-0-512</th>\n",
       "      <td>0.528827</td>\n",
       "      <td>0.489250</td>\n",
       "      <td>0.525731</td>\n",
       "      <td>0.675550</td>\n",
       "    </tr>\n",
       "    <tr>\n",
       "      <th>SW-Phenotype-1-512</th>\n",
       "      <td>0.539129</td>\n",
       "      <td>0.493019</td>\n",
       "      <td>0.526795</td>\n",
       "      <td>0.675303</td>\n",
       "    </tr>\n",
       "    <tr>\n",
       "      <th>SW-Phenotype-2-512</th>\n",
       "      <td>0.516480</td>\n",
       "      <td>0.476062</td>\n",
       "      <td>0.509863</td>\n",
       "      <td>0.670162</td>\n",
       "    </tr>\n",
       "  </tbody>\n",
       "</table>\n",
       "</div>"
      ],
      "text/plain": [
       "                         R@5      R@10      R@15      R@30\n",
       "SW-Phenotype-0-512  0.528827  0.489250  0.525731  0.675550\n",
       "SW-Phenotype-1-512  0.539129  0.493019  0.526795  0.675303\n",
       "SW-Phenotype-2-512  0.516480  0.476062  0.509863  0.670162"
      ]
     },
     "execution_count": 241,
     "metadata": {},
     "output_type": "execute_result"
    }
   ],
   "source": [
    "mimic_na"
   ]
  },
  {
   "cell_type": "code",
   "execution_count": 242,
   "id": "nervous-bailey",
   "metadata": {},
   "outputs": [],
   "source": [
    "def analyse(variant):\n",
    "    t = df.loc[variant].reset_index(level=1)\n",
    "    p_a = t[t['level_1']=='partial-ancestry'].drop(columns='level_1').rename(columns={variant:'partial'})\n",
    "    a = t[t['level_1']=='ancestry'].drop(columns='level_1').rename(columns={variant:'fully'})\n",
    "    n_a = t[t['level_1']=='no-ancestry'].drop(columns='level_1').rename(columns={variant:'none'})\n",
    "\n",
    "    plt = a.merge(p_a,right_index=True,left_index=True).merge(n_a,right_index=True,left_index=True).plot(kind='bar',figsize=(12,10))\n",
    "    return plt.get_figure()"
   ]
  },
  {
   "cell_type": "code",
   "execution_count": 243,
   "id": "responsible-personal",
   "metadata": {},
   "outputs": [
    {
     "data": {
      "image/png": "[encoded data removed]",
      "text/plain": [
       "<Figure size 864x720 with 1 Axes>"
      ]
     },
     "metadata": {
      "needs_background": "light"
     },
     "output_type": "display_data"
    }
   ],
   "source": [
    "analyse('1-512').savefig('ancestry.png')"
   ]
  },
  {
   "cell_type": "code",
   "execution_count": 246,
   "id": "lesser-photographer",
   "metadata": {},
   "outputs": [],
   "source": [
    "metrics = [\"R@5\",\"R@10\",\"R@15\",\"R@30\"]\n",
    "df = append[\"results.mimic.['diagnoses'].['phenotype'].normal.its:1.dropout.ccs.[283].25.256.ancestry:full\"]\n",
    "mimic = df.phenotype.apply(to_series).astype(float)[metrics]\n",
    "df = append[\"results.mimic.['diagnoses'].['phenotype'].normal.its:1.dropout.ccs.[283].25.256.ancestry:full.unidirected\"]\n",
    "mimic_ud = df.phenotype.apply(to_series).astype(float)[metrics]"
   ]
  },
  {
   "cell_type": "code",
   "execution_count": 249,
   "id": "tropical-backing",
   "metadata": {},
   "outputs": [
    {
     "data": {
      "text/html": [
       "<div>\n",
       "<style scoped>\n",
       "    .dataframe tbody tr th:only-of-type {\n",
       "        vertical-align: middle;\n",
       "    }\n",
       "\n",
       "    .dataframe tbody tr th {\n",
       "        vertical-align: top;\n",
       "    }\n",
       "\n",
       "    .dataframe thead th {\n",
       "        text-align: right;\n",
       "    }\n",
       "</style>\n",
       "<table border=\"1\" class=\"dataframe\">\n",
       "  <thead>\n",
       "    <tr style=\"text-align: right;\">\n",
       "      <th></th>\n",
       "      <th>R@5</th>\n",
       "      <th>R@10</th>\n",
       "      <th>R@15</th>\n",
       "      <th>R@30</th>\n",
       "    </tr>\n",
       "  </thead>\n",
       "  <tbody>\n",
       "    <tr>\n",
       "      <th>SW-Phenotype-0-128</th>\n",
       "      <td>0.561716</td>\n",
       "      <td>0.499973</td>\n",
       "      <td>0.524324</td>\n",
       "      <td>0.663612</td>\n",
       "    </tr>\n",
       "    <tr>\n",
       "      <th>SW-Phenotype-0-256</th>\n",
       "      <td>0.595858</td>\n",
       "      <td>0.529936</td>\n",
       "      <td>0.551938</td>\n",
       "      <td>0.687316</td>\n",
       "    </tr>\n",
       "    <tr>\n",
       "      <th>SW-Phenotype-0-50</th>\n",
       "      <td>0.503440</td>\n",
       "      <td>0.452937</td>\n",
       "      <td>0.477416</td>\n",
       "      <td>0.626043</td>\n",
       "    </tr>\n",
       "    <tr>\n",
       "      <th>SW-Phenotype-0-512</th>\n",
       "      <td>0.591849</td>\n",
       "      <td>0.535087</td>\n",
       "      <td>0.560438</td>\n",
       "      <td>0.703526</td>\n",
       "    </tr>\n",
       "    <tr>\n",
       "      <th>SW-Phenotype-1-128</th>\n",
       "      <td>0.588631</td>\n",
       "      <td>0.524834</td>\n",
       "      <td>0.548995</td>\n",
       "      <td>0.690556</td>\n",
       "    </tr>\n",
       "    <tr>\n",
       "      <th>SW-Phenotype-1-256</th>\n",
       "      <td>0.603538</td>\n",
       "      <td>0.539336</td>\n",
       "      <td>0.564944</td>\n",
       "      <td>0.706046</td>\n",
       "    </tr>\n",
       "    <tr>\n",
       "      <th>SW-Phenotype-1-50</th>\n",
       "      <td>0.493520</td>\n",
       "      <td>0.442075</td>\n",
       "      <td>0.472833</td>\n",
       "      <td>0.627137</td>\n",
       "    </tr>\n",
       "    <tr>\n",
       "      <th>SW-Phenotype-1-512</th>\n",
       "      <td>0.598178</td>\n",
       "      <td>0.543553</td>\n",
       "      <td>0.573256</td>\n",
       "      <td>0.714664</td>\n",
       "    </tr>\n",
       "    <tr>\n",
       "      <th>SW-Phenotype-2-128</th>\n",
       "      <td>0.570311</td>\n",
       "      <td>0.514220</td>\n",
       "      <td>0.542489</td>\n",
       "      <td>0.689227</td>\n",
       "    </tr>\n",
       "    <tr>\n",
       "      <th>SW-Phenotype-2-256</th>\n",
       "      <td>0.591973</td>\n",
       "      <td>0.531682</td>\n",
       "      <td>0.559702</td>\n",
       "      <td>0.701107</td>\n",
       "    </tr>\n",
       "    <tr>\n",
       "      <th>SW-Phenotype-2-50</th>\n",
       "      <td>0.517716</td>\n",
       "      <td>0.474403</td>\n",
       "      <td>0.507047</td>\n",
       "      <td>0.659205</td>\n",
       "    </tr>\n",
       "    <tr>\n",
       "      <th>SW-Phenotype-2-512</th>\n",
       "      <td>0.570524</td>\n",
       "      <td>0.530011</td>\n",
       "      <td>0.559304</td>\n",
       "      <td>0.700038</td>\n",
       "    </tr>\n",
       "    <tr>\n",
       "      <th>SW-Phenotype-3-128</th>\n",
       "      <td>0.553218</td>\n",
       "      <td>0.507350</td>\n",
       "      <td>0.537933</td>\n",
       "      <td>0.686549</td>\n",
       "    </tr>\n",
       "    <tr>\n",
       "      <th>SW-Phenotype-3-256</th>\n",
       "      <td>0.565129</td>\n",
       "      <td>0.518120</td>\n",
       "      <td>0.547700</td>\n",
       "      <td>0.692441</td>\n",
       "    </tr>\n",
       "    <tr>\n",
       "      <th>SW-Phenotype-3-50</th>\n",
       "      <td>0.491813</td>\n",
       "      <td>0.460183</td>\n",
       "      <td>0.497369</td>\n",
       "      <td>0.650547</td>\n",
       "    </tr>\n",
       "    <tr>\n",
       "      <th>SW-Phenotype-0-512</th>\n",
       "      <td>0.595484</td>\n",
       "      <td>0.534585</td>\n",
       "      <td>0.564022</td>\n",
       "      <td>0.701431</td>\n",
       "    </tr>\n",
       "  </tbody>\n",
       "</table>\n",
       "</div>"
      ],
      "text/plain": [
       "                         R@5      R@10      R@15      R@30\n",
       "SW-Phenotype-0-128  0.561716  0.499973  0.524324  0.663612\n",
       "SW-Phenotype-0-256  0.595858  0.529936  0.551938  0.687316\n",
       "SW-Phenotype-0-50   0.503440  0.452937  0.477416  0.626043\n",
       "SW-Phenotype-0-512  0.591849  0.535087  0.560438  0.703526\n",
       "SW-Phenotype-1-128  0.588631  0.524834  0.548995  0.690556\n",
       "SW-Phenotype-1-256  0.603538  0.539336  0.564944  0.706046\n",
       "SW-Phenotype-1-50   0.493520  0.442075  0.472833  0.627137\n",
       "SW-Phenotype-1-512  0.598178  0.543553  0.573256  0.714664\n",
       "SW-Phenotype-2-128  0.570311  0.514220  0.542489  0.689227\n",
       "SW-Phenotype-2-256  0.591973  0.531682  0.559702  0.701107\n",
       "SW-Phenotype-2-50   0.517716  0.474403  0.507047  0.659205\n",
       "SW-Phenotype-2-512  0.570524  0.530011  0.559304  0.700038\n",
       "SW-Phenotype-3-128  0.553218  0.507350  0.537933  0.686549\n",
       "SW-Phenotype-3-256  0.565129  0.518120  0.547700  0.692441\n",
       "SW-Phenotype-3-50   0.491813  0.460183  0.497369  0.650547\n",
       "SW-Phenotype-0-512  0.595484  0.534585  0.564022  0.701431"
      ]
     },
     "execution_count": 249,
     "metadata": {},
     "output_type": "execute_result"
    }
   ],
   "source": [
    "pd.concat([mimic,mimic_ud])"
   ]
  },
  {
   "cell_type": "markdown",
   "id": "persistent-wholesale",
   "metadata": {},
   "source": [
    "### Directed"
   ]
  },
  {
   "cell_type": "code",
   "execution_count": 89,
   "id": "fatal-belfast",
   "metadata": {},
   "outputs": [],
   "source": [
    "df = append[\"results.mimic.['diagnoses'].['phenotype'].normal.its:1.dropout.ccs.[283].25.256.ancestry:full.unidirected\"]\n",
    "unidirected = df.phenotype.apply(pd.Series)[metrics]\n",
    "df = append[\"results.mimic.['diagnoses'].['phenotype'].normal.its:1.dropout.ccs.[283].25.256.ancestry:full\"]\n",
    "directed = df.phenotype.apply(pd.Series)[metrics]"
   ]
  },
  {
   "cell_type": "code",
   "execution_count": 132,
   "id": "standing-trail",
   "metadata": {},
   "outputs": [],
   "source": [
    "index = directed.merge(unidirected,right_index=True,left_index=True).index\n",
    "subset = index\n",
    "#[idxmx,\"SW-Phenotype-1-256\",\"SW-Phenotype-3-256\",\"SW-Phenotype-3-128\"]\n",
    "df = pd.concat([unidirected,directed]).loc[subset].astype(float)\n",
    "tuples = [subset,['unidirected','directed']]\n",
    "index = pd.MultiIndex.from_product(tuples)\n",
    "df.index = index"
   ]
  },
  {
   "cell_type": "code",
   "execution_count": 137,
   "id": "pressing-picnic",
   "metadata": {},
   "outputs": [
    {
     "data": {
      "text/html": [
       "<div>\n",
       "<style scoped>\n",
       "    .dataframe tbody tr th:only-of-type {\n",
       "        vertical-align: middle;\n",
       "    }\n",
       "\n",
       "    .dataframe tbody tr th {\n",
       "        vertical-align: top;\n",
       "    }\n",
       "\n",
       "    .dataframe thead th {\n",
       "        text-align: right;\n",
       "    }\n",
       "</style>\n",
       "<table border=\"1\" class=\"dataframe\">\n",
       "  <thead>\n",
       "    <tr style=\"text-align: right;\">\n",
       "      <th></th>\n",
       "      <th></th>\n",
       "      <th>R@5</th>\n",
       "      <th>R@10</th>\n",
       "      <th>R@30</th>\n",
       "    </tr>\n",
       "  </thead>\n",
       "  <tbody>\n",
       "    <tr>\n",
       "      <th rowspan=\"2\" valign=\"top\">SW-Phenotype-0-128</th>\n",
       "      <th>unidirected</th>\n",
       "      <td>0.571893</td>\n",
       "      <td>0.504667</td>\n",
       "      <td>0.666462</td>\n",
       "    </tr>\n",
       "    <tr>\n",
       "      <th>directed</th>\n",
       "      <td>0.561716</td>\n",
       "      <td>0.499973</td>\n",
       "      <td>0.663612</td>\n",
       "    </tr>\n",
       "    <tr>\n",
       "      <th rowspan=\"2\" valign=\"top\">SW-Phenotype-0-256</th>\n",
       "      <th>unidirected</th>\n",
       "      <td>0.597813</td>\n",
       "      <td>0.530644</td>\n",
       "      <td>0.690890</td>\n",
       "    </tr>\n",
       "    <tr>\n",
       "      <th>directed</th>\n",
       "      <td>0.595858</td>\n",
       "      <td>0.529936</td>\n",
       "      <td>0.687316</td>\n",
       "    </tr>\n",
       "    <tr>\n",
       "      <th rowspan=\"2\" valign=\"top\">SW-Phenotype-0-50</th>\n",
       "      <th>unidirected</th>\n",
       "      <td>0.506542</td>\n",
       "      <td>0.454514</td>\n",
       "      <td>0.627154</td>\n",
       "    </tr>\n",
       "    <tr>\n",
       "      <th>directed</th>\n",
       "      <td>0.503440</td>\n",
       "      <td>0.452937</td>\n",
       "      <td>0.626043</td>\n",
       "    </tr>\n",
       "    <tr>\n",
       "      <th rowspan=\"2\" valign=\"top\">SW-Phenotype-0-512</th>\n",
       "      <th>unidirected</th>\n",
       "      <td>0.595484</td>\n",
       "      <td>0.534585</td>\n",
       "      <td>0.701431</td>\n",
       "    </tr>\n",
       "    <tr>\n",
       "      <th>directed</th>\n",
       "      <td>0.591849</td>\n",
       "      <td>0.535087</td>\n",
       "      <td>0.703526</td>\n",
       "    </tr>\n",
       "    <tr>\n",
       "      <th rowspan=\"2\" valign=\"top\">SW-Phenotype-1-128</th>\n",
       "      <th>unidirected</th>\n",
       "      <td>0.591342</td>\n",
       "      <td>0.526368</td>\n",
       "      <td>0.692086</td>\n",
       "    </tr>\n",
       "    <tr>\n",
       "      <th>directed</th>\n",
       "      <td>0.588631</td>\n",
       "      <td>0.524834</td>\n",
       "      <td>0.690556</td>\n",
       "    </tr>\n",
       "    <tr>\n",
       "      <th rowspan=\"2\" valign=\"top\">SW-Phenotype-1-256</th>\n",
       "      <th>unidirected</th>\n",
       "      <td>0.603733</td>\n",
       "      <td>0.546607</td>\n",
       "      <td>0.709807</td>\n",
       "    </tr>\n",
       "    <tr>\n",
       "      <th>directed</th>\n",
       "      <td>0.603538</td>\n",
       "      <td>0.539336</td>\n",
       "      <td>0.706046</td>\n",
       "    </tr>\n",
       "    <tr>\n",
       "      <th rowspan=\"2\" valign=\"top\">SW-Phenotype-1-50</th>\n",
       "      <th>unidirected</th>\n",
       "      <td>0.531529</td>\n",
       "      <td>0.480587</td>\n",
       "      <td>0.654651</td>\n",
       "    </tr>\n",
       "    <tr>\n",
       "      <th>directed</th>\n",
       "      <td>0.493520</td>\n",
       "      <td>0.442075</td>\n",
       "      <td>0.627137</td>\n",
       "    </tr>\n",
       "    <tr>\n",
       "      <th rowspan=\"2\" valign=\"top\">SW-Phenotype-1-512</th>\n",
       "      <th>unidirected</th>\n",
       "      <td>0.611991</td>\n",
       "      <td>0.552389</td>\n",
       "      <td>0.711293</td>\n",
       "    </tr>\n",
       "    <tr>\n",
       "      <th>directed</th>\n",
       "      <td>0.598178</td>\n",
       "      <td>0.543553</td>\n",
       "      <td>0.714664</td>\n",
       "    </tr>\n",
       "    <tr>\n",
       "      <th rowspan=\"2\" valign=\"top\">SW-Phenotype-2-128</th>\n",
       "      <th>unidirected</th>\n",
       "      <td>0.577404</td>\n",
       "      <td>0.516909</td>\n",
       "      <td>0.692741</td>\n",
       "    </tr>\n",
       "    <tr>\n",
       "      <th>directed</th>\n",
       "      <td>0.570311</td>\n",
       "      <td>0.514220</td>\n",
       "      <td>0.689227</td>\n",
       "    </tr>\n",
       "    <tr>\n",
       "      <th rowspan=\"2\" valign=\"top\">SW-Phenotype-2-256</th>\n",
       "      <th>unidirected</th>\n",
       "      <td>0.589289</td>\n",
       "      <td>0.533675</td>\n",
       "      <td>0.702825</td>\n",
       "    </tr>\n",
       "    <tr>\n",
       "      <th>directed</th>\n",
       "      <td>0.591973</td>\n",
       "      <td>0.531682</td>\n",
       "      <td>0.701107</td>\n",
       "    </tr>\n",
       "    <tr>\n",
       "      <th rowspan=\"2\" valign=\"top\">SW-Phenotype-2-50</th>\n",
       "      <th>unidirected</th>\n",
       "      <td>0.517422</td>\n",
       "      <td>0.475952</td>\n",
       "      <td>0.657358</td>\n",
       "    </tr>\n",
       "    <tr>\n",
       "      <th>directed</th>\n",
       "      <td>0.517716</td>\n",
       "      <td>0.474403</td>\n",
       "      <td>0.659205</td>\n",
       "    </tr>\n",
       "    <tr>\n",
       "      <th rowspan=\"2\" valign=\"top\">SW-Phenotype-3-128</th>\n",
       "      <th>unidirected</th>\n",
       "      <td>0.566809</td>\n",
       "      <td>0.515822</td>\n",
       "      <td>0.687111</td>\n",
       "    </tr>\n",
       "    <tr>\n",
       "      <th>directed</th>\n",
       "      <td>0.553218</td>\n",
       "      <td>0.507350</td>\n",
       "      <td>0.686549</td>\n",
       "    </tr>\n",
       "    <tr>\n",
       "      <th rowspan=\"2\" valign=\"top\">SW-Phenotype-3-256</th>\n",
       "      <th>unidirected</th>\n",
       "      <td>0.574480</td>\n",
       "      <td>0.519376</td>\n",
       "      <td>0.695591</td>\n",
       "    </tr>\n",
       "    <tr>\n",
       "      <th>directed</th>\n",
       "      <td>0.565129</td>\n",
       "      <td>0.518120</td>\n",
       "      <td>0.692441</td>\n",
       "    </tr>\n",
       "    <tr>\n",
       "      <th rowspan=\"2\" valign=\"top\">SW-Phenotype-3-50</th>\n",
       "      <th>unidirected</th>\n",
       "      <td>0.515067</td>\n",
       "      <td>0.477115</td>\n",
       "      <td>0.658945</td>\n",
       "    </tr>\n",
       "    <tr>\n",
       "      <th>directed</th>\n",
       "      <td>0.491813</td>\n",
       "      <td>0.460183</td>\n",
       "      <td>0.650547</td>\n",
       "    </tr>\n",
       "  </tbody>\n",
       "</table>\n",
       "</div>"
      ],
      "text/plain": [
       "                                     R@5      R@10      R@30\n",
       "SW-Phenotype-0-128 unidirected  0.571893  0.504667  0.666462\n",
       "                   directed     0.561716  0.499973  0.663612\n",
       "SW-Phenotype-0-256 unidirected  0.597813  0.530644  0.690890\n",
       "                   directed     0.595858  0.529936  0.687316\n",
       "SW-Phenotype-0-50  unidirected  0.506542  0.454514  0.627154\n",
       "                   directed     0.503440  0.452937  0.626043\n",
       "SW-Phenotype-0-512 unidirected  0.595484  0.534585  0.701431\n",
       "                   directed     0.591849  0.535087  0.703526\n",
       "SW-Phenotype-1-128 unidirected  0.591342  0.526368  0.692086\n",
       "                   directed     0.588631  0.524834  0.690556\n",
       "SW-Phenotype-1-256 unidirected  0.603733  0.546607  0.709807\n",
       "                   directed     0.603538  0.539336  0.706046\n",
       "SW-Phenotype-1-50  unidirected  0.531529  0.480587  0.654651\n",
       "                   directed     0.493520  0.442075  0.627137\n",
       "SW-Phenotype-1-512 unidirected  0.611991  0.552389  0.711293\n",
       "                   directed     0.598178  0.543553  0.714664\n",
       "SW-Phenotype-2-128 unidirected  0.577404  0.516909  0.692741\n",
       "                   directed     0.570311  0.514220  0.689227\n",
       "SW-Phenotype-2-256 unidirected  0.589289  0.533675  0.702825\n",
       "                   directed     0.591973  0.531682  0.701107\n",
       "SW-Phenotype-2-50  unidirected  0.517422  0.475952  0.657358\n",
       "                   directed     0.517716  0.474403  0.659205\n",
       "SW-Phenotype-3-128 unidirected  0.566809  0.515822  0.687111\n",
       "                   directed     0.553218  0.507350  0.686549\n",
       "SW-Phenotype-3-256 unidirected  0.574480  0.519376  0.695591\n",
       "                   directed     0.565129  0.518120  0.692441\n",
       "SW-Phenotype-3-50  unidirected  0.515067  0.477115  0.658945\n",
       "                   directed     0.491813  0.460183  0.650547"
      ]
     },
     "execution_count": 137,
     "metadata": {},
     "output_type": "execute_result"
    }
   ],
   "source": [
    "df"
   ]
  },
  {
   "cell_type": "code",
   "execution_count": 133,
   "id": "civic-omega",
   "metadata": {},
   "outputs": [
    {
     "name": "stdout",
     "output_type": "stream",
     "text": [
      "\\begin{table}\n",
      "\\centering\n",
      "\\caption{Unidirected vs Directed}\n",
      "\\label{tab:uniab}\n",
      "\\begin{tabular}{llrrr}\n",
      "\\toprule\n",
      "                  &          &    R@5 &   R@10 &   R@30 \\\\\n",
      "\\midrule\n",
      "SW-Phenotype-0-128 & unidirected &  0.572 &  0.505 &  0.666 \\\\\n",
      "                  & directed &  0.562 &  0.500 &  0.664 \\\\\n",
      "SW-Phenotype-0-256 & unidirected &  0.598 &  0.531 &  0.691 \\\\\n",
      "                  & directed &  0.596 &  0.530 &  0.687 \\\\\n",
      "SW-Phenotype-0-50 & unidirected &  0.507 &  0.455 &  0.627 \\\\\n",
      "                  & directed &  0.503 &  0.453 &  0.626 \\\\\n",
      "SW-Phenotype-0-512 & unidirected &  0.595 &  0.535 &  0.701 \\\\\n",
      "                  & directed &  0.592 &  0.535 &  0.704 \\\\\n",
      "SW-Phenotype-1-128 & unidirected &  0.591 &  0.526 &  0.692 \\\\\n",
      "                  & directed &  0.589 &  0.525 &  0.691 \\\\\n",
      "SW-Phenotype-1-256 & unidirected &  0.604 &  0.547 &  0.710 \\\\\n",
      "                  & directed &  0.604 &  0.539 &  0.706 \\\\\n",
      "SW-Phenotype-1-50 & unidirected &  0.532 &  0.481 &  0.655 \\\\\n",
      "                  & directed &  0.494 &  0.442 &  0.627 \\\\\n",
      "SW-Phenotype-1-512 & unidirected &  0.612 &  0.552 &  0.711 \\\\\n",
      "                  & directed &  0.598 &  0.544 &  0.715 \\\\\n",
      "SW-Phenotype-2-128 & unidirected &  0.577 &  0.517 &  0.693 \\\\\n",
      "                  & directed &  0.570 &  0.514 &  0.689 \\\\\n",
      "SW-Phenotype-2-256 & unidirected &  0.589 &  0.534 &  0.703 \\\\\n",
      "                  & directed &  0.592 &  0.532 &  0.701 \\\\\n",
      "SW-Phenotype-2-50 & unidirected &  0.517 &  0.476 &  0.657 \\\\\n",
      "                  & directed &  0.518 &  0.474 &  0.659 \\\\\n",
      "SW-Phenotype-3-128 & unidirected &  0.567 &  0.516 &  0.687 \\\\\n",
      "                  & directed &  0.553 &  0.507 &  0.687 \\\\\n",
      "SW-Phenotype-3-256 & unidirected &  0.574 &  0.519 &  0.696 \\\\\n",
      "                  & directed &  0.565 &  0.518 &  0.692 \\\\\n",
      "SW-Phenotype-3-50 & unidirected &  0.515 &  0.477 &  0.659 \\\\\n",
      "                  & directed &  0.492 &  0.460 &  0.651 \\\\\n",
      "\\bottomrule\n",
      "\\end{tabular}\n",
      "\\end{table}\n",
      "\n"
     ]
    }
   ],
   "source": [
    "print(df.applymap(lambda x: round(x,3)).to_latex(label='tab:uniab',caption='Unidirected vs Directed'))"
   ]
  },
  {
   "cell_type": "code",
   "execution_count": 66,
   "id": "vital-clarity",
   "metadata": {},
   "outputs": [],
   "source": [
    "df = directed.merge(unidirected,right_index=True,left_index=True).astype(float)"
   ]
  },
  {
   "cell_type": "code",
   "execution_count": 33,
   "id": "future-galaxy",
   "metadata": {},
   "outputs": [],
   "source": [
    "df = df.T"
   ]
  },
  {
   "cell_type": "code",
   "execution_count": 34,
   "id": "illegal-numbers",
   "metadata": {},
   "outputs": [],
   "source": [
    "df.index=index"
   ]
  },
  {
   "cell_type": "code",
   "execution_count": 38,
   "id": "welcome-trance",
   "metadata": {},
   "outputs": [
    {
     "data": {
      "text/plain": [
       "<AxesSubplot:>"
      ]
     },
     "execution_count": 38,
     "metadata": {},
     "output_type": "execute_result"
    },
    {
     "data": {
      "image/png": "[encoded data removed]",
      "text/plain": [
       "<Figure size 1080x720 with 1 Axes>"
      ]
     },
     "metadata": {
      "needs_background": "light"
     },
     "output_type": "display_data"
    }
   ],
   "source": [
    "df.T.plot(kind='bar',figsize=(15,10))"
   ]
  },
  {
   "cell_type": "code",
   "execution_count": 14,
   "id": "proud-warner",
   "metadata": {},
   "outputs": [
    {
     "data": {
      "text/plain": [
       "[]"
      ]
     },
     "execution_count": 14,
     "metadata": {},
     "output_type": "execute_result"
    }
   ],
   "source": [
    "get_keys(':5',lst)"
   ]
  },
  {
   "cell_type": "code",
   "execution_count": null,
   "id": "electronic-humidity",
   "metadata": {},
   "outputs": [],
   "source": []
  }
 ],
 "metadata": {
  "kernelspec": {
   "display_name": "Geometric",
   "language": "python",
   "name": "pyg"
  },
  "language_info": {
   "codemirror_mode": {
    "name": "ipython",
    "version": 3
   },
   "file_extension": ".py",
   "mimetype": "text/x-python",
   "name": "python",
   "nbconvert_exporter": "python",
   "pygments_lexer": "ipython3",
   "version": "3.9.7"
  }
 },
 "nbformat": 4,
 "nbformat_minor": 5
}
