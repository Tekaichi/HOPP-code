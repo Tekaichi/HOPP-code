{
 "cells": [
  {
   "cell_type": "code",
   "execution_count": 1,
   "id": "compressed-label",
   "metadata": {},
   "outputs": [],
   "source": [
    "from MIMIC3 import MIMIC_3\n",
    "from ICDCodesGrouper import ICDCodesGrouper\n",
    "import pandas as pd"
   ]
  },
  {
   "cell_type": "code",
   "execution_count": 2,
   "id": "prescription-python",
   "metadata": {},
   "outputs": [],
   "source": [
    "mimic_path =  \"/notebooks/Experiments/Datasets/MIMIC 3/\"\n",
    "icdgrouper = ICDCodesGrouper(ccs_path='CCS-SingleDiagnosisGrouper.txt')"
   ]
  },
  {
   "cell_type": "code",
   "execution_count": 3,
   "id": "involved-subcommittee",
   "metadata": {},
   "outputs": [],
   "source": [
    "dataset = lambda x: f'{mimic_path}/{x}.csv.gz'"
   ]
  },
  {
   "cell_type": "code",
   "execution_count": null,
   "id": "closed-nepal",
   "metadata": {},
   "outputs": [],
   "source": [
    "pd.read_csv(dataset('ADMISSIONS'))"
   ]
  },
  {
   "cell_type": "code",
   "execution_count": 7,
   "id": "infrared-neighbor",
   "metadata": {},
   "outputs": [],
   "source": [
    "mimic = MIMIC_3(mimic_path,save_steps = True)\n",
    "grouper = lambda group: lambda x: icdgrouper.lookup(group,x)\n",
    "grouper = grouper('ccs')\n",
    "df = mimic.get_tabular()"
   ]
  },
  {
   "cell_type": "code",
   "execution_count": 8,
   "id": "according-environment",
   "metadata": {},
   "outputs": [
    {
     "ename": "ValueError",
     "evalue": "The truth value of a DataFrame is ambiguous. Use a.empty, a.bool(), a.item(), a.any() or a.all().",
     "output_type": "error",
     "traceback": [
      "\u001b[0;31m---------------------------------------------------------------------------\u001b[0m",
      "\u001b[0;31mValueError\u001b[0m                                Traceback (most recent call last)",
      "\u001b[0;32m/tmp/ipykernel_2684/2187439379.py\u001b[0m in \u001b[0;36m<module>\u001b[0;34m\u001b[0m\n\u001b[0;32m----> 1\u001b[0;31m \u001b[0mmimic\u001b[0m\u001b[0;34m.\u001b[0m\u001b[0mget_label\u001b[0m\u001b[0;34m(\u001b[0m\u001b[0mbase\u001b[0m\u001b[0;34m=\u001b[0m\u001b[0mmimic\u001b[0m\u001b[0;34m.\u001b[0m\u001b[0mto_self_supervised\u001b[0m\u001b[0;34m(\u001b[0m\u001b[0;34m)\u001b[0m\u001b[0;34m)\u001b[0m\u001b[0;34m\u001b[0m\u001b[0;34m\u001b[0m\u001b[0m\n\u001b[0m",
      "\u001b[0;32m/notebooks/Experiments/Notebooks/MIMIC3.py\u001b[0m in \u001b[0;36mget_label\u001b[0;34m(self, target, base)\u001b[0m\n\u001b[1;32m     62\u001b[0m \u001b[0;34m\u001b[0m\u001b[0m\n\u001b[1;32m     63\u001b[0m         \u001b[0;31m#Right now only mortality is working.\u001b[0m\u001b[0;34m\u001b[0m\u001b[0;34m\u001b[0m\u001b[0m\n\u001b[0;32m---> 64\u001b[0;31m         \u001b[0;32mif\u001b[0m \u001b[0;32mnot\u001b[0m \u001b[0mbase\u001b[0m\u001b[0;34m:\u001b[0m\u001b[0;34m\u001b[0m\u001b[0;34m\u001b[0m\u001b[0m\n\u001b[0m\u001b[1;32m     65\u001b[0m             \u001b[0mbase\u001b[0m \u001b[0;34m=\u001b[0m \u001b[0mself\u001b[0m\u001b[0;34m.\u001b[0m\u001b[0mget_diagnoses\u001b[0m\u001b[0;34m(\u001b[0m\u001b[0;34m)\u001b[0m\u001b[0;34m.\u001b[0m\u001b[0mcopy\u001b[0m\u001b[0;34m(\u001b[0m\u001b[0;34m)\u001b[0m\u001b[0;34m.\u001b[0m\u001b[0mto_frame\u001b[0m\u001b[0;34m(\u001b[0m\u001b[0;34m'diagnoses'\u001b[0m\u001b[0;34m)\u001b[0m\u001b[0;34m\u001b[0m\u001b[0;34m\u001b[0m\u001b[0m\n\u001b[1;32m     66\u001b[0m \u001b[0;34m\u001b[0m\u001b[0m\n",
      "\u001b[0;32m/opt/conda/envs/pyg/lib/python3.9/site-packages/pandas/core/generic.py\u001b[0m in \u001b[0;36m__nonzero__\u001b[0;34m(self)\u001b[0m\n\u001b[1;32m   1532\u001b[0m     \u001b[0;34m@\u001b[0m\u001b[0mfinal\u001b[0m\u001b[0;34m\u001b[0m\u001b[0;34m\u001b[0m\u001b[0m\n\u001b[1;32m   1533\u001b[0m     \u001b[0;32mdef\u001b[0m \u001b[0m__nonzero__\u001b[0m\u001b[0;34m(\u001b[0m\u001b[0mself\u001b[0m\u001b[0;34m)\u001b[0m\u001b[0;34m:\u001b[0m\u001b[0;34m\u001b[0m\u001b[0;34m\u001b[0m\u001b[0m\n\u001b[0;32m-> 1534\u001b[0;31m         raise ValueError(\n\u001b[0m\u001b[1;32m   1535\u001b[0m             \u001b[0;34mf\"The truth value of a {type(self).__name__} is ambiguous. \"\u001b[0m\u001b[0;34m\u001b[0m\u001b[0;34m\u001b[0m\u001b[0m\n\u001b[1;32m   1536\u001b[0m             \u001b[0;34m\"Use a.empty, a.bool(), a.item(), a.any() or a.all().\"\u001b[0m\u001b[0;34m\u001b[0m\u001b[0;34m\u001b[0m\u001b[0m\n",
      "\u001b[0;31mValueError\u001b[0m: The truth value of a DataFrame is ambiguous. Use a.empty, a.bool(), a.item(), a.any() or a.all()."
     ]
    }
   ],
   "source": [
    "mimic.get_label(base=mimic.to_self_supervised())"
   ]
  },
  {
   "cell_type": "code",
   "execution_count": 7,
   "id": "mathematical-stopping",
   "metadata": {},
   "outputs": [
    {
     "data": {
      "text/plain": [
       "5854"
      ]
     },
     "execution_count": 7,
     "metadata": {},
     "output_type": "execute_result"
    }
   ],
   "source": [
    "b.sum()"
   ]
  },
  {
   "cell_type": "code",
   "execution_count": 9,
   "id": "impossible-knowing",
   "metadata": {},
   "outputs": [
    {
     "data": {
      "text/plain": [
       "1445"
      ]
     },
     "execution_count": 9,
     "metadata": {},
     "output_type": "execute_result"
    }
   ],
   "source": [
    "a.merge(b,right_index=True,left_index=True,how='inner')['DEATHTIME'].sum()"
   ]
  },
  {
   "cell_type": "code",
   "execution_count": 102,
   "id": "biological-australian",
   "metadata": {},
   "outputs": [],
   "source": [
    "df.ICD9_CODE = df.ICD9_CODE.apply(grouper)"
   ]
  },
  {
   "cell_type": "code",
   "execution_count": 103,
   "id": "sudden-summit",
   "metadata": {},
   "outputs": [
    {
     "data": {
      "text/plain": [
       "281"
      ]
     },
     "execution_count": 103,
     "metadata": {},
     "output_type": "execute_result"
    }
   ],
   "source": [
    "df.ICD9_CODE.nunique()"
   ]
  },
  {
   "cell_type": "code",
   "execution_count": 104,
   "id": "fourth-roman",
   "metadata": {},
   "outputs": [],
   "source": [
    "freq = df.groupby('ICD9_CODE')[\"HADM_ID\"].apply(len)\n",
    "n_visits = df.HADM_ID.nunique()"
   ]
  },
  {
   "cell_type": "code",
   "execution_count": 105,
   "id": "therapeutic-surname",
   "metadata": {},
   "outputs": [],
   "source": [
    "pct_frequence = (freq/freq.max())*100"
   ]
  },
  {
   "cell_type": "code",
   "execution_count": 106,
   "id": "sunrise-soundtrack",
   "metadata": {},
   "outputs": [
    {
     "data": {
      "text/plain": [
       "array([194, 254])"
      ]
     },
     "execution_count": 106,
     "metadata": {},
     "output_type": "execute_result"
    }
   ],
   "source": [
    "missing = icdgrouper.get_classes('ccs')[[item not in pct_frequence.index for item in icdgrouper.get_classes('ccs')]]\n",
    "missing"
   ]
  },
  {
   "cell_type": "code",
   "execution_count": 107,
   "id": "living-choice",
   "metadata": {},
   "outputs": [
    {
     "name": "stderr",
     "output_type": "stream",
     "text": [
      "/tmp/ipykernel_4002/2388863096.py:1: DeprecationWarning: The default dtype for empty Series will be 'object' instead of 'float64' in a future version. Specify a dtype explicitly to silence this warning.\n",
      "  pct_frequence = pd.concat([pct_frequence,pd.Series(index=missing).fillna(0)]).sort_index()\n"
     ]
    }
   ],
   "source": [
    "pct_frequence = pd.concat([pct_frequence,pd.Series(index=missing).fillna(0)]).sort_index()\n"
   ]
  },
  {
   "cell_type": "code",
   "execution_count": 108,
   "id": "female-puzzle",
   "metadata": {},
   "outputs": [
    {
     "data": {
      "text/plain": [
       "1        0.584645\n",
       "2       49.055008\n",
       "3       23.356376\n",
       "4        7.707016\n",
       "5        3.202677\n",
       "          ...    \n",
       "2617    18.638770\n",
       "2618     1.581115\n",
       "2619     0.466980\n",
       "2620     1.706133\n",
       "2621     8.023239\n",
       "Length: 283, dtype: float64"
      ]
     },
     "execution_count": 108,
     "metadata": {},
     "output_type": "execute_result"
    }
   ],
   "source": [
    "pct_frequence"
   ]
  },
  {
   "cell_type": "code",
   "execution_count": 109,
   "id": "forward-auction",
   "metadata": {},
   "outputs": [],
   "source": [
    "bins = pd.cut(pct_frequence,bins=5)"
   ]
  },
  {
   "cell_type": "code",
   "execution_count": 110,
   "id": "monthly-essex",
   "metadata": {},
   "outputs": [
    {
     "data": {
      "text/plain": [
       "1       (-0.1, 20.0]\n",
       "2       (40.0, 60.0]\n",
       "3       (20.0, 40.0]\n",
       "4       (-0.1, 20.0]\n",
       "5       (-0.1, 20.0]\n",
       "            ...     \n",
       "2617    (-0.1, 20.0]\n",
       "2618    (-0.1, 20.0]\n",
       "2619    (-0.1, 20.0]\n",
       "2620    (-0.1, 20.0]\n",
       "2621    (-0.1, 20.0]\n",
       "Length: 283, dtype: category\n",
       "Categories (5, interval[float64, right]): [(-0.1, 20.0] < (20.0, 40.0] < (40.0, 60.0] < (60.0, 80.0] < (80.0, 100.0]]"
      ]
     },
     "execution_count": 110,
     "metadata": {},
     "output_type": "execute_result"
    }
   ],
   "source": [
    "bins"
   ]
  },
  {
   "cell_type": "code",
   "execution_count": 12,
   "id": "lesser-street",
   "metadata": {},
   "outputs": [],
   "source": [
    "from models import OutcomeModel\n",
    "import torch\n",
    "from utilities import *\n",
    "from Processing import get_or_create_diagnosis_ccs_graph,init_embeddings\n",
    "import networkx as nx"
   ]
  },
  {
   "cell_type": "code",
   "execution_count": 30,
   "id": "appointed-proportion",
   "metadata": {},
   "outputs": [],
   "source": [
    "def load_model(path=\"./models/mimic/normal/ccs/50/256\",embedding_size=128,n_layers=1,device='cpu'):\n",
    "        base = lambda e,l :f'{path}/SW-Phenotype-{l}-{e}'\n",
    "        model = OutcomeModel(embedding_size=embedding_size,n_layers=n_layers)\n",
    "        model.load_state_dict(torch.load(base(embedding_size,n_layers),map_location=device))\n",
    "        return model.to(device)"
   ]
  },
  {
   "cell_type": "code",
   "execution_count": 31,
   "id": "happy-hierarchy",
   "metadata": {},
   "outputs": [],
   "source": [
    "device = 'cuda'\n",
    "embedding_size = 100\n",
    "n_layers = 0"
   ]
  },
  {
   "cell_type": "code",
   "execution_count": 32,
   "id": "innocent-university",
   "metadata": {},
   "outputs": [],
   "source": [
    "model = load_model(n_layers=0,embedding_size=100,device=device)\n"
   ]
  },
  {
   "cell_type": "code",
   "execution_count": 16,
   "id": "private-twist",
   "metadata": {},
   "outputs": [],
   "source": [
    "def setup_structure(path=\"./\",embedding_size=256):\n",
    "    G = nx.DiGraph()\n",
    "    f_name = \"./CCS-MultiDiagnosisGrouper.txt\"\n",
    "    G = get_or_create_diagnosis_ccs_graph(G,f_name,suffix=True)\n",
    "    embeddings = init_embeddings(embedding_size,G=G) \n",
    "    return G,embeddings\n"
   ]
  },
  {
   "cell_type": "code",
   "execution_count": 17,
   "id": "decent-religious",
   "metadata": {},
   "outputs": [
    {
     "name": "stderr",
     "output_type": "stream",
     "text": [
      "/opt/conda/envs/pyg/lib/python3.9/site-packages/gensim/similarities/__init__.py:15: UserWarning: The gensim.similarities.levenshtein submodule is disabled, because the optional Levenshtein package <https://pypi.org/project/python-Levenshtein/> is unavailable. Install Levenhstein (e.g. `pip install python-Levenshtein`) to suppress this warning.\n",
      "  warnings.warn(msg)\n"
     ]
    }
   ],
   "source": [
    "G,embeddings = setup_structure(embedding_size=embedding_size)"
   ]
  },
  {
   "cell_type": "code",
   "execution_count": 18,
   "id": "useful-elder",
   "metadata": {},
   "outputs": [],
   "source": [
    "mimic_path =  \"/notebooks/Experiments/Datasets/MIMIC 3/\"\n",
    "icdgrouper = ICDCodesGrouper(ccs_path='CCS-SingleDiagnosisGrouper.txt')\n",
    "mimic = MIMIC_3(mimic_path,save_steps = True)\n",
    "grouper = lambda group: lambda x: icdgrouper.lookup(group,x)\n",
    "\n",
    "target = 'ccs'\n",
    "\n",
    "grouper = grouper(target)\n",
    "df = mimic.to_self_supervised(target_grouper = grouper)\n",
    "\n",
    "from sklearn.preprocessing import MultiLabelBinarizer\n",
    "mlb = MultiLabelBinarizer()\n",
    "\n",
    "#TODO: not ready for replicate targets.\n",
    "multi_hot = mlb.fit_transform(df.target)\n",
    "\n",
    "existing_classes = mlb.classes_\n",
    "all_classes = icdgrouper.get_classes(target)\n",
    "\n",
    "\n",
    "not_common = np.array([idx for idx,i in enumerate(all_classes) if i not in existing_classes])\n",
    "delta = all_classes.shape[0]-existing_classes.shape[0]\n",
    "\n",
    "\n",
    "multi_hot = np.insert(multi_hot,not_common-(delta-1),0,axis=1) \n",
    "\n",
    "n_labels = multi_hot.shape[1]\n",
    "\n",
    "df.target = list(multi_hot)"
   ]
  },
  {
   "cell_type": "code",
   "execution_count": 19,
   "id": "armed-harassment",
   "metadata": {},
   "outputs": [
    {
     "data": {
      "text/html": [
       "<div>\n",
       "<style scoped>\n",
       "    .dataframe tbody tr th:only-of-type {\n",
       "        vertical-align: middle;\n",
       "    }\n",
       "\n",
       "    .dataframe tbody tr th {\n",
       "        vertical-align: top;\n",
       "    }\n",
       "\n",
       "    .dataframe thead th {\n",
       "        text-align: right;\n",
       "    }\n",
       "</style>\n",
       "<table border=\"1\" class=\"dataframe\">\n",
       "  <thead>\n",
       "    <tr style=\"text-align: right;\">\n",
       "      <th></th>\n",
       "      <th>diagnoses</th>\n",
       "      <th>target</th>\n",
       "    </tr>\n",
       "    <tr>\n",
       "      <th>SUBJECT_ID</th>\n",
       "      <th></th>\n",
       "      <th></th>\n",
       "    </tr>\n",
       "  </thead>\n",
       "  <tbody>\n",
       "    <tr>\n",
       "      <th>1135</th>\n",
       "      <td>[[41091, 4280, 5185, 5845, 9999, 486, 43820, 5...</td>\n",
       "      <td>[0, 0, 0, 0, 0, 0, 0, 0, 0, 0, 0, 0, 0, 0, 0, ...</td>\n",
       "    </tr>\n",
       "    <tr>\n",
       "      <th>28644</th>\n",
       "      <td>[[53110, 2639, 29181, 4589, 42789, 04186, 2886...</td>\n",
       "      <td>[0, 0, 0, 0, 0, 0, 0, 0, 0, 0, 0, 0, 0, 0, 0, ...</td>\n",
       "    </tr>\n",
       "    <tr>\n",
       "      <th>9688</th>\n",
       "      <td>[[41401, 4111, 99812, 496, 60001, 25000, 5939,...</td>\n",
       "      <td>[0, 0, 0, 0, 0, 0, 0, 0, 0, 0, 0, 0, 0, 0, 0, ...</td>\n",
       "    </tr>\n",
       "    <tr>\n",
       "      <th>71774</th>\n",
       "      <td>[[2252, 3485, 43491, 34202, 34551, 7843, 2724,...</td>\n",
       "      <td>[0, 1, 0, 0, 0, 0, 0, 0, 0, 0, 0, 0, 0, 0, 0, ...</td>\n",
       "    </tr>\n",
       "    <tr>\n",
       "      <th>79539</th>\n",
       "      <td>[[44024, 70715, 3310, 29410, V5867, 40390, V12...</td>\n",
       "      <td>[0, 0, 0, 0, 0, 0, 0, 0, 0, 0, 0, 0, 0, 0, 0, ...</td>\n",
       "    </tr>\n",
       "    <tr>\n",
       "      <th>8670</th>\n",
       "      <td>[[41071, 4280, 25011, 41402, 25051, 36201, 250...</td>\n",
       "      <td>[0, 0, 0, 0, 0, 0, 0, 0, 0, 0, 0, 0, 0, 0, 0, ...</td>\n",
       "    </tr>\n",
       "    <tr>\n",
       "      <th>19622</th>\n",
       "      <td>[[4416, 7907, 5990, 70705, 99674, 5180, 70703,...</td>\n",
       "      <td>[0, 0, 0, 0, 0, 0, 0, 0, 0, 0, 0, 0, 0, 0, 0, ...</td>\n",
       "    </tr>\n",
       "    <tr>\n",
       "      <th>19164</th>\n",
       "      <td>[[5672, 20410, 7907, 0414, 7994, 2830, 5722, 5...</td>\n",
       "      <td>[0, 1, 0, 0, 0, 0, 0, 0, 0, 0, 0, 0, 0, 0, 0, ...</td>\n",
       "    </tr>\n",
       "    <tr>\n",
       "      <th>6552</th>\n",
       "      <td>[[1977, 452, 1976, 1961, 45620, 591, 2851, 576...</td>\n",
       "      <td>[0, 0, 0, 1, 0, 0, 0, 0, 0, 0, 0, 0, 0, 0, 0, ...</td>\n",
       "    </tr>\n",
       "    <tr>\n",
       "      <th>32005</th>\n",
       "      <td>[[5781, 2851, 5849, 79092, 56210, 60000, 73300...</td>\n",
       "      <td>[0, 0, 0, 0, 0, 0, 0, 0, 0, 0, 0, 0, 0, 0, 0, ...</td>\n",
       "    </tr>\n",
       "  </tbody>\n",
       "</table>\n",
       "</div>"
      ],
      "text/plain": [
       "                                                    diagnoses  \\\n",
       "SUBJECT_ID                                                      \n",
       "1135        [[41091, 4280, 5185, 5845, 9999, 486, 43820, 5...   \n",
       "28644       [[53110, 2639, 29181, 4589, 42789, 04186, 2886...   \n",
       "9688        [[41401, 4111, 99812, 496, 60001, 25000, 5939,...   \n",
       "71774       [[2252, 3485, 43491, 34202, 34551, 7843, 2724,...   \n",
       "79539       [[44024, 70715, 3310, 29410, V5867, 40390, V12...   \n",
       "8670        [[41071, 4280, 25011, 41402, 25051, 36201, 250...   \n",
       "19622       [[4416, 7907, 5990, 70705, 99674, 5180, 70703,...   \n",
       "19164       [[5672, 20410, 7907, 0414, 7994, 2830, 5722, 5...   \n",
       "6552        [[1977, 452, 1976, 1961, 45620, 591, 2851, 576...   \n",
       "32005       [[5781, 2851, 5849, 79092, 56210, 60000, 73300...   \n",
       "\n",
       "                                                       target  \n",
       "SUBJECT_ID                                                     \n",
       "1135        [0, 0, 0, 0, 0, 0, 0, 0, 0, 0, 0, 0, 0, 0, 0, ...  \n",
       "28644       [0, 0, 0, 0, 0, 0, 0, 0, 0, 0, 0, 0, 0, 0, 0, ...  \n",
       "9688        [0, 0, 0, 0, 0, 0, 0, 0, 0, 0, 0, 0, 0, 0, 0, ...  \n",
       "71774       [0, 1, 0, 0, 0, 0, 0, 0, 0, 0, 0, 0, 0, 0, 0, ...  \n",
       "79539       [0, 0, 0, 0, 0, 0, 0, 0, 0, 0, 0, 0, 0, 0, 0, ...  \n",
       "8670        [0, 0, 0, 0, 0, 0, 0, 0, 0, 0, 0, 0, 0, 0, 0, ...  \n",
       "19622       [0, 0, 0, 0, 0, 0, 0, 0, 0, 0, 0, 0, 0, 0, 0, ...  \n",
       "19164       [0, 1, 0, 0, 0, 0, 0, 0, 0, 0, 0, 0, 0, 0, 0, ...  \n",
       "6552        [0, 0, 0, 1, 0, 0, 0, 0, 0, 0, 0, 0, 0, 0, 0, ...  \n",
       "32005       [0, 0, 0, 0, 0, 0, 0, 0, 0, 0, 0, 0, 0, 0, 0, ...  "
      ]
     },
     "execution_count": 19,
     "metadata": {},
     "output_type": "execute_result"
    }
   ],
   "source": [
    "dataset = df.sample(10)\n",
    "dataset"
   ]
  },
  {
   "cell_type": "code",
   "execution_count": 20,
   "id": "agricultural-background",
   "metadata": {},
   "outputs": [],
   "source": [
    "x = dataset.diagnoses.values\n",
    "y = np.array(list(dataset.target))\n"
   ]
  },
  {
   "cell_type": "code",
   "execution_count": 21,
   "id": "fewer-australia",
   "metadata": {},
   "outputs": [],
   "source": [
    "from graph_builders.diagnoses import DiagnosesGraph as Graph\n"
   ]
  },
  {
   "cell_type": "code",
   "execution_count": 22,
   "id": "proof-tracy",
   "metadata": {},
   "outputs": [],
   "source": [
    "validation = get_or_load_data(patients = x,target=y,G = G,embedding_size = embedding_size,graph_type=Graph,embeddings=embeddings,replicate=False,random=False).to(device)"
   ]
  },
  {
   "cell_type": "code",
   "execution_count": 29,
   "id": "empty-discharge",
   "metadata": {},
   "outputs": [
    {
     "data": {
      "text/plain": [
       "tensor([[    0,     0,     0,  ..., 15934, 15935, 15936],\n",
       "        [    0,     1,     2,  ..., 15928, 15928, 15928]], device='cuda:0')"
      ]
     },
     "execution_count": 29,
     "metadata": {},
     "output_type": "execute_result"
    }
   ],
   "source": [
    "validation.edge_index"
   ]
  },
  {
   "cell_type": "code",
   "execution_count": 70,
   "id": "successful-budget",
   "metadata": {},
   "outputs": [],
   "source": [
    "model.eval()\n",
    "with torch.no_grad():\n",
    "    y_pred = model(validation)\n",
    "y_real = validation.target"
   ]
  },
  {
   "cell_type": "code",
   "execution_count": 74,
   "id": "roman-gazette",
   "metadata": {},
   "outputs": [
    {
     "data": {
      "text/plain": [
       "tensor(0.0637, device='cuda:0')"
      ]
     },
     "execution_count": 74,
     "metadata": {},
     "output_type": "execute_result"
    }
   ],
   "source": [
    "k =20\n",
    "sort = y_pred.sort(axis=1,descending=True)\n",
    "y_pred = sort.indices[:,0:k]\n",
    "top_k = y_real.gather(1,y_pred)\n",
    "div = torch.clamp(y_real.sum(dim=1),max=k)\n",
    "    \n",
    "recall = (top_k.sum(dim=1)/div).mean()\n",
    "recall"
   ]
  },
  {
   "cell_type": "code",
   "execution_count": 111,
   "id": "pregnant-volume",
   "metadata": {},
   "outputs": [
    {
     "data": {
      "text/plain": [
       "tensor([[ 0.,  0.,  0.,  0.,  0.,  0.,  0.,  0.,  0.,  0.,  0.,  0.,  0.,  0.,\n",
       "          0.,  0.,  0.,  0.,  0.,  0.],\n",
       "        [ 0.,  0.,  0.,  0.,  0.,  0.,  0.,  0.,  0.,  0.,  0.,  0.,  0.,  0.,\n",
       "          0.,  0.,  0.,  0.,  0.,  0.],\n",
       "        [ 0.,  0.,  0.,  0.,  0.,  0.,  0.,  0.,  0.,  0.,  0.,  0.,  0.,  0.,\n",
       "          0.,  0.,  0.,  0.,  0.,  0.],\n",
       "        [ 0.,  0.,  0.,  0.,  0.,  0.,  0.,  0.,  0.,  0.,  1.,  0.,  0.,  0.,\n",
       "          0.,  0.,  0.,  0.,  0.,  0.],\n",
       "        [ 0.,  0.,  0.,  0.,  0.,  0.,  0.,  0.,  0.,  0.,  0.,  0.,  0.,  0.,\n",
       "          0.,  0.,  0.,  0.,  0.,  0.],\n",
       "        [ 0.,  0.,  0.,  0.,  0., 18.,  0.,  0.,  0.,  0.,  0.,  0.,  0.,  0.,\n",
       "          0.,  0.,  0.,  0.,  0.,  0.],\n",
       "        [ 0.,  0.,  0.,  0.,  0.,  0.,  0.,  0.,  0.,  0.,  0.,  0.,  0.,  0.,\n",
       "          0.,  0.,  0.,  0.,  0.,  0.],\n",
       "        [ 0.,  0.,  0.,  0.,  0.,  0.,  1.,  0.,  0.,  0.,  0.,  0.,  0.,  0.,\n",
       "          0.,  0.,  0.,  0.,  0.,  0.],\n",
       "        [ 0.,  0.,  0.,  0.,  0., 17.,  0.,  0.,  0.,  0.,  0.,  0.,  0.,  0.,\n",
       "          0.,  0.,  0.,  3.,  0.,  0.],\n",
       "        [ 0.,  0.,  0.,  0.,  0.,  0.,  0.,  0.,  0.,  0.,  0.,  0.,  0.,  0.,\n",
       "          0.,  0.,  0.,  0.,  0.,  0.]], device='cuda:0')"
      ]
     },
     "execution_count": 111,
     "metadata": {},
     "output_type": "execute_result"
    }
   ],
   "source": [
    "y_pred *top_k\n",
    "#iloc each index, sum 1\n",
    "#I STILL DONT FULLY GRASP GRAM EVALUATION OMFG"
   ]
  },
  {
   "cell_type": "code",
   "execution_count": 90,
   "id": "rational-repeat",
   "metadata": {},
   "outputs": [
    {
     "data": {
      "text/plain": [
       "1       (-0.1, 20.0]\n",
       "2       (40.0, 60.0]\n",
       "3       (20.0, 40.0]\n",
       "4       (-0.1, 20.0]\n",
       "5       (-0.1, 20.0]\n",
       "            ...     \n",
       "2619    (-0.1, 20.0]\n",
       "2620    (-0.1, 20.0]\n",
       "2621    (-0.1, 20.0]\n",
       "194     (-0.1, 20.0]\n",
       "254     (-0.1, 20.0]\n",
       "Length: 283, dtype: category\n",
       "Categories (5, interval[float64, right]): [(-0.1, 20.0] < (20.0, 40.0] < (40.0, 60.0] < (60.0, 80.0] < (80.0, 100.0]]"
      ]
     },
     "execution_count": 90,
     "metadata": {},
     "output_type": "execute_result"
    }
   ],
   "source": [
    "bins"
   ]
  },
  {
   "cell_type": "code",
   "execution_count": 84,
   "id": "confidential-funds",
   "metadata": {},
   "outputs": [
    {
     "data": {
      "text/plain": [
       "tensor([[0., 0., 0., 0., 0., 0., 0., 0., 0., 0., 0., 0., 0., 0., 0., 0., 0., 0.,\n",
       "         0., 0.],\n",
       "        [0., 0., 0., 0., 0., 0., 0., 0., 0., 0., 0., 0., 0., 0., 0., 0., 0., 0.,\n",
       "         0., 0.],\n",
       "        [0., 0., 0., 0., 0., 0., 0., 0., 0., 0., 0., 0., 0., 0., 0., 0., 0., 0.,\n",
       "         0., 0.],\n",
       "        [0., 0., 0., 0., 0., 0., 0., 0., 0., 0., 1., 0., 0., 0., 0., 0., 0., 0.,\n",
       "         0., 0.],\n",
       "        [0., 0., 0., 0., 0., 0., 0., 0., 0., 0., 0., 0., 0., 0., 0., 0., 0., 0.,\n",
       "         0., 0.],\n",
       "        [0., 0., 0., 0., 0., 1., 0., 0., 0., 0., 0., 0., 0., 0., 0., 0., 0., 0.,\n",
       "         0., 0.],\n",
       "        [0., 0., 0., 0., 0., 0., 0., 0., 0., 0., 0., 0., 0., 0., 0., 0., 0., 0.,\n",
       "         0., 0.],\n",
       "        [0., 0., 0., 0., 0., 0., 1., 0., 0., 0., 0., 0., 0., 0., 0., 0., 0., 0.,\n",
       "         0., 0.],\n",
       "        [0., 0., 0., 0., 0., 1., 0., 0., 0., 0., 0., 0., 0., 0., 0., 0., 0., 1.,\n",
       "         0., 0.],\n",
       "        [0., 0., 0., 0., 0., 0., 0., 0., 0., 0., 0., 0., 0., 0., 0., 0., 0., 0.,\n",
       "         0., 0.]], device='cuda:0')"
      ]
     },
     "execution_count": 84,
     "metadata": {},
     "output_type": "execute_result"
    }
   ],
   "source": [
    "top_k"
   ]
  },
  {
   "cell_type": "code",
   "execution_count": null,
   "id": "preliminary-collective",
   "metadata": {},
   "outputs": [],
   "source": []
  }
 ],
 "metadata": {
  "kernelspec": {
   "display_name": "Geometric",
   "language": "python",
   "name": "pyg"
  },
  "language_info": {
   "codemirror_mode": {
    "name": "ipython",
    "version": 3
   },
   "file_extension": ".py",
   "mimetype": "text/x-python",
   "name": "python",
   "nbconvert_exporter": "python",
   "pygments_lexer": "ipython3",
   "version": "3.9.7"
  }
 },
 "nbformat": 4,
 "nbformat_minor": 5
}
