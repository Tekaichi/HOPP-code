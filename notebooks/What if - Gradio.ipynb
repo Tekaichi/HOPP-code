{
 "cells": [
  {
   "cell_type": "code",
   "execution_count": 51,
   "id": "liquid-absorption",
   "metadata": {},
   "outputs": [
    {
     "name": "stdout",
     "output_type": "stream",
     "text": [
      "This should never happen.. V173\n",
      "Running on local URL:  http://127.0.0.1:7869/\n",
      "\n",
      "To create a public link, set `share=True` in `launch()`.\n"
     ]
    },
    {
     "data": {
      "text/html": [
       "\n",
       "        <iframe\n",
       "            width=\"900\"\n",
       "            height=\"500\"\n",
       "            src=\"http://127.0.0.1:7869/\"\n",
       "            frameborder=\"0\"\n",
       "            allowfullscreen\n",
       "        ></iframe>\n",
       "        "
      ],
      "text/plain": [
       "<IPython.lib.display.IFrame at 0x268c51b86a0>"
      ]
     },
     "metadata": {},
     "output_type": "display_data"
    },
    {
     "data": {
      "text/plain": [
       "(<Flask 'gradio.networking'>, 'http://127.0.0.1:7869/', None)"
      ]
     },
     "execution_count": 51,
     "metadata": {},
     "output_type": "execute_result"
    }
   ],
   "source": [
    "import gradio as gr\n",
    "import pandas as pd\n",
    "import sys\n",
    "sys.path.append(\"..\")\n",
    "import torch\n",
    "from dataset_parsers.MIMIC3 import MIMIC_3\n",
    "from models import OutcomeModel\n",
    "from ICDCodesGrouper import ICDCodesGrouper\n",
    "from utilities import *\n",
    "from Processing import *\n",
    "from graph_builders.single import SingleGraph as Graph\n",
    "import networkx as nx\n",
    "\n",
    "icdcodes = open('../icd_files/CMS32_DESC_SHORT_DX.txt').read().split('\\n')\n",
    "icdcodes = [x.split(' ')[0] for x in icdcodes]\n",
    "df = pd.read_csv(\"../Datasets/MIMIC_3/DIAGNOSES_ICD.csv.gz\", compression='gzip')\n",
    "data = df[df[\"SUBJECT_ID\"] == 23].groupby(\"HADM_ID\")[\"ICD9_CODE\"].apply(lambda x: ','.join(x)).to_frame()\n",
    "data[\"VISIT_NUMBER\"] = [i for i in range(data.shape[0])]\n",
    "\n",
    "embedding_size=512\n",
    "model_path ='../SW-Phenotype-1-512'\n",
    "model = OutcomeModel(embedding_size=embedding_size,n_layers=1)\n",
    "model.load_state_dict(torch.load(model_path))\n",
    "model.eval()\n",
    "\n",
    "icdgrouper = ICDCodesGrouper(ccs_path='../icd_files/CCS-SingleDiagnosisGrouper.txt')\n",
    "all_classes = icdgrouper.get_classes('ccs')\n",
    "patient = lambda x,out: all_classes[out[0].argsort(axis=1,descending=True)[x]]\n",
    "f_name = \"../icd_files/CCS-MultiDiagnosisGrouper.txt\"\n",
    "G= get_or_create_diagnosis_ccs_graph(nx.DiGraph(),f_name,connected=True)\n",
    "embeddings = init_embeddings(embedding_size,poincare = True,G=G,base_path=\"../embeddings\") \n",
    "mimic_path =  \"../Datasets/MIMIC_3\"\n",
    "dataset = MIMIC_3(mimic_path)\n",
    "df = dataset.to_self_supervised(target_grouper = {\"phenotype\":lambda x: icdgrouper.lookup('ccs',x)})\n",
    "df = df.loc[[\"23\"]]\n",
    "\n",
    "def prepare_data(codes):\n",
    "    # this method only allows to add codes to the next visit.\n",
    "    # to create several visits minor alterations need to be made.\n",
    "    new_df = df.copy()\n",
    "    new_df.diagnoses.iloc[0].append(codes) #add new codes to the first row\n",
    "    x = new_df.diagnoses.values\n",
    "    data = get_or_load_data(patients = x,target={},G = G,embedding_size = embedding_size,graph_type=Graph,embeddings=embeddings,replicate=False,random=False)\n",
    "    return data\n",
    "\n",
    "\n",
    "\n",
    "def predict(codes):\n",
    "    history = gr.get_state() or []\n",
    "\n",
    "    codes = codes.split(',')\n",
    "    codes = codes + history\n",
    "    gr.set_state(codes)\n",
    "    #data = data.append(pd.DataFrame({\"VISIT_NUMBER\":data.VISIT_NUMBER.max()+1,\"ICD9_CODE\":codes}))\n",
    "    #add icd_codes to data..\n",
    "    inpt = prepare_data(codes)\n",
    "\n",
    "    res = model(inpt)\n",
    "    #cross ref with labels and use output label\n",
    "    label_names = get_names(patient(0,res),icdgrouper.ccs.names)\n",
    "    scores = res[0].sort(axis=1,descending=True)[0]\n",
    "    labels = dict(zip(label_names,scores.T.detach().numpy().flatten().tolist()))\n",
    "    return data,codes, labels\n",
    "\n",
    "\n",
    "\n",
    "def get_names(sort_tensor,lookup):\n",
    "    res = []\n",
    "    for item in sort_tensor:\n",
    "        res.append(lookup[item])\n",
    "    return res\n",
    "\n",
    "\n",
    "\n",
    "iface = gr.Interface(predict,\n",
    "  [\n",
    "    gr.inputs.Textbox(lines=7)\n",
    "  ],\n",
    "  [\n",
    "   gr.outputs.Dataframe(label=\"Patient history\"),\n",
    "   gr.outputs.Textbox(label=\"Added ICD codes\"),\n",
    "   gr.outputs.Label(label=\"Next predicted codes\",num_top_classes=10)\n",
    "  ],  \n",
    "  examples = icdcodes,\n",
    "  title=\"Enter ICD codes separated by commas\",\n",
    "  allow_flagging=False,\n",
    "  allow_screenshot=False,\n",
    "  article=\"You selected a patient, and are now wondering where his/her health journey is going. In front of you, you have the entire ICD-9 vocabulary.\\nOn your right you can see the patient (real) history, the added ICD-9 codes and the predicted labels. \",\n",
    "  live=True\n",
    "\n",
    ")\n",
    "\n",
    "#iface.test_launch()\n",
    "\n",
    "iface.launch()\n"
   ]
  },
  {
   "cell_type": "code",
   "execution_count": null,
   "id": "baed02a5",
   "metadata": {},
   "outputs": [],
   "source": []
  }
 ],
 "metadata": {
  "interpreter": {
   "hash": "d714598b838b0f3beaa2a8853c8933244e3108a0f6bb0998265172a3c48162aa"
  },
  "kernelspec": {
   "display_name": "Geometric",
   "language": "python",
   "name": "python3"
  },
  "language_info": {
   "codemirror_mode": {
    "name": "ipython",
    "version": 3
   },
   "file_extension": ".py",
   "mimetype": "text/x-python",
   "name": "python",
   "nbconvert_exporter": "python",
   "pygments_lexer": "ipython3",
   "version": "3.9.7"
  }
 },
 "nbformat": 4,
 "nbformat_minor": 5
}
