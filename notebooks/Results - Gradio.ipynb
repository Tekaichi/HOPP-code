{
 "cells": [
  {
   "cell_type": "code",
   "execution_count": 2,
   "id": "moderate-salem",
   "metadata": {},
   "outputs": [],
   "source": [
    "import pandas as pd\n",
    "import numpy as np"
   ]
  },
  {
   "cell_type": "code",
   "execution_count": 3,
   "id": "ff5b526e",
   "metadata": {},
   "outputs": [],
   "source": [
    "all_results = pd.read_pickle(\"../results.pk\")\n",
    "keys = list(all_results.keys())\n",
    "keys = [i for i in keys if \"catastrophic\" not in i]\n",
    "parameters = [i.split(\".\")[1:] for i in keys]\n",
    "parameters = [i for i in parameters if len(i) == 11]\n",
    "parameters = np.array(parameters)\n",
    "parameters = [list(np.unique(parameters[:,i])) for i in range(0,11)]\n",
    "datasets = 0\n",
    "modalities = 1\n",
    "tasks = 2\n",
    "training_strategy = 3\n",
    "dropout = 5\n",
    "label_scheme = 6\n",
    "epochs = 8\n",
    "kg = 10\n",
    "for i in keys:\n",
    "    new_key = '.'.join(i.split(\".\")[0:8]+i.split(\".\")[9:])\n",
    "    all_results[new_key] = all_results[i]\n",
    "    del all_results[i]\n",
    "keys = list(all_results.keys())"
   ]
  },
  {
   "cell_type": "code",
   "execution_count": 4,
   "id": "43fede1a",
   "metadata": {},
   "outputs": [
    {
     "name": "stdout",
     "output_type": "stream",
     "text": [
      "Running on local URL:  http://127.0.0.1:7870/\n",
      "\n",
      "To create a public link, set `share=True` in `launch()`.\n"
     ]
    },
    {
     "data": {
      "text/html": [
       "\n",
       "        <iframe\n",
       "            width=\"900\"\n",
       "            height=\"500\"\n",
       "            src=\"http://127.0.0.1:7870/\"\n",
       "            frameborder=\"0\"\n",
       "            allowfullscreen\n",
       "        ></iframe>\n",
       "        "
      ],
      "text/plain": [
       "<IPython.lib.display.IFrame at 0x243ac879c40>"
      ]
     },
     "metadata": {},
     "output_type": "display_data"
    },
    {
     "data": {
      "text/plain": [
       "(<Flask 'gradio.networking'>, 'http://127.0.0.1:7870/', None)"
      ]
     },
     "execution_count": 4,
     "metadata": {},
     "output_type": "execute_result"
    }
   ],
   "source": [
    "import gradio as gr\n",
    "import re\n",
    "\n",
    "\n",
    "def predict(datasets,modalities,tasks,training_strategy,dropout,label_scheme,epochs,kg):\n",
    "    key = f\"results.{datasets}.{modalities}.{tasks}.{training_strategy}.its:1.{dropout}.{label_scheme}.{epochs}.256.{kg}\"\n",
    "\n",
    "    tasks = tasks.split(',')\n",
    "    \n",
    "    try:\n",
    "      first_task = all_results[key][re.search(\"\\'(.*)\\'\",tasks[0])[1]].apply(pd.Series).astype(float).iloc[:,:5]\n",
    "      first_task.index = ['-'.join(i.split(\"-\")[2:]) for i in first_task.index]\n",
    "      first_task = first_task.sort_index().reset_index()\n",
    "      second_task = pd.DataFrame()\n",
    "      if len(tasks) == 2:\n",
    "        second_task = all_results[key][re.search(\"\\'(.*)\\'\",tasks[1])[1]].apply(pd.Series).astype(float).iloc[:,:5]\n",
    "        second_task.index = ['-'.join(i.split(\"-\")[2:]) for i in second_task.index]\n",
    "        second_task = second_task.sort_index().reset_index()\n",
    "      return first_task,second_task,\"\",\"\"\n",
    "    except Exception as msg:\n",
    "        return pd.DataFrame(),pd.DataFrame(),\"No results were found for that given combination of parameters\",\"The avaliable combinations are: \"+str(keys)\n",
    "\n",
    "iface = gr.Interface(predict,\n",
    "  [\n",
    "    gr.inputs.Dropdown(choices=parameters[datasets]),\n",
    "    gr.inputs.Dropdown(choices=parameters[modalities]),\n",
    "    gr.inputs.Dropdown(choices=parameters[tasks]),\n",
    "    gr.inputs.Dropdown(choices=parameters[training_strategy]),\n",
    "    gr.inputs.Dropdown(choices=parameters[dropout]),\n",
    "    gr.inputs.Dropdown(choices=parameters[label_scheme]),\n",
    "    gr.inputs.Dropdown(choices=parameters[epochs]),\n",
    "    gr.inputs.Dropdown(choices=parameters[kg],label=\"Graph topology\")\n",
    "  ],\n",
    "  [\n",
    "  \"dataframe\",\n",
    "  \"dataframe\",\n",
    "  \"text\",\n",
    "  \"text\"\n",
    "  ],  \n",
    "  \n",
    "  title=\"Select the parameters to see the results\",\n",
    "  allow_flagging=False,\n",
    "  allow_screenshot=False,\n",
    "  live=True\n",
    "\n",
    ")\n",
    "\n",
    "#iface.test_launch()\n",
    "\n",
    "iface.launch()\n"
   ]
  },
  {
   "cell_type": "code",
   "execution_count": null,
   "id": "f3a78f7a",
   "metadata": {},
   "outputs": [],
   "source": []
  }
 ],
 "metadata": {
  "interpreter": {
   "hash": "d714598b838b0f3beaa2a8853c8933244e3108a0f6bb0998265172a3c48162aa"
  },
  "kernelspec": {
   "display_name": "Geometric",
   "language": "python",
   "name": "python3"
  },
  "language_info": {
   "codemirror_mode": {
    "name": "ipython",
    "version": 3
   },
   "file_extension": ".py",
   "mimetype": "text/x-python",
   "name": "python",
   "nbconvert_exporter": "python",
   "pygments_lexer": "ipython3",
   "version": "3.9.7"
  }
 },
 "nbformat": 4,
 "nbformat_minor": 5
}
