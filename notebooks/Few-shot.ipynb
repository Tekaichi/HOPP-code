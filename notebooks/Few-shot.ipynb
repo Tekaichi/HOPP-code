{
 "cells": [
  {
   "cell_type": "code",
   "execution_count": 2,
   "id": "eleven-friendship",
   "metadata": {},
   "outputs": [],
   "source": [
    "def compute_groups(x):\n",
    "    groups = {}\n",
    "    for item in x:\n",
    "        try:\n",
    "            groups[item] = groups[item] +1\n",
    "        except KeyError:\n",
    "            groups[item] = 1\n",
    "    return groups\n",
    "\n",
    "def get_result(x):\n",
    "    test = x['test']\n",
    "    results = {}\n",
    "    for key,value in test.items():\n",
    "        try:\n",
    "            results[key] = value/x[key]\n",
    "        except KeyError:\n",
    "            results[key] = value\n",
    "    return results\n",
    "    \n",
    "def eval_few_shot(pred,percentile,ks=[5,15,20,30]):\n",
    "\n",
    "    top_k = lambda k: pred.argsort(axis=1,descending=True)[:,:k]\n",
    "    real = validation.target['phenotype'].to(torch.int64)\n",
    "    result ={}\n",
    "    for k in ks:\n",
    "        top = top_k(k)\n",
    "        top_pred = torch.gather(real,1,top)\n",
    "        percentile_aux = percentile.copy()\n",
    "        percentile_aux.loc[0,0] =None\n",
    "        percentile_aux = percentile_aux.sort_index()\n",
    "        top_k_g = pd.DataFrame((top+1)*top_pred).applymap(lambda x:percentile_aux.iloc[x.item()].values[0])\n",
    "        evaluation = grp.copy()\n",
    "        evaluation['test'] = top_k_g.apply(compute_groups,axis=1)\n",
    "        result[k] = evaluation.apply(get_result,axis=1).apply(pd.Series).mean()\n",
    "    return result"
   ]
  },
  {
   "cell_type": "code",
   "execution_count": 3,
   "id": "accessible-essence",
   "metadata": {},
   "outputs": [],
   "source": [
    "def load_model(device='cpu',n_layer=1,ancestry='full',embedding_size=512,dataset='mimic'):\n",
    "    model = OutcomeModel(embedding_size = embedding_size,n_layers=n_layer,output_pathway = [283])\n",
    "\n",
    "\n",
    "    model.load_state_dict(torch.load(f\"models/{dataset}/['diagnoses']/['phenotype']/normal/its:1/dropout/ccs/[283]/25/256/ancestry:{ancestry}/SW-Phenotype-{n_layer}-{embedding_size}\",map_location='cpu'))\n",
    "\n",
    "    model = model.to(device)\n",
    "    model.eval()\n",
    "    return model"
   ]
  },
  {
   "cell_type": "code",
   "execution_count": 9,
   "id": "humanitarian-amazon",
   "metadata": {},
   "outputs": [],
   "source": [
    "import sys\n",
    "sys.path.append(\"..\")\n",
    "\n",
    "from models import OutcomeModel\n",
    "from dataset_parsers.MIMIC3 import MIMIC_3\n",
    "from dataset_parsers.eICU import eICU\n",
    "from utilities import *\n",
    "from Processing import *\n",
    "from graph_builders.single import SingleGraph as Graph\n",
    "import pandas as pd\n",
    "import networkx as nx\n",
    "from ICDCodesGrouper import ICDCodesGrouper\n",
    "icdgrouper = ICDCodesGrouper(ccs_path='../icd_files/CCS-SingleDiagnosisGrouper.txt',ccs_procedure_path='../icd_files/CCS-SingleProceduresGrouper.txt')"
   ]
  },
  {
   "cell_type": "code",
   "execution_count": 12,
   "id": "bridal-sending",
   "metadata": {},
   "outputs": [],
   "source": [
    "#Do this for eICU\n",
    "dataset_name = 'mimic'\n",
    "\n",
    "if dataset_name == 'mimic':\n",
    "    mimic_path =  \"../Datasets/MIMIC_3/\"\n",
    "    dataset = MIMIC_3(mimic_path)\n",
    "    frequency_mimic = dataset.get_tabular().diagnoses.apply(lambda x: icdgrouper.lookup('ccs',x)).value_counts()\n",
    "    mimic_visits = dataset.get_tabular(dropna=False).HADM_ID.nunique()\n",
    "    cuts = pd.cut((frequency_mimic/mimic_visits).values,5,labels=[\"0-20\",\"20-40\",\"40-60\",\"60-80\",\"80-100\"])\n",
    "    percentile = pd.DataFrame(index=frequency_mimic.index,data=cuts)\n",
    "    percentile =  pd.DataFrame(icdgrouper.get_classes('ccs')).set_index(0).merge(percentile,right_index=True,left_index=True,how='outer').fillna(\"0-20\").sort_index()\n",
    "else:\n",
    "    eicu_path =  \"../Datasets/eICU/\"\n",
    "    dataset = eICU(eicu_path)\n",
    "    df = dataset.get_tabular()\n",
    "    frequency_eicu = df.groupby(\"patientunitstayid\")['diagnoses'].apply(set).explode().apply(lambda x: icdgrouper.lookup('ccs',x)).value_counts()\n",
    "    eicu_visits = df.patientunitstayid.nunique()\n",
    "    cuts = pd.cut((frequency_eicu/eicu_visits).values,5,labels=[\"0-20\",\"20-40\",\"40-60\",\"60-80\",\"80-100\"])\n",
    "    percentile = pd.DataFrame(index=frequency_eicu.index,data=cuts)\n",
    "    percentile =  pd.DataFrame(icdgrouper.get_classes('ccs')).set_index(0).merge(percentile,right_index=True,left_index=True,how='outer').fillna(\"0-20\").sort_index()"
   ]
  },
  {
   "cell_type": "code",
   "execution_count": 14,
   "id": "postal-vision",
   "metadata": {},
   "outputs": [
    {
     "name": "stdout",
     "output_type": "stream",
     "text": [
      "Wall time: 548 ms\n"
     ]
    }
   ],
   "source": [
    "%%time\n",
    "df = dataset.to_self_supervised(target_grouper = {\"phenotype\":lambda x: icdgrouper.lookup('ccs',x)})\n",
    "\n",
    "df = df.sample(5000)#this will fail if you did not retrieve the full dataset.\n"
   ]
  },
  {
   "cell_type": "code",
   "execution_count": 10,
   "id": "international-senator",
   "metadata": {},
   "outputs": [],
   "source": [
    "tasks = ['phenotype']\n",
    "from sklearn.preprocessing import MultiLabelBinarizer\n",
    "all_classes = icdgrouper.get_classes('ccs')\n",
    "mlb = MultiLabelBinarizer(classes=all_classes)\n",
    "multi_hot = mlb.fit_transform(df.phenotype)\n",
    "df.phenotype = list(multi_hot)\n",
    "x = df.diagnoses.values\n",
    "y ={}\n",
    "for task in tasks:\n",
    "    dim = len(np.array(list(df[task])).shape)\n",
    "    y[task] = multi_hot\n"
   ]
  },
  {
   "cell_type": "code",
   "execution_count": 11,
   "id": "hybrid-plymouth",
   "metadata": {},
   "outputs": [],
   "source": [
    "device = 'cpu'\n",
    "embedding_size = 512\n",
    "n_layer = 1\n",
    "f_name = \"../icd_files/CCS-MultiDiagnosisGrouper.txt\"\n",
    "\n"
   ]
  },
  {
   "cell_type": "code",
   "execution_count": 12,
   "id": "limiting-ecuador",
   "metadata": {},
   "outputs": [
    {
     "name": "stdout",
     "output_type": "stream",
     "text": [
      "This should never happen.. V173\n",
      "This should never happen.. V173\n"
     ]
    },
    {
     "name": "stderr",
     "output_type": "stream",
     "text": [
      "/notebooks/Experiments/Notebooks/utilities.py:95: UserWarning: To copy construct from a tensor, it is recommended to use sourceTensor.clone().detach() or sourceTensor.clone().detach().requires_grad_(True), rather than torch.tensor(sourceTensor).\n",
      "  to_tensor = lambda x:torch.tensor(x).float()\n"
     ]
    },
    {
     "name": "stdout",
     "output_type": "stream",
     "text": [
      "This should never happen.. V173\n"
     ]
    },
    {
     "name": "stderr",
     "output_type": "stream",
     "text": [
      "/notebooks/Experiments/Notebooks/utilities.py:95: UserWarning: To copy construct from a tensor, it is recommended to use sourceTensor.clone().detach() or sourceTensor.clone().detach().requires_grad_(True), rather than torch.tensor(sourceTensor).\n",
      "  to_tensor = lambda x:torch.tensor(x).float()\n"
     ]
    }
   ],
   "source": [
    "real = y[tasks[0]]\n",
    "df = pd.DataFrame(real).T\n",
    "df.index = percentile.values\n",
    "grp = df.groupby(df.index).apply(sum)\n",
    "grp = grp.T\n",
    "grp.columns = [\"0-20\",\"20-40\",\"40-60\",\"60-80\",\"80-100\"]\n",
    "ancestries = ['full','partial','no']\n",
    "\n",
    "results = []\n",
    "for ancestry in ancestries:\n",
    "    G,idx,hierarchy = get_or_create_diagnosis_ccs_graph(nx.DiGraph(),f_name,connected=ancestry in ['full','no'],return_idx=True)\n",
    "\n",
    "    model = load_model(device=device,n_layer=n_layer,ancestry=ancestry,embedding_size=embedding_size,dataset=dataset_name)\n",
    "    if ancestry =='no':\n",
    "        G =nx.subgraph(G, list(idx.keys()))\n",
    "        embeddings = init_embeddings(embedding_size,poincare = True,G=G) \n",
    "        embeddings = embeddings[list(idx.values())]\n",
    "    else:\n",
    "        embeddings = init_embeddings(embedding_size,poincare = True,G=G) \n",
    "    #I think this can be optimized.\n",
    "    validation = get_or_load_data(patients = x,target=y,G = G,embedding_size = embedding_size,graph_type=Graph,embeddings=embeddings,replicate=False,random=False).to(device)\n",
    "    out = model(validation)\n",
    "    results.append(eval_few_shot(out[0],percentile))"
   ]
  },
  {
   "cell_type": "code",
   "execution_count": 13,
   "id": "fifth-arena",
   "metadata": {},
   "outputs": [],
   "source": [
    "df = pd.concat([pd.DataFrame(item) for item in results],axis=1)\n",
    "ks = [5,15,20,30]\n",
    "index = pd.MultiIndex.from_product([ancestries,ks])\n",
    "df = df.T[grp.columns]\n",
    "df.index = index\n",
    "df = df.T\n",
    "df = df.applymap(lambda x: round(x,2))"
   ]
  },
  {
   "cell_type": "code",
   "execution_count": 15,
   "id": "victorian-phenomenon",
   "metadata": {},
   "outputs": [
    {
     "data": {
      "text/plain": [
       "<AxesSubplot:>"
      ]
     },
     "execution_count": 15,
     "metadata": {},
     "output_type": "execute_result"
    },
    {
     "data": {
      "image/png": "[encoded data removed]",
      "text/plain": [
       "<Figure size 1080x720 with 1 Axes>"
      ]
     },
     "metadata": {
      "needs_background": "light"
     },
     "output_type": "display_data"
    }
   ],
   "source": [
    "df.loc[:, (slice(None), 20)].plot(kind='bar',figsize=(15,10))\n"
   ]
  },
  {
   "cell_type": "code",
   "execution_count": 26,
   "id": "equipped-aquarium",
   "metadata": {},
   "outputs": [
    {
     "data": {
      "image/png": "[encoded data removed]",
      "text/plain": [
       "<Figure size 1080x720 with 1 Axes>"
      ]
     },
     "metadata": {
      "needs_background": "light"
     },
     "output_type": "display_data"
    }
   ],
   "source": [
    "df.loc[:, (slice(None), 20)].plot(kind='bar',figsize=(15,10),legend=False).get_figure().savefig(\"fewshotm.png\")"
   ]
  }
 ],
 "metadata": {
  "interpreter": {
   "hash": "d714598b838b0f3beaa2a8853c8933244e3108a0f6bb0998265172a3c48162aa"
  },
  "kernelspec": {
   "display_name": "Geometric",
   "language": "python",
   "name": "python3"
  },
  "language_info": {
   "codemirror_mode": {
    "name": "ipython",
    "version": 3
   },
   "file_extension": ".py",
   "mimetype": "text/x-python",
   "name": "python",
   "nbconvert_exporter": "python",
   "pygments_lexer": "ipython3",
   "version": "3.9.7"
  }
 },
 "nbformat": 4,
 "nbformat_minor": 5
}
