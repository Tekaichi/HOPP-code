{
 "cells": [
  {
   "cell_type": "code",
   "execution_count": 68,
   "id": "common-billy",
   "metadata": {},
   "outputs": [],
   "source": [
    "from models import OutcomeModel\n",
    "from MIMIC3 import MIMIC_3\n",
    "from eICU import eICU\n",
    "from utilities import *\n",
    "from Processing import *\n",
    "from graph_builders.diagnoses import DiagnosesGraph as Graph\n",
    "\n",
    "import networkx as nx"
   ]
  },
  {
   "cell_type": "code",
   "execution_count": 69,
   "id": "manual-gossip",
   "metadata": {},
   "outputs": [],
   "source": [
    "#Get input\n",
    "#Check results"
   ]
  },
  {
   "cell_type": "code",
   "execution_count": 70,
   "id": "ancient-chemistry",
   "metadata": {},
   "outputs": [],
   "source": [
    "mimic_path =  \"/notebooks/Experiments/Datasets/MIMIC 3/\"\n",
    "dataset = MIMIC_3(mimic_path,save_steps = True)"
   ]
  },
  {
   "cell_type": "code",
   "execution_count": 71,
   "id": "unauthorized-serbia",
   "metadata": {},
   "outputs": [],
   "source": [
    "eicu_path =\"/notebooks/Experiments/Datasets/eICU/\"\n",
    "dataset = eICU(eicu_path)"
   ]
  },
  {
   "cell_type": "code",
   "execution_count": 74,
   "id": "clean-practitioner",
   "metadata": {},
   "outputs": [
    {
     "name": "stdout",
     "output_type": "stream",
     "text": [
      "CPU times: user 22.9 s, sys: 1.03 s, total: 23.9 s\n",
      "Wall time: 28.7 s\n"
     ]
    }
   ],
   "source": [
    "%%time\n",
    "df = dataset.get_label().sample(2500)\n"
   ]
  },
  {
   "cell_type": "code",
   "execution_count": 75,
   "id": "nonprofit-divide",
   "metadata": {},
   "outputs": [
    {
     "data": {
      "text/plain": [
       "102"
      ]
     },
     "execution_count": 75,
     "metadata": {},
     "output_type": "execute_result"
    }
   ],
   "source": [
    "df.mortality.sum()"
   ]
  },
  {
   "cell_type": "code",
   "execution_count": 76,
   "id": "noble-coast",
   "metadata": {},
   "outputs": [
    {
     "data": {
      "text/html": [
       "<div>\n",
       "<style scoped>\n",
       "    .dataframe tbody tr th:only-of-type {\n",
       "        vertical-align: middle;\n",
       "    }\n",
       "\n",
       "    .dataframe tbody tr th {\n",
       "        vertical-align: top;\n",
       "    }\n",
       "\n",
       "    .dataframe thead th {\n",
       "        text-align: right;\n",
       "    }\n",
       "</style>\n",
       "<table border=\"1\" class=\"dataframe\">\n",
       "  <thead>\n",
       "    <tr style=\"text-align: right;\">\n",
       "      <th></th>\n",
       "      <th>diagnoses</th>\n",
       "      <th>mortality</th>\n",
       "    </tr>\n",
       "    <tr>\n",
       "      <th>uniquepid</th>\n",
       "      <th></th>\n",
       "      <th></th>\n",
       "    </tr>\n",
       "  </thead>\n",
       "  <tbody>\n",
       "    <tr>\n",
       "      <th>015-94201</th>\n",
       "      <td>[[4280, 4289, 4280, 4289, 79902, 51881], [4280...</td>\n",
       "      <td>0</td>\n",
       "    </tr>\n",
       "    <tr>\n",
       "      <th>006-238186</th>\n",
       "      <td>[[1983, 1983, 4329, 4329, 4329, 4329, 4329, 43...</td>\n",
       "      <td>0</td>\n",
       "    </tr>\n",
       "    <tr>\n",
       "      <th>016-7138</th>\n",
       "      <td>[[29181, 29181, 29181, 29181, 29181, 29181, 29...</td>\n",
       "      <td>0</td>\n",
       "    </tr>\n",
       "    <tr>\n",
       "      <th>006-151795</th>\n",
       "      <td>[[51881, 51881, 0389, 0389, 0389, 0389, 51881,...</td>\n",
       "      <td>0</td>\n",
       "    </tr>\n",
       "    <tr>\n",
       "      <th>031-11590</th>\n",
       "      <td>[[5856, 5856, 5789, 5789, 99592, 99592, 2859, ...</td>\n",
       "      <td>0</td>\n",
       "    </tr>\n",
       "    <tr>\n",
       "      <th>...</th>\n",
       "      <td>...</td>\n",
       "      <td>...</td>\n",
       "    </tr>\n",
       "    <tr>\n",
       "      <th>021-145624</th>\n",
       "      <td>[[486, 486, 51881, 51881, 436, 436], [51882, 4...</td>\n",
       "      <td>0</td>\n",
       "    </tr>\n",
       "    <tr>\n",
       "      <th>006-115297</th>\n",
       "      <td>[[42731, 42731, 42781, 42781, 42781, 42781, 42...</td>\n",
       "      <td>0</td>\n",
       "    </tr>\n",
       "    <tr>\n",
       "      <th>006-137144</th>\n",
       "      <td>[[4280, 4289, 4280, 4289, 2869, 2867, 2869, 28...</td>\n",
       "      <td>0</td>\n",
       "    </tr>\n",
       "    <tr>\n",
       "      <th>006-164271</th>\n",
       "      <td>[[0389, 0389, 0389, 0389, 0389, 0389], [41090,...</td>\n",
       "      <td>1</td>\n",
       "    </tr>\n",
       "    <tr>\n",
       "      <th>022-106807</th>\n",
       "      <td>[[49391, 49391], [5845, 5845, 486, 486, 51881,...</td>\n",
       "      <td>0</td>\n",
       "    </tr>\n",
       "  </tbody>\n",
       "</table>\n",
       "<p>2500 rows × 2 columns</p>\n",
       "</div>"
      ],
      "text/plain": [
       "                                                    diagnoses  mortality\n",
       "uniquepid                                                               \n",
       "015-94201   [[4280, 4289, 4280, 4289, 79902, 51881], [4280...          0\n",
       "006-238186  [[1983, 1983, 4329, 4329, 4329, 4329, 4329, 43...          0\n",
       "016-7138    [[29181, 29181, 29181, 29181, 29181, 29181, 29...          0\n",
       "006-151795  [[51881, 51881, 0389, 0389, 0389, 0389, 51881,...          0\n",
       "031-11590   [[5856, 5856, 5789, 5789, 99592, 99592, 2859, ...          0\n",
       "...                                                       ...        ...\n",
       "021-145624  [[486, 486, 51881, 51881, 436, 436], [51882, 4...          0\n",
       "006-115297  [[42731, 42731, 42781, 42781, 42781, 42781, 42...          0\n",
       "006-137144  [[4280, 4289, 4280, 4289, 2869, 2867, 2869, 28...          0\n",
       "006-164271  [[0389, 0389, 0389, 0389, 0389, 0389], [41090,...          1\n",
       "022-106807  [[49391, 49391], [5845, 5845, 486, 486, 51881,...          0\n",
       "\n",
       "[2500 rows x 2 columns]"
      ]
     },
     "execution_count": 76,
     "metadata": {},
     "output_type": "execute_result"
    }
   ],
   "source": [
    "df"
   ]
  },
  {
   "cell_type": "code",
   "execution_count": 77,
   "id": "modified-single",
   "metadata": {},
   "outputs": [],
   "source": [
    "dataset = df.sample(int(df.shape[0]*0.25))\n",
    "tasks = ['mortality']\n",
    "\n",
    "x = dataset.diagnoses.values\n",
    "y ={}\n",
    "for task in tasks:\n",
    "    dim = len(np.array(list(dataset[task])).shape)\n",
    "    y[task] = np.array(list(dataset[task]))\n",
    "    if task=='mortality':\n",
    "        y[task] = y[task].reshape(-1,1)\n"
   ]
  },
  {
   "cell_type": "code",
   "execution_count": 78,
   "id": "frequent-coupon",
   "metadata": {},
   "outputs": [
    {
     "name": "stdout",
     "output_type": "stream",
     "text": [
      "This should never happen.. V173\n"
     ]
    }
   ],
   "source": [
    "G = nx.DiGraph()\n",
    "f_name = \"CCS-MultiDiagnosisGrouper.txt\"\n",
    "\n",
    "G = get_or_create_diagnosis_ccs_graph(G,f_name,connected=True)\n"
   ]
  },
  {
   "cell_type": "code",
   "execution_count": 79,
   "id": "worse-lounge",
   "metadata": {},
   "outputs": [],
   "source": [
    "device = 'cpu'\n",
    "embedding_size = 50\n",
    "n_layer = 0"
   ]
  },
  {
   "cell_type": "code",
   "execution_count": 81,
   "id": "pediatric-blink",
   "metadata": {},
   "outputs": [],
   "source": [
    "#LOAD MODEL\n",
    "model = OutcomeModel(embedding_size = embedding_size,n_layers=n_layer,output_pathway = [1])\n",
    "\n",
    "tasks = ['mortality']\n",
    "#file = f\"models/mimic/['diagnoses']/{tasks}/normal/its:1/dropout/ccs/[283,1]/25/256/SW-Phenotype-{n_layer}-{embedding_size}-causal:False\"\n",
    "#model.load_state_dict(torch.load(file,map_location='cpu'))\n"
   ]
  },
  {
   "cell_type": "code",
   "execution_count": null,
   "id": "southern-column",
   "metadata": {},
   "outputs": [],
   "source": []
  },
  {
   "cell_type": "code",
   "execution_count": 82,
   "id": "sorted-relevance",
   "metadata": {},
   "outputs": [
    {
     "name": "stdout",
     "output_type": "stream",
     "text": [
      "CPU times: user 96 ms, sys: 3.98 ms, total: 100 ms\n",
      "Wall time: 51 ms\n"
     ]
    }
   ],
   "source": [
    "%%time\n",
    "embeddings = init_embeddings(embedding_size,poincare = True,G=G) \n"
   ]
  },
  {
   "cell_type": "code",
   "execution_count": 83,
   "id": "congressional-service",
   "metadata": {},
   "outputs": [
    {
     "name": "stdout",
     "output_type": "stream",
     "text": [
      "CPU times: user 38.6 s, sys: 276 ms, total: 38.9 s\n",
      "Wall time: 13.7 s\n"
     ]
    }
   ],
   "source": [
    "%%time\n",
    "validation = get_or_load_data(patients = x,target=y,G = G,embedding_size = embedding_size,graph_type=Graph,embeddings=embeddings,replicate=False,random=False).to(device)"
   ]
  },
  {
   "cell_type": "code",
   "execution_count": 84,
   "id": "productive-science",
   "metadata": {},
   "outputs": [],
   "source": [
    "validation = validation.to(device)"
   ]
  },
  {
   "cell_type": "code",
   "execution_count": 85,
   "id": "thick-sociology",
   "metadata": {},
   "outputs": [
    {
     "data": {
      "text/plain": [
       "tensor(27.)"
      ]
     },
     "execution_count": 85,
     "metadata": {},
     "output_type": "execute_result"
    }
   ],
   "source": [
    "validation.target['mortality'].sum()"
   ]
  },
  {
   "cell_type": "code",
   "execution_count": 89,
   "id": "bound-vegetarian",
   "metadata": {},
   "outputs": [
    {
     "data": {
      "text/plain": [
       "torch.Size([625, 1])"
      ]
     },
     "execution_count": 89,
     "metadata": {},
     "output_type": "execute_result"
    }
   ],
   "source": [
    "validation.target['mortality'].shape"
   ]
  },
  {
   "cell_type": "code",
   "execution_count": 87,
   "id": "allied-detective",
   "metadata": {},
   "outputs": [],
   "source": [
    "out = model(validation)"
   ]
  },
  {
   "cell_type": "code",
   "execution_count": 88,
   "id": "unauthorized-democrat",
   "metadata": {},
   "outputs": [
    {
     "name": "stdout",
     "output_type": "stream",
     "text": [
      "{'mortality': {'sensivity': 1.0, 'tp': 27, 'fn': 0, 'fp': 598, 'tn': 0, 'specificity': 0.0, 'died': 27.0, 'accuracy': 0.0432}}\n"
     ]
    },
    {
     "data": {
      "text/plain": [
       "{'mortality': {'sensivity': 1.0,\n",
       "  'tp': 27,\n",
       "  'fn': 0,\n",
       "  'fp': 598,\n",
       "  'tn': 0,\n",
       "  'specificity': 0.0,\n",
       "  'died': 27.0,\n",
       "  'accuracy': 0.0432}}"
      ]
     },
     "execution_count": 88,
     "metadata": {},
     "output_type": "execute_result"
    }
   ],
   "source": [
    "validate(out,validation.target)"
   ]
  },
  {
   "cell_type": "code",
   "execution_count": 55,
   "id": "naval-progress",
   "metadata": {},
   "outputs": [],
   "source": [
    "def fnrate(y_pred,y_real):\n",
    "    y_pred = y_pred.cpu().detach().numpy()\n",
    "    y_real = y_real.cpu().detach().numpy()\n",
    "    c_matrix = confusion_matrix(y_real, y_pred.round(),labels=[0,1])\n",
    "    tn, fp, fn, tp  =c_matrix.ravel()\n",
    "    #return {\"False Negative Rate\":fn/(tp+fn),\n",
    "    return {\"sensivity\":    tp / (tp + fn), \"tp\":tp,\"fn\":fn,\"fp\":fp,\"tn\":tn,\"specificity\":tn/(tn+fp)}"
   ]
  },
  {
   "cell_type": "code",
   "execution_count": 58,
   "id": "registered-respect",
   "metadata": {},
   "outputs": [],
   "source": [
    "y_pred = out[0]\n",
    "y_real = validation.target['mortality']"
   ]
  },
  {
   "cell_type": "code",
   "execution_count": 59,
   "id": "active-rental",
   "metadata": {},
   "outputs": [
    {
     "data": {
      "text/plain": [
       "{'sensivity': 0.9977011494252873,\n",
       " 'tp': 434,\n",
       " 'fn': 1,\n",
       " 'fp': 11314,\n",
       " 'tn': 1,\n",
       " 'specificity': 8.837825894829872e-05}"
      ]
     },
     "execution_count": 59,
     "metadata": {},
     "output_type": "execute_result"
    }
   ],
   "source": [
    "fnrate(y_pred,y_real)"
   ]
  },
  {
   "cell_type": "code",
   "execution_count": 65,
   "id": "professional-forth",
   "metadata": {},
   "outputs": [
    {
     "data": {
      "text/plain": [
       "torch.Size([11750, 1])"
      ]
     },
     "execution_count": 65,
     "metadata": {},
     "output_type": "execute_result"
    }
   ],
   "source": [
    "y_pred.shape"
   ]
  },
  {
   "cell_type": "code",
   "execution_count": 66,
   "id": "defined-questionnaire",
   "metadata": {},
   "outputs": [
    {
     "data": {
      "text/plain": [
       "torch.Size([11750, 1])"
      ]
     },
     "execution_count": 66,
     "metadata": {},
     "output_type": "execute_result"
    }
   ],
   "source": [
    "y_real.shape"
   ]
  },
  {
   "cell_type": "code",
   "execution_count": 26,
   "id": "catholic-acquisition",
   "metadata": {},
   "outputs": [
    {
     "data": {
      "text/plain": [
       "tensor(10162)"
      ]
     },
     "execution_count": 26,
     "metadata": {},
     "output_type": "execute_result"
    }
   ],
   "source": [
    "(validation.target['mortality'] == out[0].round()).sum()\n"
   ]
  },
  {
   "cell_type": "code",
   "execution_count": 33,
   "id": "rough-stupid",
   "metadata": {},
   "outputs": [
    {
     "data": {
      "text/plain": [
       "tensor(0)"
      ]
     },
     "execution_count": 33,
     "metadata": {},
     "output_type": "execute_result"
    }
   ],
   "source": [
    "((validation.target['mortality'] == 1) & (out[0].round()==1)).sum()"
   ]
  },
  {
   "cell_type": "code",
   "execution_count": null,
   "id": "otherwise-deadline",
   "metadata": {},
   "outputs": [],
   "source": []
  }
 ],
 "metadata": {
  "kernelspec": {
   "display_name": "Geometric",
   "language": "python",
   "name": "pyg"
  },
  "language_info": {
   "codemirror_mode": {
    "name": "ipython",
    "version": 3
   },
   "file_extension": ".py",
   "mimetype": "text/x-python",
   "name": "python",
   "nbconvert_exporter": "python",
   "pygments_lexer": "ipython3",
   "version": "3.9.7"
  }
 },
 "nbformat": 4,
 "nbformat_minor": 5
}
